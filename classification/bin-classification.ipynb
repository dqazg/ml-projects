{
 "cells": [
  {
   "cell_type": "markdown",
   "id": "39a4a2e3-9454-41b3-9765-c3575e7ddf22",
   "metadata": {},
   "source": [
    "# Data Preprocessing and Binary Classification\n",
    "\n",
    "In this project, I focus on predicting the survival of Titanic passengers. The task involves data preprocessing and building a binary classification model to predict the target variable.\n",
    "\n",
    "### Data source\n",
    "The dataset I used is based on the Titanic survival prediction problem. I have training data in a file called data.csv and evaluation data in evaluation.csv.\n",
    "\n",
    "### List of features\n",
    "- survived: Whether the passenger survived (0 = No, 1 = Yes) — this is the target variable that I aim to predict.\n",
    "- pclass: Class of the ticket (1 = First, 2 = Second, 3 = Third).\n",
    "- name: Name of the passenger.\n",
    "- sex: Gender of the passenger.\n",
    "- age: Age of the passenger in years.\n",
    "- sibsp: Number of siblings/spouses aboard.\n",
    "- parch: Number of parents/children aboard.\n",
    "- ticket: Ticket number.\n",
    "- fare: Fare of the ticket.\n",
    "- cabin: Cabin number.\n",
    "- embarked: Embarkation point (C = Cherbourg, Q = Queenstown, S = Southampton).\n",
    "- home.dest: Home or destination.\n",
    "\n",
    "### Project steps\n",
    "In this project, I performed the following steps to build and evaluate a binary classification model:\n",
    "\n",
    "#### 1. Data loading and splitting:\n",
    "\n",
    "I loaded the data from the data.csv file and split it into subsets for training, validation, and testing. This helped in evaluating and comparing different models effectively.\n",
    "\n",
    "#### 2. Data preprocessing:\n",
    "\n",
    "I performed the following preprocessing tasks on the data:\n",
    "\n",
    "- Feature transformation: I converted non-numeric features like sex, embarked, and name into numerical representations suitable for modeling.\n",
    "- Feature engineering: I created additional features like the length of the name and removed irrelevant ones.\n",
    "- Missing values: I handled missing values using appropriate strategies such as mean imputation or dropping rows with missing values.\n",
    "- Visualizations: I used data visualizations to better understand the relationships between features and their impact on the target variable.\n",
    "\n",
    "#### 3. Model building and evaluation:\n",
    "\n",
    "I applied different machine learning models to the preprocessed data:\n",
    "- Decision Tree Classifier: I evaluated the decision tree model for its suitability in handling categorical features and non-linear relationships.\n",
    "- K-Nearest Neighbors (KNN): I tested the KNN model to assess its performance in classification tasks with distance-based decisions.\n",
    "\n",
    "For each model, I:\n",
    "- Analyzed the suitability of the model for the task.\n",
    "Tuned hyperparameters to find the best values.\n",
    "- Evaluated the model's performance by calculating F1 score, plotting the ROC curve, and determining the AUC.\n",
    "\n",
    "#### 4. Final model selection:\n",
    "After testing the models, I selected the best-performing one and assessed how well it could generalize to unseen data. I estimated the model’s expected accuracy on new data that I hadn’t used for training or validation.\n",
    "\n",
    "#### 5. Model predictions:\n",
    "I used the final model to make predictions on the evaluation data from evaluation.csv. The resulting predictions, along with the passenger IDs, were saved in a file called results.csv."
   ]
  },
  {
   "cell_type": "markdown",
   "id": "f0d27a2c-12d5-4187-8b9f-63d8b5b188fb",
   "metadata": {},
   "source": [
    "### I. Data loading and preprocessing\n",
    "First, it's necessary to import the required packages and load the files that will be worked with."
   ]
  },
  {
   "cell_type": "code",
   "id": "be951dfe-46be-4695-8a1c-d85c51a5fb4d",
   "metadata": {
    "ExecuteTime": {
     "end_time": "2025-05-08T17:53:08.245278Z",
     "start_time": "2025-05-08T17:53:08.238326Z"
    }
   },
   "source": [
    "import math\n",
    "import pandas as pd\n",
    "import numpy as np\n",
    "import matplotlib.pyplot as plt\n",
    "import seaborn as sns\n",
    "\n",
    "passengers = pd.read_csv('data.csv')\n",
    "evalpsngrs = pd.read_csv('evaluation.csv')"
   ],
   "outputs": [],
   "execution_count": 1
  },
  {
   "cell_type": "markdown",
   "id": "328db133-8ea3-4e48-9063-959c17d52949",
   "metadata": {},
   "source": "For greater accuracy in the following steps, it's essential to carefully examine the data on which the models will be built. It's useful to print the number of rows and columns (shape), basic information about the dataset (info), and the first 5 rows (head) for clarity on the data types and their contents. Afterward, it's possible to check how many missing values are in the dataset, and similar checks can be done."
  },
  {
   "cell_type": "code",
   "id": "f0c5d6db-d622-4d08-94fd-6a5e09a127ac",
   "metadata": {
    "ExecuteTime": {
     "end_time": "2025-05-08T17:53:08.258884Z",
     "start_time": "2025-05-08T17:53:08.256450Z"
    }
   },
   "source": [
    "print(passengers.shape)\n",
    "print(evalpsngrs.shape)"
   ],
   "outputs": [
    {
     "name": "stdout",
     "output_type": "stream",
     "text": [
      "(1000, 13)\n",
      "(309, 12)\n"
     ]
    }
   ],
   "execution_count": 2
  },
  {
   "cell_type": "code",
   "id": "a8cd52d9-d5e0-4dae-b8e3-486e04f10a05",
   "metadata": {
    "ExecuteTime": {
     "end_time": "2025-05-08T17:53:08.447469Z",
     "start_time": "2025-05-08T17:53:08.432209Z"
    }
   },
   "source": [
    "passengers.info()\n",
    "passengers.head()"
   ],
   "outputs": [
    {
     "name": "stdout",
     "output_type": "stream",
     "text": [
      "<class 'pandas.core.frame.DataFrame'>\n",
      "RangeIndex: 1000 entries, 0 to 999\n",
      "Data columns (total 13 columns):\n",
      " #   Column     Non-Null Count  Dtype  \n",
      "---  ------     --------------  -----  \n",
      " 0   ID         1000 non-null   int64  \n",
      " 1   survived   1000 non-null   int64  \n",
      " 2   pclass     1000 non-null   int64  \n",
      " 3   name       1000 non-null   object \n",
      " 4   sex        1000 non-null   object \n",
      " 5   age        802 non-null    float64\n",
      " 6   sibsp      1000 non-null   int64  \n",
      " 7   parch      1000 non-null   int64  \n",
      " 8   ticket     1000 non-null   object \n",
      " 9   fare       999 non-null    float64\n",
      " 10  cabin      233 non-null    object \n",
      " 11  embarked   998 non-null    object \n",
      " 12  home.dest  566 non-null    object \n",
      "dtypes: float64(2), int64(5), object(6)\n",
      "memory usage: 101.7+ KB\n"
     ]
    },
    {
     "data": {
      "text/plain": [
       "   ID  survived  pclass                                             name  \\\n",
       "0   0         0       3               Goodwin, Master. William Frederick   \n",
       "1   1         0       3                            Jardin, Mr. Jose Neto   \n",
       "2   2         0       3                            Skoog, Master. Harald   \n",
       "3   3         1       3  O'Brien, Mrs. Thomas (Johanna \"Hannah\" Godfrey)   \n",
       "4   4         1       3        Abrahim, Mrs. Joseph (Sophie Halaut Easu)   \n",
       "\n",
       "      sex   age  sibsp  parch              ticket     fare cabin embarked  \\\n",
       "0    male  11.0      5      2             CA 2144  46.9000   NaN        S   \n",
       "1    male   NaN      0      0  SOTON/O.Q. 3101305   7.0500   NaN        S   \n",
       "2    male   4.0      3      2              347088  27.9000   NaN        S   \n",
       "3  female   NaN      1      0              370365  15.5000   NaN        Q   \n",
       "4  female  18.0      0      0                2657   7.2292   NaN        C   \n",
       "\n",
       "                              home.dest  \n",
       "0  Wiltshire, England Niagara Falls, NY  \n",
       "1                                   NaN  \n",
       "2                                   NaN  \n",
       "3                                   NaN  \n",
       "4                        Greensburg, PA  "
      ],
      "text/html": [
       "<div>\n",
       "<style scoped>\n",
       "    .dataframe tbody tr th:only-of-type {\n",
       "        vertical-align: middle;\n",
       "    }\n",
       "\n",
       "    .dataframe tbody tr th {\n",
       "        vertical-align: top;\n",
       "    }\n",
       "\n",
       "    .dataframe thead th {\n",
       "        text-align: right;\n",
       "    }\n",
       "</style>\n",
       "<table border=\"1\" class=\"dataframe\">\n",
       "  <thead>\n",
       "    <tr style=\"text-align: right;\">\n",
       "      <th></th>\n",
       "      <th>ID</th>\n",
       "      <th>survived</th>\n",
       "      <th>pclass</th>\n",
       "      <th>name</th>\n",
       "      <th>sex</th>\n",
       "      <th>age</th>\n",
       "      <th>sibsp</th>\n",
       "      <th>parch</th>\n",
       "      <th>ticket</th>\n",
       "      <th>fare</th>\n",
       "      <th>cabin</th>\n",
       "      <th>embarked</th>\n",
       "      <th>home.dest</th>\n",
       "    </tr>\n",
       "  </thead>\n",
       "  <tbody>\n",
       "    <tr>\n",
       "      <th>0</th>\n",
       "      <td>0</td>\n",
       "      <td>0</td>\n",
       "      <td>3</td>\n",
       "      <td>Goodwin, Master. William Frederick</td>\n",
       "      <td>male</td>\n",
       "      <td>11.0</td>\n",
       "      <td>5</td>\n",
       "      <td>2</td>\n",
       "      <td>CA 2144</td>\n",
       "      <td>46.9000</td>\n",
       "      <td>NaN</td>\n",
       "      <td>S</td>\n",
       "      <td>Wiltshire, England Niagara Falls, NY</td>\n",
       "    </tr>\n",
       "    <tr>\n",
       "      <th>1</th>\n",
       "      <td>1</td>\n",
       "      <td>0</td>\n",
       "      <td>3</td>\n",
       "      <td>Jardin, Mr. Jose Neto</td>\n",
       "      <td>male</td>\n",
       "      <td>NaN</td>\n",
       "      <td>0</td>\n",
       "      <td>0</td>\n",
       "      <td>SOTON/O.Q. 3101305</td>\n",
       "      <td>7.0500</td>\n",
       "      <td>NaN</td>\n",
       "      <td>S</td>\n",
       "      <td>NaN</td>\n",
       "    </tr>\n",
       "    <tr>\n",
       "      <th>2</th>\n",
       "      <td>2</td>\n",
       "      <td>0</td>\n",
       "      <td>3</td>\n",
       "      <td>Skoog, Master. Harald</td>\n",
       "      <td>male</td>\n",
       "      <td>4.0</td>\n",
       "      <td>3</td>\n",
       "      <td>2</td>\n",
       "      <td>347088</td>\n",
       "      <td>27.9000</td>\n",
       "      <td>NaN</td>\n",
       "      <td>S</td>\n",
       "      <td>NaN</td>\n",
       "    </tr>\n",
       "    <tr>\n",
       "      <th>3</th>\n",
       "      <td>3</td>\n",
       "      <td>1</td>\n",
       "      <td>3</td>\n",
       "      <td>O'Brien, Mrs. Thomas (Johanna \"Hannah\" Godfrey)</td>\n",
       "      <td>female</td>\n",
       "      <td>NaN</td>\n",
       "      <td>1</td>\n",
       "      <td>0</td>\n",
       "      <td>370365</td>\n",
       "      <td>15.5000</td>\n",
       "      <td>NaN</td>\n",
       "      <td>Q</td>\n",
       "      <td>NaN</td>\n",
       "    </tr>\n",
       "    <tr>\n",
       "      <th>4</th>\n",
       "      <td>4</td>\n",
       "      <td>1</td>\n",
       "      <td>3</td>\n",
       "      <td>Abrahim, Mrs. Joseph (Sophie Halaut Easu)</td>\n",
       "      <td>female</td>\n",
       "      <td>18.0</td>\n",
       "      <td>0</td>\n",
       "      <td>0</td>\n",
       "      <td>2657</td>\n",
       "      <td>7.2292</td>\n",
       "      <td>NaN</td>\n",
       "      <td>C</td>\n",
       "      <td>Greensburg, PA</td>\n",
       "    </tr>\n",
       "  </tbody>\n",
       "</table>\n",
       "</div>"
      ]
     },
     "execution_count": 3,
     "metadata": {},
     "output_type": "execute_result"
    }
   ],
   "execution_count": 3
  },
  {
   "cell_type": "code",
   "id": "479c9176-6d5c-4f0c-b0e3-e89d0e7cf274",
   "metadata": {
    "ExecuteTime": {
     "end_time": "2025-05-08T17:53:08.561664Z",
     "start_time": "2025-05-08T17:53:08.554065Z"
    }
   },
   "source": [
    "evalpsngrs.info()\n",
    "evalpsngrs.head()"
   ],
   "outputs": [
    {
     "name": "stdout",
     "output_type": "stream",
     "text": [
      "<class 'pandas.core.frame.DataFrame'>\n",
      "RangeIndex: 309 entries, 0 to 308\n",
      "Data columns (total 12 columns):\n",
      " #   Column     Non-Null Count  Dtype  \n",
      "---  ------     --------------  -----  \n",
      " 0   ID         309 non-null    int64  \n",
      " 1   pclass     309 non-null    int64  \n",
      " 2   name       309 non-null    object \n",
      " 3   sex        309 non-null    object \n",
      " 4   age        244 non-null    float64\n",
      " 5   sibsp      309 non-null    int64  \n",
      " 6   parch      309 non-null    int64  \n",
      " 7   ticket     309 non-null    object \n",
      " 8   fare       309 non-null    float64\n",
      " 9   cabin      62 non-null     object \n",
      " 10  embarked   309 non-null    object \n",
      " 11  home.dest  179 non-null    object \n",
      "dtypes: float64(2), int64(4), object(6)\n",
      "memory usage: 29.1+ KB\n"
     ]
    },
    {
     "data": {
      "text/plain": [
       "     ID  pclass                                               name     sex  \\\n",
       "0  1000       3                                Stankovic, Mr. Ivan    male   \n",
       "1  1001       1               Flegenheim, Mrs. Alfred (Antoinette)  female   \n",
       "2  1002       1  Frauenthal, Mrs. Henry William (Clara Heinshei...  female   \n",
       "3  1003       3                        Vander Cruyssen, Mr. Victor    male   \n",
       "4  1004       1                               Lurette, Miss. Elise  female   \n",
       "\n",
       "    age  sibsp  parch    ticket      fare cabin embarked     home.dest  \n",
       "0  33.0      0      0    349239    8.6625   NaN        C           NaN  \n",
       "1   NaN      0      0  PC 17598   31.6833   NaN        S  New York, NY  \n",
       "2   NaN      1      0  PC 17611  133.6500   NaN        S  New York, NY  \n",
       "3  47.0      0      0    345765    9.0000   NaN        S           NaN  \n",
       "4  58.0      0      0  PC 17569  146.5208   B80        C           NaN  "
      ],
      "text/html": [
       "<div>\n",
       "<style scoped>\n",
       "    .dataframe tbody tr th:only-of-type {\n",
       "        vertical-align: middle;\n",
       "    }\n",
       "\n",
       "    .dataframe tbody tr th {\n",
       "        vertical-align: top;\n",
       "    }\n",
       "\n",
       "    .dataframe thead th {\n",
       "        text-align: right;\n",
       "    }\n",
       "</style>\n",
       "<table border=\"1\" class=\"dataframe\">\n",
       "  <thead>\n",
       "    <tr style=\"text-align: right;\">\n",
       "      <th></th>\n",
       "      <th>ID</th>\n",
       "      <th>pclass</th>\n",
       "      <th>name</th>\n",
       "      <th>sex</th>\n",
       "      <th>age</th>\n",
       "      <th>sibsp</th>\n",
       "      <th>parch</th>\n",
       "      <th>ticket</th>\n",
       "      <th>fare</th>\n",
       "      <th>cabin</th>\n",
       "      <th>embarked</th>\n",
       "      <th>home.dest</th>\n",
       "    </tr>\n",
       "  </thead>\n",
       "  <tbody>\n",
       "    <tr>\n",
       "      <th>0</th>\n",
       "      <td>1000</td>\n",
       "      <td>3</td>\n",
       "      <td>Stankovic, Mr. Ivan</td>\n",
       "      <td>male</td>\n",
       "      <td>33.0</td>\n",
       "      <td>0</td>\n",
       "      <td>0</td>\n",
       "      <td>349239</td>\n",
       "      <td>8.6625</td>\n",
       "      <td>NaN</td>\n",
       "      <td>C</td>\n",
       "      <td>NaN</td>\n",
       "    </tr>\n",
       "    <tr>\n",
       "      <th>1</th>\n",
       "      <td>1001</td>\n",
       "      <td>1</td>\n",
       "      <td>Flegenheim, Mrs. Alfred (Antoinette)</td>\n",
       "      <td>female</td>\n",
       "      <td>NaN</td>\n",
       "      <td>0</td>\n",
       "      <td>0</td>\n",
       "      <td>PC 17598</td>\n",
       "      <td>31.6833</td>\n",
       "      <td>NaN</td>\n",
       "      <td>S</td>\n",
       "      <td>New York, NY</td>\n",
       "    </tr>\n",
       "    <tr>\n",
       "      <th>2</th>\n",
       "      <td>1002</td>\n",
       "      <td>1</td>\n",
       "      <td>Frauenthal, Mrs. Henry William (Clara Heinshei...</td>\n",
       "      <td>female</td>\n",
       "      <td>NaN</td>\n",
       "      <td>1</td>\n",
       "      <td>0</td>\n",
       "      <td>PC 17611</td>\n",
       "      <td>133.6500</td>\n",
       "      <td>NaN</td>\n",
       "      <td>S</td>\n",
       "      <td>New York, NY</td>\n",
       "    </tr>\n",
       "    <tr>\n",
       "      <th>3</th>\n",
       "      <td>1003</td>\n",
       "      <td>3</td>\n",
       "      <td>Vander Cruyssen, Mr. Victor</td>\n",
       "      <td>male</td>\n",
       "      <td>47.0</td>\n",
       "      <td>0</td>\n",
       "      <td>0</td>\n",
       "      <td>345765</td>\n",
       "      <td>9.0000</td>\n",
       "      <td>NaN</td>\n",
       "      <td>S</td>\n",
       "      <td>NaN</td>\n",
       "    </tr>\n",
       "    <tr>\n",
       "      <th>4</th>\n",
       "      <td>1004</td>\n",
       "      <td>1</td>\n",
       "      <td>Lurette, Miss. Elise</td>\n",
       "      <td>female</td>\n",
       "      <td>58.0</td>\n",
       "      <td>0</td>\n",
       "      <td>0</td>\n",
       "      <td>PC 17569</td>\n",
       "      <td>146.5208</td>\n",
       "      <td>B80</td>\n",
       "      <td>C</td>\n",
       "      <td>NaN</td>\n",
       "    </tr>\n",
       "  </tbody>\n",
       "</table>\n",
       "</div>"
      ]
     },
     "execution_count": 4,
     "metadata": {},
     "output_type": "execute_result"
    }
   ],
   "execution_count": 4
  },
  {
   "cell_type": "markdown",
   "id": "4ec1a7fb-b73d-430c-9df8-07f0fc302d41",
   "metadata": {},
   "source": "The evaluation.csv file is missing the \"survived\" column — the feature to be predicted."
  },
  {
   "cell_type": "code",
   "id": "d6bbf864-5ffe-4dec-b00c-3c3f4b0a9deb",
   "metadata": {
    "ExecuteTime": {
     "end_time": "2025-05-08T17:53:08.709283Z",
     "start_time": "2025-05-08T17:53:08.704956Z"
    }
   },
   "source": [
    "passengers.isnull().sum()"
   ],
   "outputs": [
    {
     "data": {
      "text/plain": [
       "ID             0\n",
       "survived       0\n",
       "pclass         0\n",
       "name           0\n",
       "sex            0\n",
       "age          198\n",
       "sibsp          0\n",
       "parch          0\n",
       "ticket         0\n",
       "fare           1\n",
       "cabin        767\n",
       "embarked       2\n",
       "home.dest    434\n",
       "dtype: int64"
      ]
     },
     "execution_count": 5,
     "metadata": {},
     "output_type": "execute_result"
    }
   ],
   "execution_count": 5
  },
  {
   "cell_type": "code",
   "id": "584a92fa-b44d-44a2-a7dc-0acdad54c937",
   "metadata": {
    "ExecuteTime": {
     "end_time": "2025-05-08T17:53:08.880092Z",
     "start_time": "2025-05-08T17:53:08.875936Z"
    }
   },
   "source": [
    "evalpsngrs.isnull().sum()"
   ],
   "outputs": [
    {
     "data": {
      "text/plain": [
       "ID             0\n",
       "pclass         0\n",
       "name           0\n",
       "sex            0\n",
       "age           65\n",
       "sibsp          0\n",
       "parch          0\n",
       "ticket         0\n",
       "fare           0\n",
       "cabin        247\n",
       "embarked       0\n",
       "home.dest    130\n",
       "dtype: int64"
      ]
     },
     "execution_count": 6,
     "metadata": {},
     "output_type": "execute_result"
    }
   ],
   "execution_count": 6
  },
  {
   "cell_type": "markdown",
   "id": "65493bd9-d671-4396-91f8-58a7fb80f9fb",
   "metadata": {},
   "source": [
    "From the previous outputs, we can see to which data types certain features most likely belong:\n",
    "\n",
    "Categorical features: embarked\n",
    "Binary features: survived, sex\n",
    "Ordinal features: pclass\n",
    "Numerical features: sibsp, parch\n",
    "Continuous features: ID, age, fare\n",
    "Alphanumeric features: name, ticket, cabin\n",
    "This information will help in the next steps of data preparation.\n",
    "\n",
    "I will now display the summary statistics for the dataset:"
   ]
  },
  {
   "cell_type": "code",
   "id": "e72bfa63-7cb8-4c95-83f2-547964a99ec1",
   "metadata": {
    "ExecuteTime": {
     "end_time": "2025-05-08T17:53:09.032556Z",
     "start_time": "2025-05-08T17:53:09.020112Z"
    }
   },
   "source": [
    "passengers.describe()"
   ],
   "outputs": [
    {
     "data": {
      "text/plain": [
       "                ID    survived       pclass         age        sibsp  \\\n",
       "count  1000.000000  1000.00000  1000.000000  802.000000  1000.000000   \n",
       "mean    499.500000     0.39800     2.288000   29.850686     0.496000   \n",
       "std     288.819436     0.48973     0.840096   14.328743     1.024223   \n",
       "min       0.000000     0.00000     1.000000    0.166700     0.000000   \n",
       "25%     249.750000     0.00000     1.750000   21.000000     0.000000   \n",
       "50%     499.500000     0.00000     3.000000   28.000000     0.000000   \n",
       "75%     749.250000     1.00000     3.000000   39.000000     1.000000   \n",
       "max     999.000000     1.00000     3.000000   80.000000     8.000000   \n",
       "\n",
       "            parch        fare  \n",
       "count  1000.00000  999.000000  \n",
       "mean      0.40200   34.264352  \n",
       "std       0.91719   53.315077  \n",
       "min       0.00000    0.000000  \n",
       "25%       0.00000    7.925000  \n",
       "50%       0.00000   14.458300  \n",
       "75%       0.00000   31.275000  \n",
       "max       9.00000  512.329200  "
      ],
      "text/html": [
       "<div>\n",
       "<style scoped>\n",
       "    .dataframe tbody tr th:only-of-type {\n",
       "        vertical-align: middle;\n",
       "    }\n",
       "\n",
       "    .dataframe tbody tr th {\n",
       "        vertical-align: top;\n",
       "    }\n",
       "\n",
       "    .dataframe thead th {\n",
       "        text-align: right;\n",
       "    }\n",
       "</style>\n",
       "<table border=\"1\" class=\"dataframe\">\n",
       "  <thead>\n",
       "    <tr style=\"text-align: right;\">\n",
       "      <th></th>\n",
       "      <th>ID</th>\n",
       "      <th>survived</th>\n",
       "      <th>pclass</th>\n",
       "      <th>age</th>\n",
       "      <th>sibsp</th>\n",
       "      <th>parch</th>\n",
       "      <th>fare</th>\n",
       "    </tr>\n",
       "  </thead>\n",
       "  <tbody>\n",
       "    <tr>\n",
       "      <th>count</th>\n",
       "      <td>1000.000000</td>\n",
       "      <td>1000.00000</td>\n",
       "      <td>1000.000000</td>\n",
       "      <td>802.000000</td>\n",
       "      <td>1000.000000</td>\n",
       "      <td>1000.00000</td>\n",
       "      <td>999.000000</td>\n",
       "    </tr>\n",
       "    <tr>\n",
       "      <th>mean</th>\n",
       "      <td>499.500000</td>\n",
       "      <td>0.39800</td>\n",
       "      <td>2.288000</td>\n",
       "      <td>29.850686</td>\n",
       "      <td>0.496000</td>\n",
       "      <td>0.40200</td>\n",
       "      <td>34.264352</td>\n",
       "    </tr>\n",
       "    <tr>\n",
       "      <th>std</th>\n",
       "      <td>288.819436</td>\n",
       "      <td>0.48973</td>\n",
       "      <td>0.840096</td>\n",
       "      <td>14.328743</td>\n",
       "      <td>1.024223</td>\n",
       "      <td>0.91719</td>\n",
       "      <td>53.315077</td>\n",
       "    </tr>\n",
       "    <tr>\n",
       "      <th>min</th>\n",
       "      <td>0.000000</td>\n",
       "      <td>0.00000</td>\n",
       "      <td>1.000000</td>\n",
       "      <td>0.166700</td>\n",
       "      <td>0.000000</td>\n",
       "      <td>0.00000</td>\n",
       "      <td>0.000000</td>\n",
       "    </tr>\n",
       "    <tr>\n",
       "      <th>25%</th>\n",
       "      <td>249.750000</td>\n",
       "      <td>0.00000</td>\n",
       "      <td>1.750000</td>\n",
       "      <td>21.000000</td>\n",
       "      <td>0.000000</td>\n",
       "      <td>0.00000</td>\n",
       "      <td>7.925000</td>\n",
       "    </tr>\n",
       "    <tr>\n",
       "      <th>50%</th>\n",
       "      <td>499.500000</td>\n",
       "      <td>0.00000</td>\n",
       "      <td>3.000000</td>\n",
       "      <td>28.000000</td>\n",
       "      <td>0.000000</td>\n",
       "      <td>0.00000</td>\n",
       "      <td>14.458300</td>\n",
       "    </tr>\n",
       "    <tr>\n",
       "      <th>75%</th>\n",
       "      <td>749.250000</td>\n",
       "      <td>1.00000</td>\n",
       "      <td>3.000000</td>\n",
       "      <td>39.000000</td>\n",
       "      <td>1.000000</td>\n",
       "      <td>0.00000</td>\n",
       "      <td>31.275000</td>\n",
       "    </tr>\n",
       "    <tr>\n",
       "      <th>max</th>\n",
       "      <td>999.000000</td>\n",
       "      <td>1.00000</td>\n",
       "      <td>3.000000</td>\n",
       "      <td>80.000000</td>\n",
       "      <td>8.000000</td>\n",
       "      <td>9.00000</td>\n",
       "      <td>512.329200</td>\n",
       "    </tr>\n",
       "  </tbody>\n",
       "</table>\n",
       "</div>"
      ]
     },
     "execution_count": 7,
     "metadata": {},
     "output_type": "execute_result"
    }
   ],
   "execution_count": 7
  },
  {
   "cell_type": "markdown",
   "id": "58521a20-896c-44b9-947f-2278c249ad2c",
   "metadata": {},
   "source": "Since the \"survived\" feature is categorical and contains discrete data, the average indicates the percentage of survivors out of the total number of passengers, which is 39.8%. The majority of passengers were in third class, which is quite clear. The age of passengers was mostly around 30 years. A significant deviation can be seen in the \"fare\" column, even compared to the age, indicating that ticket prices varied significantly."
  },
  {
   "cell_type": "code",
   "id": "add21200-d587-498e-b2c3-18b1e913ec97",
   "metadata": {
    "ExecuteTime": {
     "end_time": "2025-05-08T17:53:09.147355Z",
     "start_time": "2025-05-08T17:53:09.137532Z"
    }
   },
   "source": "passengers.describe(include='O')",
   "outputs": [
    {
     "data": {
      "text/plain": [
       "                    name   sex    ticket            cabin embarked  \\\n",
       "count               1000  1000      1000              233      998   \n",
       "unique               999     2       746              157        3   \n",
       "top     Kelly, Mr. James  male  CA. 2343  B57 B59 B63 B66        S   \n",
       "freq                   2   628         9                5      698   \n",
       "\n",
       "           home.dest  \n",
       "count            566  \n",
       "unique           313  \n",
       "top     New York, NY  \n",
       "freq              46  "
      ],
      "text/html": [
       "<div>\n",
       "<style scoped>\n",
       "    .dataframe tbody tr th:only-of-type {\n",
       "        vertical-align: middle;\n",
       "    }\n",
       "\n",
       "    .dataframe tbody tr th {\n",
       "        vertical-align: top;\n",
       "    }\n",
       "\n",
       "    .dataframe thead th {\n",
       "        text-align: right;\n",
       "    }\n",
       "</style>\n",
       "<table border=\"1\" class=\"dataframe\">\n",
       "  <thead>\n",
       "    <tr style=\"text-align: right;\">\n",
       "      <th></th>\n",
       "      <th>name</th>\n",
       "      <th>sex</th>\n",
       "      <th>ticket</th>\n",
       "      <th>cabin</th>\n",
       "      <th>embarked</th>\n",
       "      <th>home.dest</th>\n",
       "    </tr>\n",
       "  </thead>\n",
       "  <tbody>\n",
       "    <tr>\n",
       "      <th>count</th>\n",
       "      <td>1000</td>\n",
       "      <td>1000</td>\n",
       "      <td>1000</td>\n",
       "      <td>233</td>\n",
       "      <td>998</td>\n",
       "      <td>566</td>\n",
       "    </tr>\n",
       "    <tr>\n",
       "      <th>unique</th>\n",
       "      <td>999</td>\n",
       "      <td>2</td>\n",
       "      <td>746</td>\n",
       "      <td>157</td>\n",
       "      <td>3</td>\n",
       "      <td>313</td>\n",
       "    </tr>\n",
       "    <tr>\n",
       "      <th>top</th>\n",
       "      <td>Kelly, Mr. James</td>\n",
       "      <td>male</td>\n",
       "      <td>CA. 2343</td>\n",
       "      <td>B57 B59 B63 B66</td>\n",
       "      <td>S</td>\n",
       "      <td>New York, NY</td>\n",
       "    </tr>\n",
       "    <tr>\n",
       "      <th>freq</th>\n",
       "      <td>2</td>\n",
       "      <td>628</td>\n",
       "      <td>9</td>\n",
       "      <td>5</td>\n",
       "      <td>698</td>\n",
       "      <td>46</td>\n",
       "    </tr>\n",
       "  </tbody>\n",
       "</table>\n",
       "</div>"
      ]
     },
     "execution_count": 8,
     "metadata": {},
     "output_type": "execute_result"
    }
   ],
   "execution_count": 8
  },
  {
   "cell_type": "markdown",
   "id": "f1d8ff81-65e9-490b-bb8e-d35725e180ba",
   "metadata": {},
   "source": "Looking at these features, some interesting conclusions can be drawn. Regarding gender distribution, there were more men on board. There were also only 3 embarkation points (with most passengers boarding in Southampton), and the \"ticket\", \"cabin\", and \"home.dest\" columns contain quite a few duplicate values. Now, I will check the percentage of missing values for each column."
  },
  {
   "cell_type": "code",
   "id": "96d396fe-591e-43ae-be2d-8fd9d2266a99",
   "metadata": {
    "ExecuteTime": {
     "end_time": "2025-05-08T17:53:09.245272Z",
     "start_time": "2025-05-08T17:53:09.240896Z"
    }
   },
   "source": [
    "passengers.isnull().sum() / len(passengers) * 100"
   ],
   "outputs": [
    {
     "data": {
      "text/plain": [
       "ID            0.0\n",
       "survived      0.0\n",
       "pclass        0.0\n",
       "name          0.0\n",
       "sex           0.0\n",
       "age          19.8\n",
       "sibsp         0.0\n",
       "parch         0.0\n",
       "ticket        0.0\n",
       "fare          0.1\n",
       "cabin        76.7\n",
       "embarked      0.2\n",
       "home.dest    43.4\n",
       "dtype: float64"
      ]
     },
     "execution_count": 9,
     "metadata": {},
     "output_type": "execute_result"
    }
   ],
   "execution_count": 9
  },
  {
   "cell_type": "markdown",
   "id": "4dcba412-2ddf-408b-b292-dffdf91934ca",
   "metadata": {},
   "source": "Generally, the most important columns have no missing values. The \"age\" column has only 19.8% missing, which can be filled using several methods (I will fill it with the average age for the dataset). \"Fare\" and \"embarked\" can also be filled. Features with too many missing values can be removed — in this case, these are \"cabin\" and \"home.dest\"."
  },
  {
   "cell_type": "markdown",
   "id": "97961fca-b8cd-4d6c-b72a-d907a8b7e99a",
   "metadata": {},
   "source": "To confirm that I have the correct features for predicting the target variable \"survived\", I will plot a few graphs. Now, I want to explore if there is any relationship between the factors of gender, embarkation point, class, and the number of relatives on board and whether it affects survival."
  },
  {
   "cell_type": "code",
   "id": "179a482a-e780-4831-be36-9c70c0495724",
   "metadata": {
    "ExecuteTime": {
     "end_time": "2025-05-08T17:53:09.537989Z",
     "start_time": "2025-05-08T17:53:09.534411Z"
    }
   },
   "source": [
    "passengers['familycount'] = passengers['sibsp'] + passengers['parch'] + 1\n",
    "\n",
    "evalpsngrs['familycount'] = evalpsngrs['sibsp'] + evalpsngrs['parch'] + 1"
   ],
   "outputs": [],
   "execution_count": 10
  },
  {
   "cell_type": "code",
   "id": "c0ad574b-6a12-4d8f-9181-94ad3f176f8e",
   "metadata": {
    "ExecuteTime": {
     "end_time": "2025-05-08T17:53:09.635941Z",
     "start_time": "2025-05-08T17:53:09.632752Z"
    }
   },
   "source": [
    "print(passengers['familycount'].head())"
   ],
   "outputs": [
    {
     "name": "stdout",
     "output_type": "stream",
     "text": [
      "0    8\n",
      "1    1\n",
      "2    6\n",
      "3    2\n",
      "4    1\n",
      "Name: familycount, dtype: int64\n"
     ]
    }
   ],
   "execution_count": 11
  },
  {
   "cell_type": "code",
   "id": "8accd934-d948-4380-ab08-9884cedae07d",
   "metadata": {
    "ExecuteTime": {
     "end_time": "2025-05-08T17:53:10.134366Z",
     "start_time": "2025-05-08T17:53:09.731997Z"
    }
   },
   "source": [
    "fig, axes = plt.subplots(2, 2, figsize=(12, 8))\n",
    "\n",
    "ax1 = sns.countplot(x='sex', hue='survived', data=passengers, palette='pastel', ax=axes[0, 0])\n",
    "ax1.set_title(\"Survival Count by Gender\")\n",
    "\n",
    "ax2 = sns.countplot(x='pclass', hue='survived', data=passengers, palette='pastel', ax=axes[0, 1])\n",
    "ax2.set_title(\"Survival Count by PClass\")\n",
    "\n",
    "ax3 = sns.countplot(x='embarked', hue='survived', data=passengers, palette='pastel', ax=axes[1, 0])\n",
    "ax3.set_title(\"Survival Count by Embark\")\n",
    "\n",
    "ax4 = sns.countplot(x='familycount', hue='survived', data=passengers, palette='pastel', ax=axes[1, 1])\n",
    "ax4.set_title(\"Survival Count by Family Members Count\")\n",
    "\n",
    "plt.tight_layout()\n",
    "\n",
    "plt.show()"
   ],
   "outputs": [
    {
     "data": {
      "text/plain": [
       "<Figure size 1200x800 with 4 Axes>"
      ],
      "image/png": "[encoded data removed]"
     },
     "metadata": {},
     "output_type": "display_data"
    }
   ],
   "execution_count": 12
  },
  {
   "cell_type": "markdown",
   "id": "d7f16349-3f4d-4953-a31f-86648aca49d8",
   "metadata": {},
   "source": [
    "It is clear that, despite there being significantly more men on board, the number of surviving women is almost 2.5 times higher than the number of surviving men. It is also noticeable that the embarkation class influenced survival — most of the survivors were from 1st class. The other two factors are not as obvious, although it can be seen that those who boarded in Cherbourg mostly survived.\n",
    "\n",
    "Therefore, gender and class are important factors for survival. The other two features play a role to varying degrees.\n",
    "\n",
    "Now that I know the necessary and unnecessary features for training the models, I can finally start modifying the data.\n",
    "\n",
    "To avoid any errors in future predictions, I will make the same changes in the evaluation.csv file while editing the data.csv file. That is, if I remove a feature or fill in missing values, the same changes will be made in both files."
   ]
  },
  {
   "cell_type": "code",
   "id": "421b020b-b727-4574-9ea2-cf3c0401884a",
   "metadata": {
    "ExecuteTime": {
     "end_time": "2025-05-08T17:53:10.166430Z",
     "start_time": "2025-05-08T17:53:10.151710Z"
    }
   },
   "source": [
    "# I will start by filling in the missing values\n",
    "mode_embarked = passengers['embarked'].mode()[0]\n",
    "passengers['embarked'].fillna(mode_embarked, inplace=True)\n",
    "\n",
    "mode_fare = passengers['fare'].mode()[0]\n",
    "passengers['fare'].fillna(mode_fare, inplace=True)\n",
    "\n",
    "mean_age = passengers['age'].mean()\n",
    "passengers['age'].fillna(mean_age, inplace=True)\n",
    "\n",
    "# Of these 3 features in the evaluation.csv file, only \"age\" has missing values\n",
    "mean_age_ev = evalpsngrs['age'].mean()\n",
    "evalpsngrs['age'].fillna(mean_age_ev, inplace=True)\n",
    "\n",
    "# I will remove features that do not influence the survival outcome: ID, ticket, cabin, home.dest\n",
    "passengers = passengers.drop(['ID', 'ticket', 'cabin', 'home.dest', 'parch', 'sibsp', 'fare'], axis=1)\n",
    "\n",
    "# and now also in the evaluation.csv file\n",
    "evalpsngrs = evalpsngrs.drop(['ID', 'ticket', 'cabin', 'home.dest', 'parch', 'sibsp', 'fare'], axis=1)\n",
    "\n",
    "# I will create a new feature that measures the length of the name and remove the \"name\" feature\n",
    "def process_name_column(data):\n",
    "    data['title'] = data['name'].str.extract(' ([A-Za-z]+)\\.')\n",
    "    data['title'] = data['title'].apply(lambda x: 'Mr' if x in ['Master', 'Mr'] else x)\n",
    "    title_counts = data['title'].value_counts()\n",
    "    rare_titles = (title_counts < 10)\n",
    "    data['title'] = data['title'].apply(lambda x: 'Rare' if rare_titles[x] else x)\n",
    "    data = data.drop(['name'], axis=1)\n",
    "    return data\n",
    "passengers = process_name_column(passengers)\n",
    "evalpsngrs = process_name_column(evalpsngrs)\n",
    "\n",
    "# Convert the \"title\" feature to category type\n",
    "passengers['title'] = passengers['title'].astype('category')\n",
    "passengers['title'] = passengers['title'].cat.codes\n",
    "evalpsngrs['title'] = evalpsngrs['title'].astype('category')\n",
    "evalpsngrs['title'] = evalpsngrs['title'].cat.codes\n",
    "\n",
    "# Convert the values of the \"sex\" column to binary form: 0 - male, 1 - female\n",
    "passengers['sex'] = passengers['sex'].astype('category')\n",
    "passengers['sex'] = passengers['sex'].cat.codes\n",
    "evalpsngrs['sex'] = evalpsngrs['sex'].astype('category')\n",
    "evalpsngrs['sex'] = evalpsngrs['sex'].cat.codes\n",
    "\n",
    "# Convert the \"embarked\" feature type to category\n",
    "passengers['embarked'] = passengers['embarked'].astype('category')\n",
    "passengers['embarked'] = passengers['embarked'].cat.codes\n",
    "evalpsngrs['embarked'] = evalpsngrs['embarked'].astype('category')\n",
    "evalpsngrs['embarked'] = evalpsngrs['embarked'].cat.codes"
   ],
   "outputs": [
    {
     "name": "stderr",
     "output_type": "stream",
     "text": [
      "/var/folders/zj/l17lzcjj3wg5tjllnkvdczh40000gn/T/ipykernel_20264/2213038832.py:3: FutureWarning: A value is trying to be set on a copy of a DataFrame or Series through chained assignment using an inplace method.\n",
      "The behavior will change in pandas 3.0. This inplace method will never work because the intermediate object on which we are setting values always behaves as a copy.\n",
      "\n",
      "For example, when doing 'df[col].method(value, inplace=True)', try using 'df.method({col: value}, inplace=True)' or df[col] = df[col].method(value) instead, to perform the operation inplace on the original object.\n",
      "\n",
      "\n",
      "  passengers['embarked'].fillna(mode_embarked, inplace=True)\n",
      "/var/folders/zj/l17lzcjj3wg5tjllnkvdczh40000gn/T/ipykernel_20264/2213038832.py:6: FutureWarning: A value is trying to be set on a copy of a DataFrame or Series through chained assignment using an inplace method.\n",
      "The behavior will change in pandas 3.0. This inplace method will never work because the intermediate object on which we are setting values always behaves as a copy.\n",
      "\n",
      "For example, when doing 'df[col].method(value, inplace=True)', try using 'df.method({col: value}, inplace=True)' or df[col] = df[col].method(value) instead, to perform the operation inplace on the original object.\n",
      "\n",
      "\n",
      "  passengers['fare'].fillna(mode_fare, inplace=True)\n",
      "/var/folders/zj/l17lzcjj3wg5tjllnkvdczh40000gn/T/ipykernel_20264/2213038832.py:9: FutureWarning: A value is trying to be set on a copy of a DataFrame or Series through chained assignment using an inplace method.\n",
      "The behavior will change in pandas 3.0. This inplace method will never work because the intermediate object on which we are setting values always behaves as a copy.\n",
      "\n",
      "For example, when doing 'df[col].method(value, inplace=True)', try using 'df.method({col: value}, inplace=True)' or df[col] = df[col].method(value) instead, to perform the operation inplace on the original object.\n",
      "\n",
      "\n",
      "  passengers['age'].fillna(mean_age, inplace=True)\n",
      "/var/folders/zj/l17lzcjj3wg5tjllnkvdczh40000gn/T/ipykernel_20264/2213038832.py:13: FutureWarning: A value is trying to be set on a copy of a DataFrame or Series through chained assignment using an inplace method.\n",
      "The behavior will change in pandas 3.0. This inplace method will never work because the intermediate object on which we are setting values always behaves as a copy.\n",
      "\n",
      "For example, when doing 'df[col].method(value, inplace=True)', try using 'df.method({col: value}, inplace=True)' or df[col] = df[col].method(value) instead, to perform the operation inplace on the original object.\n",
      "\n",
      "\n",
      "  evalpsngrs['age'].fillna(mean_age_ev, inplace=True)\n"
     ]
    }
   ],
   "execution_count": 13
  },
  {
   "cell_type": "code",
   "id": "e5780b4d-7bd5-42fb-a02e-12873859c340",
   "metadata": {
    "ExecuteTime": {
     "end_time": "2025-05-08T17:53:10.206010Z",
     "start_time": "2025-05-08T17:53:10.200173Z"
    }
   },
   "source": [
    "passengers.info()\n",
    "passengers.head()\n",
    "passengers.isnull().sum()"
   ],
   "outputs": [
    {
     "name": "stdout",
     "output_type": "stream",
     "text": [
      "<class 'pandas.core.frame.DataFrame'>\n",
      "RangeIndex: 1000 entries, 0 to 999\n",
      "Data columns (total 7 columns):\n",
      " #   Column       Non-Null Count  Dtype  \n",
      "---  ------       --------------  -----  \n",
      " 0   survived     1000 non-null   int64  \n",
      " 1   pclass       1000 non-null   int64  \n",
      " 2   sex          1000 non-null   int8   \n",
      " 3   age          1000 non-null   float64\n",
      " 4   embarked     1000 non-null   int8   \n",
      " 5   familycount  1000 non-null   int64  \n",
      " 6   title        1000 non-null   int8   \n",
      "dtypes: float64(1), int64(3), int8(3)\n",
      "memory usage: 34.3 KB\n"
     ]
    },
    {
     "data": {
      "text/plain": [
       "survived       0\n",
       "pclass         0\n",
       "sex            0\n",
       "age            0\n",
       "embarked       0\n",
       "familycount    0\n",
       "title          0\n",
       "dtype: int64"
      ]
     },
     "execution_count": 14,
     "metadata": {},
     "output_type": "execute_result"
    }
   ],
   "execution_count": 14
  },
  {
   "cell_type": "code",
   "id": "f588c524-042c-4e44-b10e-3719484b195a",
   "metadata": {
    "ExecuteTime": {
     "end_time": "2025-05-08T17:53:10.263248Z",
     "start_time": "2025-05-08T17:53:10.258706Z"
    }
   },
   "source": [
    "passengers.info()"
   ],
   "outputs": [
    {
     "name": "stdout",
     "output_type": "stream",
     "text": [
      "<class 'pandas.core.frame.DataFrame'>\n",
      "RangeIndex: 1000 entries, 0 to 999\n",
      "Data columns (total 7 columns):\n",
      " #   Column       Non-Null Count  Dtype  \n",
      "---  ------       --------------  -----  \n",
      " 0   survived     1000 non-null   int64  \n",
      " 1   pclass       1000 non-null   int64  \n",
      " 2   sex          1000 non-null   int8   \n",
      " 3   age          1000 non-null   float64\n",
      " 4   embarked     1000 non-null   int8   \n",
      " 5   familycount  1000 non-null   int64  \n",
      " 6   title        1000 non-null   int8   \n",
      "dtypes: float64(1), int64(3), int8(3)\n",
      "memory usage: 34.3 KB\n"
     ]
    }
   ],
   "execution_count": 15
  },
  {
   "cell_type": "code",
   "id": "7b32d468-988f-4f4e-b62c-651996e6404b",
   "metadata": {
    "ExecuteTime": {
     "end_time": "2025-05-08T17:53:10.326677Z",
     "start_time": "2025-05-08T17:53:10.322265Z"
    }
   },
   "source": [
    "evalpsngrs.info()"
   ],
   "outputs": [
    {
     "name": "stdout",
     "output_type": "stream",
     "text": [
      "<class 'pandas.core.frame.DataFrame'>\n",
      "RangeIndex: 309 entries, 0 to 308\n",
      "Data columns (total 6 columns):\n",
      " #   Column       Non-Null Count  Dtype  \n",
      "---  ------       --------------  -----  \n",
      " 0   pclass       309 non-null    int64  \n",
      " 1   sex          309 non-null    int8   \n",
      " 2   age          309 non-null    float64\n",
      " 3   embarked     309 non-null    int8   \n",
      " 4   familycount  309 non-null    int64  \n",
      " 5   title        309 non-null    int8   \n",
      "dtypes: float64(1), int64(2), int8(3)\n",
      "memory usage: 8.3 KB\n"
     ]
    }
   ],
   "execution_count": 16
  },
  {
   "cell_type": "markdown",
   "id": "5d1614d9-6556-41d1-a37e-648223e14a68",
   "metadata": {},
   "source": "It is quite clear that the dataset no longer contains any missing values, all data are in a format suitable for machine learning, and are therefore ready for the next step."
  },
  {
   "cell_type": "markdown",
   "id": "e972219a-3efd-4f21-bf1b-7d79c119d417",
   "metadata": {},
   "source": [
    "### II. Preparing data for model training\n",
    "\n",
    "Since the task involves applying a decision tree and k-nearest neighbors method, it is appropriate to split the data.csv file into training, testing, and validation sets for both models."
   ]
  },
  {
   "cell_type": "code",
   "id": "1bc56690-99d6-4356-914d-3ea9b5d03cc6",
   "metadata": {
    "ExecuteTime": {
     "end_time": "2025-05-08T17:53:10.369314Z",
     "start_time": "2025-05-08T17:53:10.366626Z"
    }
   },
   "source": [
    "Xdata = passengers.drop('survived', axis = 1)\n",
    "ydata = passengers.survived"
   ],
   "outputs": [],
   "execution_count": 17
  },
  {
   "cell_type": "code",
   "id": "3f9344e2-56c9-41ba-af05-24359776d534",
   "metadata": {
    "ExecuteTime": {
     "end_time": "2025-05-08T17:53:10.961276Z",
     "start_time": "2025-05-08T17:53:10.400379Z"
    }
   },
   "source": [
    "from sklearn.model_selection import train_test_split\n",
    "\n",
    "Xtrain, Xtest, ytrain, ytest = train_test_split(Xdata, ydata, test_size=0.4, random_state=111) \n",
    "\n",
    "display(Xtrain.shape)\n",
    "display(ytrain.shape)\n",
    "display(Xtest.shape)\n",
    "display(ytest.shape)"
   ],
   "outputs": [
    {
     "data": {
      "text/plain": [
       "(600, 6)"
      ]
     },
     "metadata": {},
     "output_type": "display_data"
    },
    {
     "data": {
      "text/plain": [
       "(600,)"
      ]
     },
     "metadata": {},
     "output_type": "display_data"
    },
    {
     "data": {
      "text/plain": [
       "(400, 6)"
      ]
     },
     "metadata": {},
     "output_type": "display_data"
    },
    {
     "data": {
      "text/plain": [
       "(400,)"
      ]
     },
     "metadata": {},
     "output_type": "display_data"
    }
   ],
   "execution_count": 18
  },
  {
   "cell_type": "code",
   "id": "f103a50c-50ec-43c5-86e7-db1ddf7b7ab3",
   "metadata": {
    "ExecuteTime": {
     "end_time": "2025-05-08T17:53:11.040979Z",
     "start_time": "2025-05-08T17:53:11.035298Z"
    }
   },
   "source": [
    "Xval, Xtest, yval, ytest = train_test_split(Xtest, ytest, test_size=0.5, random_state=111) \n",
    "\n",
    "display(Xval.shape)\n",
    "display(yval.shape)\n",
    "display(Xtest.shape)\n",
    "display(ytest.shape)"
   ],
   "outputs": [
    {
     "data": {
      "text/plain": [
       "(200, 6)"
      ]
     },
     "metadata": {},
     "output_type": "display_data"
    },
    {
     "data": {
      "text/plain": [
       "(200,)"
      ]
     },
     "metadata": {},
     "output_type": "display_data"
    },
    {
     "data": {
      "text/plain": [
       "(200, 6)"
      ]
     },
     "metadata": {},
     "output_type": "display_data"
    },
    {
     "data": {
      "text/plain": [
       "(200,)"
      ]
     },
     "metadata": {},
     "output_type": "display_data"
    }
   ],
   "execution_count": 19
  },
  {
   "cell_type": "markdown",
   "id": "e93c7934-ddd2-48a0-b32a-c3d0e5f831c2",
   "metadata": {},
   "source": "The data is divided in a 60/20/20 ratio, with the training set being the largest (60%), and the testing and validation sets are of equal size. This way, machine learning models can be applied, and the best one can be sought."
  },
  {
   "cell_type": "markdown",
   "id": "68da5ea4-cd8a-4849-bae6-a7d9988d47ef",
   "metadata": {},
   "source": [
    "### III. Training models\n",
    "\n",
    "#### Decision tree\n",
    "\n",
    "A decision tree is a good model for a classification problem when the data has clear, easily interpretable features and relationships because it can provide a simple and transparent way of making predictions. However, with complex datasets that have many intertwined features, decision trees may struggle to capture complex patterns. I will start with the smallest possible depth of 1, and then find the better parameters."
   ]
  },
  {
   "cell_type": "code",
   "id": "bdb86cbb-3c99-4c4f-8419-314099838227",
   "metadata": {
    "ExecuteTime": {
     "end_time": "2025-05-08T17:53:11.515138Z",
     "start_time": "2025-05-08T17:53:11.121374Z"
    }
   },
   "source": [
    "from sklearn.tree import DecisionTreeClassifier\n",
    "\n",
    "clf = DecisionTreeClassifier(max_depth = 1)\n",
    "clf.fit(Xtrain, ytrain)"
   ],
   "outputs": [
    {
     "data": {
      "text/plain": [
       "DecisionTreeClassifier(max_depth=1)"
      ],
      "text/html": [
       "<style>#sk-container-id-1 {\n",
       "  /* Definition of color scheme common for light and dark mode */\n",
       "  --sklearn-color-text: black;\n",
       "  --sklearn-color-line: gray;\n",
       "  /* Definition of color scheme for unfitted estimators */\n",
       "  --sklearn-color-unfitted-level-0: #fff5e6;\n",
       "  --sklearn-color-unfitted-level-1: #f6e4d2;\n",
       "  --sklearn-color-unfitted-level-2: #ffe0b3;\n",
       "  --sklearn-color-unfitted-level-3: chocolate;\n",
       "  /* Definition of color scheme for fitted estimators */\n",
       "  --sklearn-color-fitted-level-0: #f0f8ff;\n",
       "  --sklearn-color-fitted-level-1: #d4ebff;\n",
       "  --sklearn-color-fitted-level-2: #b3dbfd;\n",
       "  --sklearn-color-fitted-level-3: cornflowerblue;\n",
       "\n",
       "  /* Specific color for light theme */\n",
       "  --sklearn-color-text-on-default-background: var(--sg-text-color, var(--theme-code-foreground, var(--jp-content-font-color1, black)));\n",
       "  --sklearn-color-background: var(--sg-background-color, var(--theme-background, var(--jp-layout-color0, white)));\n",
       "  --sklearn-color-border-box: var(--sg-text-color, var(--theme-code-foreground, var(--jp-content-font-color1, black)));\n",
       "  --sklearn-color-icon: #696969;\n",
       "\n",
       "  @media (prefers-color-scheme: dark) {\n",
       "    /* Redefinition of color scheme for dark theme */\n",
       "    --sklearn-color-text-on-default-background: var(--sg-text-color, var(--theme-code-foreground, var(--jp-content-font-color1, white)));\n",
       "    --sklearn-color-background: var(--sg-background-color, var(--theme-background, var(--jp-layout-color0, #111)));\n",
       "    --sklearn-color-border-box: var(--sg-text-color, var(--theme-code-foreground, var(--jp-content-font-color1, white)));\n",
       "    --sklearn-color-icon: #878787;\n",
       "  }\n",
       "}\n",
       "\n",
       "#sk-container-id-1 {\n",
       "  color: var(--sklearn-color-text);\n",
       "}\n",
       "\n",
       "#sk-container-id-1 pre {\n",
       "  padding: 0;\n",
       "}\n",
       "\n",
       "#sk-container-id-1 input.sk-hidden--visually {\n",
       "  border: 0;\n",
       "  clip: rect(1px 1px 1px 1px);\n",
       "  clip: rect(1px, 1px, 1px, 1px);\n",
       "  height: 1px;\n",
       "  margin: -1px;\n",
       "  overflow: hidden;\n",
       "  padding: 0;\n",
       "  position: absolute;\n",
       "  width: 1px;\n",
       "}\n",
       "\n",
       "#sk-container-id-1 div.sk-dashed-wrapped {\n",
       "  border: 1px dashed var(--sklearn-color-line);\n",
       "  margin: 0 0.4em 0.5em 0.4em;\n",
       "  box-sizing: border-box;\n",
       "  padding-bottom: 0.4em;\n",
       "  background-color: var(--sklearn-color-background);\n",
       "}\n",
       "\n",
       "#sk-container-id-1 div.sk-container {\n",
       "  /* jupyter's `normalize.less` sets `[hidden] { display: none; }`\n",
       "     but bootstrap.min.css set `[hidden] { display: none !important; }`\n",
       "     so we also need the `!important` here to be able to override the\n",
       "     default hidden behavior on the sphinx rendered scikit-learn.org.\n",
       "     See: https://github.com/scikit-learn/scikit-learn/issues/21755 */\n",
       "  display: inline-block !important;\n",
       "  position: relative;\n",
       "}\n",
       "\n",
       "#sk-container-id-1 div.sk-text-repr-fallback {\n",
       "  display: none;\n",
       "}\n",
       "\n",
       "div.sk-parallel-item,\n",
       "div.sk-serial,\n",
       "div.sk-item {\n",
       "  /* draw centered vertical line to link estimators */\n",
       "  background-image: linear-gradient(var(--sklearn-color-text-on-default-background), var(--sklearn-color-text-on-default-background));\n",
       "  background-size: 2px 100%;\n",
       "  background-repeat: no-repeat;\n",
       "  background-position: center center;\n",
       "}\n",
       "\n",
       "/* Parallel-specific style estimator block */\n",
       "\n",
       "#sk-container-id-1 div.sk-parallel-item::after {\n",
       "  content: \"\";\n",
       "  width: 100%;\n",
       "  border-bottom: 2px solid var(--sklearn-color-text-on-default-background);\n",
       "  flex-grow: 1;\n",
       "}\n",
       "\n",
       "#sk-container-id-1 div.sk-parallel {\n",
       "  display: flex;\n",
       "  align-items: stretch;\n",
       "  justify-content: center;\n",
       "  background-color: var(--sklearn-color-background);\n",
       "  position: relative;\n",
       "}\n",
       "\n",
       "#sk-container-id-1 div.sk-parallel-item {\n",
       "  display: flex;\n",
       "  flex-direction: column;\n",
       "}\n",
       "\n",
       "#sk-container-id-1 div.sk-parallel-item:first-child::after {\n",
       "  align-self: flex-end;\n",
       "  width: 50%;\n",
       "}\n",
       "\n",
       "#sk-container-id-1 div.sk-parallel-item:last-child::after {\n",
       "  align-self: flex-start;\n",
       "  width: 50%;\n",
       "}\n",
       "\n",
       "#sk-container-id-1 div.sk-parallel-item:only-child::after {\n",
       "  width: 0;\n",
       "}\n",
       "\n",
       "/* Serial-specific style estimator block */\n",
       "\n",
       "#sk-container-id-1 div.sk-serial {\n",
       "  display: flex;\n",
       "  flex-direction: column;\n",
       "  align-items: center;\n",
       "  background-color: var(--sklearn-color-background);\n",
       "  padding-right: 1em;\n",
       "  padding-left: 1em;\n",
       "}\n",
       "\n",
       "\n",
       "/* Toggleable style: style used for estimator/Pipeline/ColumnTransformer box that is\n",
       "clickable and can be expanded/collapsed.\n",
       "- Pipeline and ColumnTransformer use this feature and define the default style\n",
       "- Estimators will overwrite some part of the style using the `sk-estimator` class\n",
       "*/\n",
       "\n",
       "/* Pipeline and ColumnTransformer style (default) */\n",
       "\n",
       "#sk-container-id-1 div.sk-toggleable {\n",
       "  /* Default theme specific background. It is overwritten whether we have a\n",
       "  specific estimator or a Pipeline/ColumnTransformer */\n",
       "  background-color: var(--sklearn-color-background);\n",
       "}\n",
       "\n",
       "/* Toggleable label */\n",
       "#sk-container-id-1 label.sk-toggleable__label {\n",
       "  cursor: pointer;\n",
       "  display: block;\n",
       "  width: 100%;\n",
       "  margin-bottom: 0;\n",
       "  padding: 0.5em;\n",
       "  box-sizing: border-box;\n",
       "  text-align: center;\n",
       "}\n",
       "\n",
       "#sk-container-id-1 label.sk-toggleable__label-arrow:before {\n",
       "  /* Arrow on the left of the label */\n",
       "  content: \"▸\";\n",
       "  float: left;\n",
       "  margin-right: 0.25em;\n",
       "  color: var(--sklearn-color-icon);\n",
       "}\n",
       "\n",
       "#sk-container-id-1 label.sk-toggleable__label-arrow:hover:before {\n",
       "  color: var(--sklearn-color-text);\n",
       "}\n",
       "\n",
       "/* Toggleable content - dropdown */\n",
       "\n",
       "#sk-container-id-1 div.sk-toggleable__content {\n",
       "  max-height: 0;\n",
       "  max-width: 0;\n",
       "  overflow: hidden;\n",
       "  text-align: left;\n",
       "  /* unfitted */\n",
       "  background-color: var(--sklearn-color-unfitted-level-0);\n",
       "}\n",
       "\n",
       "#sk-container-id-1 div.sk-toggleable__content.fitted {\n",
       "  /* fitted */\n",
       "  background-color: var(--sklearn-color-fitted-level-0);\n",
       "}\n",
       "\n",
       "#sk-container-id-1 div.sk-toggleable__content pre {\n",
       "  margin: 0.2em;\n",
       "  border-radius: 0.25em;\n",
       "  color: var(--sklearn-color-text);\n",
       "  /* unfitted */\n",
       "  background-color: var(--sklearn-color-unfitted-level-0);\n",
       "}\n",
       "\n",
       "#sk-container-id-1 div.sk-toggleable__content.fitted pre {\n",
       "  /* unfitted */\n",
       "  background-color: var(--sklearn-color-fitted-level-0);\n",
       "}\n",
       "\n",
       "#sk-container-id-1 input.sk-toggleable__control:checked~div.sk-toggleable__content {\n",
       "  /* Expand drop-down */\n",
       "  max-height: 200px;\n",
       "  max-width: 100%;\n",
       "  overflow: auto;\n",
       "}\n",
       "\n",
       "#sk-container-id-1 input.sk-toggleable__control:checked~label.sk-toggleable__label-arrow:before {\n",
       "  content: \"▾\";\n",
       "}\n",
       "\n",
       "/* Pipeline/ColumnTransformer-specific style */\n",
       "\n",
       "#sk-container-id-1 div.sk-label input.sk-toggleable__control:checked~label.sk-toggleable__label {\n",
       "  color: var(--sklearn-color-text);\n",
       "  background-color: var(--sklearn-color-unfitted-level-2);\n",
       "}\n",
       "\n",
       "#sk-container-id-1 div.sk-label.fitted input.sk-toggleable__control:checked~label.sk-toggleable__label {\n",
       "  background-color: var(--sklearn-color-fitted-level-2);\n",
       "}\n",
       "\n",
       "/* Estimator-specific style */\n",
       "\n",
       "/* Colorize estimator box */\n",
       "#sk-container-id-1 div.sk-estimator input.sk-toggleable__control:checked~label.sk-toggleable__label {\n",
       "  /* unfitted */\n",
       "  background-color: var(--sklearn-color-unfitted-level-2);\n",
       "}\n",
       "\n",
       "#sk-container-id-1 div.sk-estimator.fitted input.sk-toggleable__control:checked~label.sk-toggleable__label {\n",
       "  /* fitted */\n",
       "  background-color: var(--sklearn-color-fitted-level-2);\n",
       "}\n",
       "\n",
       "#sk-container-id-1 div.sk-label label.sk-toggleable__label,\n",
       "#sk-container-id-1 div.sk-label label {\n",
       "  /* The background is the default theme color */\n",
       "  color: var(--sklearn-color-text-on-default-background);\n",
       "}\n",
       "\n",
       "/* On hover, darken the color of the background */\n",
       "#sk-container-id-1 div.sk-label:hover label.sk-toggleable__label {\n",
       "  color: var(--sklearn-color-text);\n",
       "  background-color: var(--sklearn-color-unfitted-level-2);\n",
       "}\n",
       "\n",
       "/* Label box, darken color on hover, fitted */\n",
       "#sk-container-id-1 div.sk-label.fitted:hover label.sk-toggleable__label.fitted {\n",
       "  color: var(--sklearn-color-text);\n",
       "  background-color: var(--sklearn-color-fitted-level-2);\n",
       "}\n",
       "\n",
       "/* Estimator label */\n",
       "\n",
       "#sk-container-id-1 div.sk-label label {\n",
       "  font-family: monospace;\n",
       "  font-weight: bold;\n",
       "  display: inline-block;\n",
       "  line-height: 1.2em;\n",
       "}\n",
       "\n",
       "#sk-container-id-1 div.sk-label-container {\n",
       "  text-align: center;\n",
       "}\n",
       "\n",
       "/* Estimator-specific */\n",
       "#sk-container-id-1 div.sk-estimator {\n",
       "  font-family: monospace;\n",
       "  border: 1px dotted var(--sklearn-color-border-box);\n",
       "  border-radius: 0.25em;\n",
       "  box-sizing: border-box;\n",
       "  margin-bottom: 0.5em;\n",
       "  /* unfitted */\n",
       "  background-color: var(--sklearn-color-unfitted-level-0);\n",
       "}\n",
       "\n",
       "#sk-container-id-1 div.sk-estimator.fitted {\n",
       "  /* fitted */\n",
       "  background-color: var(--sklearn-color-fitted-level-0);\n",
       "}\n",
       "\n",
       "/* on hover */\n",
       "#sk-container-id-1 div.sk-estimator:hover {\n",
       "  /* unfitted */\n",
       "  background-color: var(--sklearn-color-unfitted-level-2);\n",
       "}\n",
       "\n",
       "#sk-container-id-1 div.sk-estimator.fitted:hover {\n",
       "  /* fitted */\n",
       "  background-color: var(--sklearn-color-fitted-level-2);\n",
       "}\n",
       "\n",
       "/* Specification for estimator info (e.g. \"i\" and \"?\") */\n",
       "\n",
       "/* Common style for \"i\" and \"?\" */\n",
       "\n",
       ".sk-estimator-doc-link,\n",
       "a:link.sk-estimator-doc-link,\n",
       "a:visited.sk-estimator-doc-link {\n",
       "  float: right;\n",
       "  font-size: smaller;\n",
       "  line-height: 1em;\n",
       "  font-family: monospace;\n",
       "  background-color: var(--sklearn-color-background);\n",
       "  border-radius: 1em;\n",
       "  height: 1em;\n",
       "  width: 1em;\n",
       "  text-decoration: none !important;\n",
       "  margin-left: 1ex;\n",
       "  /* unfitted */\n",
       "  border: var(--sklearn-color-unfitted-level-1) 1pt solid;\n",
       "  color: var(--sklearn-color-unfitted-level-1);\n",
       "}\n",
       "\n",
       ".sk-estimator-doc-link.fitted,\n",
       "a:link.sk-estimator-doc-link.fitted,\n",
       "a:visited.sk-estimator-doc-link.fitted {\n",
       "  /* fitted */\n",
       "  border: var(--sklearn-color-fitted-level-1) 1pt solid;\n",
       "  color: var(--sklearn-color-fitted-level-1);\n",
       "}\n",
       "\n",
       "/* On hover */\n",
       "div.sk-estimator:hover .sk-estimator-doc-link:hover,\n",
       ".sk-estimator-doc-link:hover,\n",
       "div.sk-label-container:hover .sk-estimator-doc-link:hover,\n",
       ".sk-estimator-doc-link:hover {\n",
       "  /* unfitted */\n",
       "  background-color: var(--sklearn-color-unfitted-level-3);\n",
       "  color: var(--sklearn-color-background);\n",
       "  text-decoration: none;\n",
       "}\n",
       "\n",
       "div.sk-estimator.fitted:hover .sk-estimator-doc-link.fitted:hover,\n",
       ".sk-estimator-doc-link.fitted:hover,\n",
       "div.sk-label-container:hover .sk-estimator-doc-link.fitted:hover,\n",
       ".sk-estimator-doc-link.fitted:hover {\n",
       "  /* fitted */\n",
       "  background-color: var(--sklearn-color-fitted-level-3);\n",
       "  color: var(--sklearn-color-background);\n",
       "  text-decoration: none;\n",
       "}\n",
       "\n",
       "/* Span, style for the box shown on hovering the info icon */\n",
       ".sk-estimator-doc-link span {\n",
       "  display: none;\n",
       "  z-index: 9999;\n",
       "  position: relative;\n",
       "  font-weight: normal;\n",
       "  right: .2ex;\n",
       "  padding: .5ex;\n",
       "  margin: .5ex;\n",
       "  width: min-content;\n",
       "  min-width: 20ex;\n",
       "  max-width: 50ex;\n",
       "  color: var(--sklearn-color-text);\n",
       "  box-shadow: 2pt 2pt 4pt #999;\n",
       "  /* unfitted */\n",
       "  background: var(--sklearn-color-unfitted-level-0);\n",
       "  border: .5pt solid var(--sklearn-color-unfitted-level-3);\n",
       "}\n",
       "\n",
       ".sk-estimator-doc-link.fitted span {\n",
       "  /* fitted */\n",
       "  background: var(--sklearn-color-fitted-level-0);\n",
       "  border: var(--sklearn-color-fitted-level-3);\n",
       "}\n",
       "\n",
       ".sk-estimator-doc-link:hover span {\n",
       "  display: block;\n",
       "}\n",
       "\n",
       "/* \"?\"-specific style due to the `<a>` HTML tag */\n",
       "\n",
       "#sk-container-id-1 a.estimator_doc_link {\n",
       "  float: right;\n",
       "  font-size: 1rem;\n",
       "  line-height: 1em;\n",
       "  font-family: monospace;\n",
       "  background-color: var(--sklearn-color-background);\n",
       "  border-radius: 1rem;\n",
       "  height: 1rem;\n",
       "  width: 1rem;\n",
       "  text-decoration: none;\n",
       "  /* unfitted */\n",
       "  color: var(--sklearn-color-unfitted-level-1);\n",
       "  border: var(--sklearn-color-unfitted-level-1) 1pt solid;\n",
       "}\n",
       "\n",
       "#sk-container-id-1 a.estimator_doc_link.fitted {\n",
       "  /* fitted */\n",
       "  border: var(--sklearn-color-fitted-level-1) 1pt solid;\n",
       "  color: var(--sklearn-color-fitted-level-1);\n",
       "}\n",
       "\n",
       "/* On hover */\n",
       "#sk-container-id-1 a.estimator_doc_link:hover {\n",
       "  /* unfitted */\n",
       "  background-color: var(--sklearn-color-unfitted-level-3);\n",
       "  color: var(--sklearn-color-background);\n",
       "  text-decoration: none;\n",
       "}\n",
       "\n",
       "#sk-container-id-1 a.estimator_doc_link.fitted:hover {\n",
       "  /* fitted */\n",
       "  background-color: var(--sklearn-color-fitted-level-3);\n",
       "}\n",
       "</style><div id=\"sk-container-id-1\" class=\"sk-top-container\"><div class=\"sk-text-repr-fallback\"><pre>DecisionTreeClassifier(max_depth=1)</pre><b>In a Jupyter environment, please rerun this cell to show the HTML representation or trust the notebook. <br />On GitHub, the HTML representation is unable to render, please try loading this page with nbviewer.org.</b></div><div class=\"sk-container\" hidden><div class=\"sk-item\"><div class=\"sk-estimator fitted sk-toggleable\"><input class=\"sk-toggleable__control sk-hidden--visually\" id=\"sk-estimator-id-1\" type=\"checkbox\" checked><label for=\"sk-estimator-id-1\" class=\"sk-toggleable__label fitted sk-toggleable__label-arrow fitted\">&nbsp;&nbsp;DecisionTreeClassifier<a class=\"sk-estimator-doc-link fitted\" rel=\"noreferrer\" target=\"_blank\" href=\"https://scikit-learn.org/1.5/modules/generated/sklearn.tree.DecisionTreeClassifier.html\">?<span>Documentation for DecisionTreeClassifier</span></a><span class=\"sk-estimator-doc-link fitted\">i<span>Fitted</span></span></label><div class=\"sk-toggleable__content fitted\"><pre>DecisionTreeClassifier(max_depth=1)</pre></div> </div></div></div></div>"
      ]
     },
     "execution_count": 20,
     "metadata": {},
     "output_type": "execute_result"
    }
   ],
   "execution_count": 20
  },
  {
   "cell_type": "code",
   "id": "20c9823d-4802-4c72-be4b-5343d42e9a35",
   "metadata": {
    "ExecuteTime": {
     "end_time": "2025-05-08T17:53:11.540151Z",
     "start_time": "2025-05-08T17:53:11.534988Z"
    }
   },
   "source": [
    "import sklearn.metrics as metrics\n",
    "\n",
    "print('Accuracy on validation data: {0:.4f}'.format(metrics.accuracy_score(yval, clf.predict(Xval))))"
   ],
   "outputs": [
    {
     "name": "stdout",
     "output_type": "stream",
     "text": [
      "Accuracy on validation data: 0.7900\n"
     ]
    }
   ],
   "execution_count": 21
  },
  {
   "cell_type": "markdown",
   "id": "43e5c8f8-3b7f-4ad2-9f5e-c5ab531a1a91",
   "metadata": {},
   "source": "A pretty good result, but I will try training k-NN and compare them."
  },
  {
   "cell_type": "markdown",
   "id": "34b5ff88-7e44-4ade-bc81-221b39568cf7",
   "metadata": {},
   "source": [
    "#### k-nearest neighbors\n",
    "\n",
    "k-NN is a good model for a classification problem when the data exhibits localized patterns and the choice of the correct distance metric and value of K is well-suited to the problem. It is efficient in cases where instances with similar features tend to belong to the same class. However, k-NN may perform poorly when dealing with high-dimensional or noisy data, as it may suffer from the curse of dimensionality and sensitivity to outliers. I will first try the smallest possible parameter of 1."
   ]
  },
  {
   "cell_type": "code",
   "id": "a5e4b09e-12c1-40f3-bf56-95c8002b13e8",
   "metadata": {
    "ExecuteTime": {
     "end_time": "2025-05-08T17:53:11.570981Z",
     "start_time": "2025-05-08T17:53:11.566280Z"
    }
   },
   "source": [
    "from sklearn.neighbors import KNeighborsClassifier\n",
    "\n",
    "clf = KNeighborsClassifier(n_neighbors = 1)\n",
    "clf.fit(Xtrain, ytrain)"
   ],
   "outputs": [
    {
     "data": {
      "text/plain": [
       "KNeighborsClassifier(n_neighbors=1)"
      ],
      "text/html": [
       "<style>#sk-container-id-2 {\n",
       "  /* Definition of color scheme common for light and dark mode */\n",
       "  --sklearn-color-text: black;\n",
       "  --sklearn-color-line: gray;\n",
       "  /* Definition of color scheme for unfitted estimators */\n",
       "  --sklearn-color-unfitted-level-0: #fff5e6;\n",
       "  --sklearn-color-unfitted-level-1: #f6e4d2;\n",
       "  --sklearn-color-unfitted-level-2: #ffe0b3;\n",
       "  --sklearn-color-unfitted-level-3: chocolate;\n",
       "  /* Definition of color scheme for fitted estimators */\n",
       "  --sklearn-color-fitted-level-0: #f0f8ff;\n",
       "  --sklearn-color-fitted-level-1: #d4ebff;\n",
       "  --sklearn-color-fitted-level-2: #b3dbfd;\n",
       "  --sklearn-color-fitted-level-3: cornflowerblue;\n",
       "\n",
       "  /* Specific color for light theme */\n",
       "  --sklearn-color-text-on-default-background: var(--sg-text-color, var(--theme-code-foreground, var(--jp-content-font-color1, black)));\n",
       "  --sklearn-color-background: var(--sg-background-color, var(--theme-background, var(--jp-layout-color0, white)));\n",
       "  --sklearn-color-border-box: var(--sg-text-color, var(--theme-code-foreground, var(--jp-content-font-color1, black)));\n",
       "  --sklearn-color-icon: #696969;\n",
       "\n",
       "  @media (prefers-color-scheme: dark) {\n",
       "    /* Redefinition of color scheme for dark theme */\n",
       "    --sklearn-color-text-on-default-background: var(--sg-text-color, var(--theme-code-foreground, var(--jp-content-font-color1, white)));\n",
       "    --sklearn-color-background: var(--sg-background-color, var(--theme-background, var(--jp-layout-color0, #111)));\n",
       "    --sklearn-color-border-box: var(--sg-text-color, var(--theme-code-foreground, var(--jp-content-font-color1, white)));\n",
       "    --sklearn-color-icon: #878787;\n",
       "  }\n",
       "}\n",
       "\n",
       "#sk-container-id-2 {\n",
       "  color: var(--sklearn-color-text);\n",
       "}\n",
       "\n",
       "#sk-container-id-2 pre {\n",
       "  padding: 0;\n",
       "}\n",
       "\n",
       "#sk-container-id-2 input.sk-hidden--visually {\n",
       "  border: 0;\n",
       "  clip: rect(1px 1px 1px 1px);\n",
       "  clip: rect(1px, 1px, 1px, 1px);\n",
       "  height: 1px;\n",
       "  margin: -1px;\n",
       "  overflow: hidden;\n",
       "  padding: 0;\n",
       "  position: absolute;\n",
       "  width: 1px;\n",
       "}\n",
       "\n",
       "#sk-container-id-2 div.sk-dashed-wrapped {\n",
       "  border: 1px dashed var(--sklearn-color-line);\n",
       "  margin: 0 0.4em 0.5em 0.4em;\n",
       "  box-sizing: border-box;\n",
       "  padding-bottom: 0.4em;\n",
       "  background-color: var(--sklearn-color-background);\n",
       "}\n",
       "\n",
       "#sk-container-id-2 div.sk-container {\n",
       "  /* jupyter's `normalize.less` sets `[hidden] { display: none; }`\n",
       "     but bootstrap.min.css set `[hidden] { display: none !important; }`\n",
       "     so we also need the `!important` here to be able to override the\n",
       "     default hidden behavior on the sphinx rendered scikit-learn.org.\n",
       "     See: https://github.com/scikit-learn/scikit-learn/issues/21755 */\n",
       "  display: inline-block !important;\n",
       "  position: relative;\n",
       "}\n",
       "\n",
       "#sk-container-id-2 div.sk-text-repr-fallback {\n",
       "  display: none;\n",
       "}\n",
       "\n",
       "div.sk-parallel-item,\n",
       "div.sk-serial,\n",
       "div.sk-item {\n",
       "  /* draw centered vertical line to link estimators */\n",
       "  background-image: linear-gradient(var(--sklearn-color-text-on-default-background), var(--sklearn-color-text-on-default-background));\n",
       "  background-size: 2px 100%;\n",
       "  background-repeat: no-repeat;\n",
       "  background-position: center center;\n",
       "}\n",
       "\n",
       "/* Parallel-specific style estimator block */\n",
       "\n",
       "#sk-container-id-2 div.sk-parallel-item::after {\n",
       "  content: \"\";\n",
       "  width: 100%;\n",
       "  border-bottom: 2px solid var(--sklearn-color-text-on-default-background);\n",
       "  flex-grow: 1;\n",
       "}\n",
       "\n",
       "#sk-container-id-2 div.sk-parallel {\n",
       "  display: flex;\n",
       "  align-items: stretch;\n",
       "  justify-content: center;\n",
       "  background-color: var(--sklearn-color-background);\n",
       "  position: relative;\n",
       "}\n",
       "\n",
       "#sk-container-id-2 div.sk-parallel-item {\n",
       "  display: flex;\n",
       "  flex-direction: column;\n",
       "}\n",
       "\n",
       "#sk-container-id-2 div.sk-parallel-item:first-child::after {\n",
       "  align-self: flex-end;\n",
       "  width: 50%;\n",
       "}\n",
       "\n",
       "#sk-container-id-2 div.sk-parallel-item:last-child::after {\n",
       "  align-self: flex-start;\n",
       "  width: 50%;\n",
       "}\n",
       "\n",
       "#sk-container-id-2 div.sk-parallel-item:only-child::after {\n",
       "  width: 0;\n",
       "}\n",
       "\n",
       "/* Serial-specific style estimator block */\n",
       "\n",
       "#sk-container-id-2 div.sk-serial {\n",
       "  display: flex;\n",
       "  flex-direction: column;\n",
       "  align-items: center;\n",
       "  background-color: var(--sklearn-color-background);\n",
       "  padding-right: 1em;\n",
       "  padding-left: 1em;\n",
       "}\n",
       "\n",
       "\n",
       "/* Toggleable style: style used for estimator/Pipeline/ColumnTransformer box that is\n",
       "clickable and can be expanded/collapsed.\n",
       "- Pipeline and ColumnTransformer use this feature and define the default style\n",
       "- Estimators will overwrite some part of the style using the `sk-estimator` class\n",
       "*/\n",
       "\n",
       "/* Pipeline and ColumnTransformer style (default) */\n",
       "\n",
       "#sk-container-id-2 div.sk-toggleable {\n",
       "  /* Default theme specific background. It is overwritten whether we have a\n",
       "  specific estimator or a Pipeline/ColumnTransformer */\n",
       "  background-color: var(--sklearn-color-background);\n",
       "}\n",
       "\n",
       "/* Toggleable label */\n",
       "#sk-container-id-2 label.sk-toggleable__label {\n",
       "  cursor: pointer;\n",
       "  display: block;\n",
       "  width: 100%;\n",
       "  margin-bottom: 0;\n",
       "  padding: 0.5em;\n",
       "  box-sizing: border-box;\n",
       "  text-align: center;\n",
       "}\n",
       "\n",
       "#sk-container-id-2 label.sk-toggleable__label-arrow:before {\n",
       "  /* Arrow on the left of the label */\n",
       "  content: \"▸\";\n",
       "  float: left;\n",
       "  margin-right: 0.25em;\n",
       "  color: var(--sklearn-color-icon);\n",
       "}\n",
       "\n",
       "#sk-container-id-2 label.sk-toggleable__label-arrow:hover:before {\n",
       "  color: var(--sklearn-color-text);\n",
       "}\n",
       "\n",
       "/* Toggleable content - dropdown */\n",
       "\n",
       "#sk-container-id-2 div.sk-toggleable__content {\n",
       "  max-height: 0;\n",
       "  max-width: 0;\n",
       "  overflow: hidden;\n",
       "  text-align: left;\n",
       "  /* unfitted */\n",
       "  background-color: var(--sklearn-color-unfitted-level-0);\n",
       "}\n",
       "\n",
       "#sk-container-id-2 div.sk-toggleable__content.fitted {\n",
       "  /* fitted */\n",
       "  background-color: var(--sklearn-color-fitted-level-0);\n",
       "}\n",
       "\n",
       "#sk-container-id-2 div.sk-toggleable__content pre {\n",
       "  margin: 0.2em;\n",
       "  border-radius: 0.25em;\n",
       "  color: var(--sklearn-color-text);\n",
       "  /* unfitted */\n",
       "  background-color: var(--sklearn-color-unfitted-level-0);\n",
       "}\n",
       "\n",
       "#sk-container-id-2 div.sk-toggleable__content.fitted pre {\n",
       "  /* unfitted */\n",
       "  background-color: var(--sklearn-color-fitted-level-0);\n",
       "}\n",
       "\n",
       "#sk-container-id-2 input.sk-toggleable__control:checked~div.sk-toggleable__content {\n",
       "  /* Expand drop-down */\n",
       "  max-height: 200px;\n",
       "  max-width: 100%;\n",
       "  overflow: auto;\n",
       "}\n",
       "\n",
       "#sk-container-id-2 input.sk-toggleable__control:checked~label.sk-toggleable__label-arrow:before {\n",
       "  content: \"▾\";\n",
       "}\n",
       "\n",
       "/* Pipeline/ColumnTransformer-specific style */\n",
       "\n",
       "#sk-container-id-2 div.sk-label input.sk-toggleable__control:checked~label.sk-toggleable__label {\n",
       "  color: var(--sklearn-color-text);\n",
       "  background-color: var(--sklearn-color-unfitted-level-2);\n",
       "}\n",
       "\n",
       "#sk-container-id-2 div.sk-label.fitted input.sk-toggleable__control:checked~label.sk-toggleable__label {\n",
       "  background-color: var(--sklearn-color-fitted-level-2);\n",
       "}\n",
       "\n",
       "/* Estimator-specific style */\n",
       "\n",
       "/* Colorize estimator box */\n",
       "#sk-container-id-2 div.sk-estimator input.sk-toggleable__control:checked~label.sk-toggleable__label {\n",
       "  /* unfitted */\n",
       "  background-color: var(--sklearn-color-unfitted-level-2);\n",
       "}\n",
       "\n",
       "#sk-container-id-2 div.sk-estimator.fitted input.sk-toggleable__control:checked~label.sk-toggleable__label {\n",
       "  /* fitted */\n",
       "  background-color: var(--sklearn-color-fitted-level-2);\n",
       "}\n",
       "\n",
       "#sk-container-id-2 div.sk-label label.sk-toggleable__label,\n",
       "#sk-container-id-2 div.sk-label label {\n",
       "  /* The background is the default theme color */\n",
       "  color: var(--sklearn-color-text-on-default-background);\n",
       "}\n",
       "\n",
       "/* On hover, darken the color of the background */\n",
       "#sk-container-id-2 div.sk-label:hover label.sk-toggleable__label {\n",
       "  color: var(--sklearn-color-text);\n",
       "  background-color: var(--sklearn-color-unfitted-level-2);\n",
       "}\n",
       "\n",
       "/* Label box, darken color on hover, fitted */\n",
       "#sk-container-id-2 div.sk-label.fitted:hover label.sk-toggleable__label.fitted {\n",
       "  color: var(--sklearn-color-text);\n",
       "  background-color: var(--sklearn-color-fitted-level-2);\n",
       "}\n",
       "\n",
       "/* Estimator label */\n",
       "\n",
       "#sk-container-id-2 div.sk-label label {\n",
       "  font-family: monospace;\n",
       "  font-weight: bold;\n",
       "  display: inline-block;\n",
       "  line-height: 1.2em;\n",
       "}\n",
       "\n",
       "#sk-container-id-2 div.sk-label-container {\n",
       "  text-align: center;\n",
       "}\n",
       "\n",
       "/* Estimator-specific */\n",
       "#sk-container-id-2 div.sk-estimator {\n",
       "  font-family: monospace;\n",
       "  border: 1px dotted var(--sklearn-color-border-box);\n",
       "  border-radius: 0.25em;\n",
       "  box-sizing: border-box;\n",
       "  margin-bottom: 0.5em;\n",
       "  /* unfitted */\n",
       "  background-color: var(--sklearn-color-unfitted-level-0);\n",
       "}\n",
       "\n",
       "#sk-container-id-2 div.sk-estimator.fitted {\n",
       "  /* fitted */\n",
       "  background-color: var(--sklearn-color-fitted-level-0);\n",
       "}\n",
       "\n",
       "/* on hover */\n",
       "#sk-container-id-2 div.sk-estimator:hover {\n",
       "  /* unfitted */\n",
       "  background-color: var(--sklearn-color-unfitted-level-2);\n",
       "}\n",
       "\n",
       "#sk-container-id-2 div.sk-estimator.fitted:hover {\n",
       "  /* fitted */\n",
       "  background-color: var(--sklearn-color-fitted-level-2);\n",
       "}\n",
       "\n",
       "/* Specification for estimator info (e.g. \"i\" and \"?\") */\n",
       "\n",
       "/* Common style for \"i\" and \"?\" */\n",
       "\n",
       ".sk-estimator-doc-link,\n",
       "a:link.sk-estimator-doc-link,\n",
       "a:visited.sk-estimator-doc-link {\n",
       "  float: right;\n",
       "  font-size: smaller;\n",
       "  line-height: 1em;\n",
       "  font-family: monospace;\n",
       "  background-color: var(--sklearn-color-background);\n",
       "  border-radius: 1em;\n",
       "  height: 1em;\n",
       "  width: 1em;\n",
       "  text-decoration: none !important;\n",
       "  margin-left: 1ex;\n",
       "  /* unfitted */\n",
       "  border: var(--sklearn-color-unfitted-level-1) 1pt solid;\n",
       "  color: var(--sklearn-color-unfitted-level-1);\n",
       "}\n",
       "\n",
       ".sk-estimator-doc-link.fitted,\n",
       "a:link.sk-estimator-doc-link.fitted,\n",
       "a:visited.sk-estimator-doc-link.fitted {\n",
       "  /* fitted */\n",
       "  border: var(--sklearn-color-fitted-level-1) 1pt solid;\n",
       "  color: var(--sklearn-color-fitted-level-1);\n",
       "}\n",
       "\n",
       "/* On hover */\n",
       "div.sk-estimator:hover .sk-estimator-doc-link:hover,\n",
       ".sk-estimator-doc-link:hover,\n",
       "div.sk-label-container:hover .sk-estimator-doc-link:hover,\n",
       ".sk-estimator-doc-link:hover {\n",
       "  /* unfitted */\n",
       "  background-color: var(--sklearn-color-unfitted-level-3);\n",
       "  color: var(--sklearn-color-background);\n",
       "  text-decoration: none;\n",
       "}\n",
       "\n",
       "div.sk-estimator.fitted:hover .sk-estimator-doc-link.fitted:hover,\n",
       ".sk-estimator-doc-link.fitted:hover,\n",
       "div.sk-label-container:hover .sk-estimator-doc-link.fitted:hover,\n",
       ".sk-estimator-doc-link.fitted:hover {\n",
       "  /* fitted */\n",
       "  background-color: var(--sklearn-color-fitted-level-3);\n",
       "  color: var(--sklearn-color-background);\n",
       "  text-decoration: none;\n",
       "}\n",
       "\n",
       "/* Span, style for the box shown on hovering the info icon */\n",
       ".sk-estimator-doc-link span {\n",
       "  display: none;\n",
       "  z-index: 9999;\n",
       "  position: relative;\n",
       "  font-weight: normal;\n",
       "  right: .2ex;\n",
       "  padding: .5ex;\n",
       "  margin: .5ex;\n",
       "  width: min-content;\n",
       "  min-width: 20ex;\n",
       "  max-width: 50ex;\n",
       "  color: var(--sklearn-color-text);\n",
       "  box-shadow: 2pt 2pt 4pt #999;\n",
       "  /* unfitted */\n",
       "  background: var(--sklearn-color-unfitted-level-0);\n",
       "  border: .5pt solid var(--sklearn-color-unfitted-level-3);\n",
       "}\n",
       "\n",
       ".sk-estimator-doc-link.fitted span {\n",
       "  /* fitted */\n",
       "  background: var(--sklearn-color-fitted-level-0);\n",
       "  border: var(--sklearn-color-fitted-level-3);\n",
       "}\n",
       "\n",
       ".sk-estimator-doc-link:hover span {\n",
       "  display: block;\n",
       "}\n",
       "\n",
       "/* \"?\"-specific style due to the `<a>` HTML tag */\n",
       "\n",
       "#sk-container-id-2 a.estimator_doc_link {\n",
       "  float: right;\n",
       "  font-size: 1rem;\n",
       "  line-height: 1em;\n",
       "  font-family: monospace;\n",
       "  background-color: var(--sklearn-color-background);\n",
       "  border-radius: 1rem;\n",
       "  height: 1rem;\n",
       "  width: 1rem;\n",
       "  text-decoration: none;\n",
       "  /* unfitted */\n",
       "  color: var(--sklearn-color-unfitted-level-1);\n",
       "  border: var(--sklearn-color-unfitted-level-1) 1pt solid;\n",
       "}\n",
       "\n",
       "#sk-container-id-2 a.estimator_doc_link.fitted {\n",
       "  /* fitted */\n",
       "  border: var(--sklearn-color-fitted-level-1) 1pt solid;\n",
       "  color: var(--sklearn-color-fitted-level-1);\n",
       "}\n",
       "\n",
       "/* On hover */\n",
       "#sk-container-id-2 a.estimator_doc_link:hover {\n",
       "  /* unfitted */\n",
       "  background-color: var(--sklearn-color-unfitted-level-3);\n",
       "  color: var(--sklearn-color-background);\n",
       "  text-decoration: none;\n",
       "}\n",
       "\n",
       "#sk-container-id-2 a.estimator_doc_link.fitted:hover {\n",
       "  /* fitted */\n",
       "  background-color: var(--sklearn-color-fitted-level-3);\n",
       "}\n",
       "</style><div id=\"sk-container-id-2\" class=\"sk-top-container\"><div class=\"sk-text-repr-fallback\"><pre>KNeighborsClassifier(n_neighbors=1)</pre><b>In a Jupyter environment, please rerun this cell to show the HTML representation or trust the notebook. <br />On GitHub, the HTML representation is unable to render, please try loading this page with nbviewer.org.</b></div><div class=\"sk-container\" hidden><div class=\"sk-item\"><div class=\"sk-estimator fitted sk-toggleable\"><input class=\"sk-toggleable__control sk-hidden--visually\" id=\"sk-estimator-id-2\" type=\"checkbox\" checked><label for=\"sk-estimator-id-2\" class=\"sk-toggleable__label fitted sk-toggleable__label-arrow fitted\">&nbsp;&nbsp;KNeighborsClassifier<a class=\"sk-estimator-doc-link fitted\" rel=\"noreferrer\" target=\"_blank\" href=\"https://scikit-learn.org/1.5/modules/generated/sklearn.neighbors.KNeighborsClassifier.html\">?<span>Documentation for KNeighborsClassifier</span></a><span class=\"sk-estimator-doc-link fitted\">i<span>Fitted</span></span></label><div class=\"sk-toggleable__content fitted\"><pre>KNeighborsClassifier(n_neighbors=1)</pre></div> </div></div></div></div>"
      ]
     },
     "execution_count": 22,
     "metadata": {},
     "output_type": "execute_result"
    }
   ],
   "execution_count": 22
  },
  {
   "cell_type": "code",
   "id": "16847795-d460-4b3a-b98d-0b109e602641",
   "metadata": {
    "ExecuteTime": {
     "end_time": "2025-05-08T17:53:11.605102Z",
     "start_time": "2025-05-08T17:53:11.596929Z"
    }
   },
   "source": [
    "print('Accuracy on validation data: {0:.4f}'.format(metrics.accuracy_score(yval, clf.predict(Xval))))"
   ],
   "outputs": [
    {
     "name": "stdout",
     "output_type": "stream",
     "text": [
      "Accuracy on validation data: 0.6800\n"
     ]
    }
   ],
   "execution_count": 23
  },
  {
   "cell_type": "markdown",
   "id": "3bcd1fb4-c0ef-4b66-b6b1-d1464d7594af",
   "metadata": {},
   "source": [
    "Even with the smallest parameter, it is clear that the decision tree was more accurate on the validation data. Anyway, I will perform hyperparameter tuning for both models and try to improve their accuracy.\n",
    "\n",
    "### IV. Hyperparameter tuning\n",
    "\n",
    "#### Decision tree\n",
    "\n",
    "I will first focus on hyperparameter tuning for the decision tree. For this, I will use the grid search algorithm, which will help me find the best values for the hyperparameters. Then, I will calculate metrics like F1 score, AUC, and plot the ROC curve for the tree with the newly found hyperparameters."
   ]
  },
  {
   "cell_type": "code",
   "id": "634bc862-2d5e-4636-8824-59957f28c4bd",
   "metadata": {
    "ExecuteTime": {
     "end_time": "2025-05-08T17:53:11.653335Z",
     "start_time": "2025-05-08T17:53:11.649473Z"
    }
   },
   "source": [
    "from sklearn.model_selection import ParameterGrid\n",
    "\n",
    "param_grid = {\n",
    "    'max_depth': range(1,30), \n",
    "    'criterion': ['entropy', 'gini']\n",
    "}\n",
    "param_comb = ParameterGrid(param_grid)\n",
    "[param_comb[i] for i in range(2)]"
   ],
   "outputs": [
    {
     "data": {
      "text/plain": [
       "[{'max_depth': 1, 'criterion': 'entropy'},\n",
       " {'max_depth': 2, 'criterion': 'entropy'}]"
      ]
     },
     "execution_count": 24,
     "metadata": {},
     "output_type": "execute_result"
    }
   ],
   "execution_count": 24
  },
  {
   "cell_type": "code",
   "id": "ae6be5a0-8f61-480b-b532-05f52b7b771a",
   "metadata": {
    "ExecuteTime": {
     "end_time": "2025-05-08T17:53:11.807882Z",
     "start_time": "2025-05-08T17:53:11.684797Z"
    }
   },
   "source": [
    "val_acc = []\n",
    "train_acc = []\n",
    "for params in param_comb:\n",
    "    clf = DecisionTreeClassifier(max_depth=params['max_depth'], criterion=params['criterion'])\n",
    "    clf.fit(Xtrain, ytrain)\n",
    "    train_acc.append(metrics.accuracy_score(ytrain, clf.predict(Xtrain)))\n",
    "    val_acc.append(metrics.accuracy_score(yval, clf.predict(Xval)))"
   ],
   "outputs": [],
   "execution_count": 25
  },
  {
   "cell_type": "code",
   "id": "d0b73cb7-39fc-4faa-8bcd-328574964e7d",
   "metadata": {
    "ExecuteTime": {
     "end_time": "2025-05-08T17:53:11.937380Z",
     "start_time": "2025-05-08T17:53:11.822751Z"
    }
   },
   "source": [
    "plt.figure(figsize=(20, 6))\n",
    "plt.plot(train_acc, marker='o', color='#FF69B4', linestyle='-')\n",
    "plt.plot(val_acc, marker='o', color='#9370DB', linestyle='-')\n",
    "plt.xlabel('hyperparameter index')\n",
    "plt.ylabel('accuracy')\n",
    "plt.legend(['train', 'validation'])\n",
    "plt.show()"
   ],
   "outputs": [
    {
     "data": {
      "text/plain": [
       "<Figure size 2000x600 with 1 Axes>"
      ],
      "image/png": "[encoded data removed]"
     },
     "metadata": {},
     "output_type": "display_data"
    }
   ],
   "execution_count": 26
  },
  {
   "cell_type": "code",
   "id": "fcf9ad6e-05da-4158-b1a8-49bb810f5a90",
   "metadata": {
    "ExecuteTime": {
     "end_time": "2025-05-08T17:53:11.952877Z",
     "start_time": "2025-05-08T17:53:11.950204Z"
    }
   },
   "source": [
    "bestprms = param_comb[np.argmax(val_acc)]\n",
    "bestprms"
   ],
   "outputs": [
    {
     "data": {
      "text/plain": [
       "{'max_depth': 3, 'criterion': 'entropy'}"
      ]
     },
     "execution_count": 27,
     "metadata": {},
     "output_type": "execute_result"
    }
   ],
   "execution_count": 27
  },
  {
   "cell_type": "code",
   "id": "b537c079-b378-465b-a481-4004d20219df",
   "metadata": {
    "ExecuteTime": {
     "end_time": "2025-05-08T17:53:11.993980Z",
     "start_time": "2025-05-08T17:53:11.986764Z"
    }
   },
   "source": [
    "clfdt = DecisionTreeClassifier(**bestprms)\n",
    "clfdt.fit(Xtrain, ytrain)\n",
    "y_pred = clfdt.predict(Xtest)\n",
    "print('Accuracy on validation data: {0:.4f}'.format(metrics.accuracy_score(yval, clfdt.predict(Xval))))\n",
    "print('F1 score: {0:.4f}'.format(metrics.f1_score(yval, clfdt.predict(Xval))))"
   ],
   "outputs": [
    {
     "name": "stdout",
     "output_type": "stream",
     "text": [
      "Accuracy on validation data: 0.8200\n",
      "F1 score: 0.7534\n"
     ]
    }
   ],
   "execution_count": 28
  },
  {
   "cell_type": "code",
   "id": "64e1e70b-10a3-455f-b2ff-e30ecf8915bc",
   "metadata": {
    "ExecuteTime": {
     "end_time": "2025-05-08T17:53:12.124224Z",
     "start_time": "2025-05-08T17:53:12.035684Z"
    }
   },
   "source": [
    "from sklearn.metrics import roc_auc_score, roc_curve\n",
    "\n",
    "# Prediction probabilities for the positive class (class 1) on the test set\n",
    "y_scores = clfdt.predict_proba(Xtest)[:, 1]\n",
    "\n",
    "# Compute AUC\n",
    "auc = roc_auc_score(ytest, y_scores)\n",
    "\n",
    "# Compute ROC\n",
    "fpr, tpr, thresholds = roc_curve(ytest, y_scores)\n",
    "\n",
    "# ROC plot\n",
    "plt.figure(figsize=(7, 7))\n",
    "plt.plot(fpr, tpr, color='#FF69B4', lw=2, label='ROC curve (AUC = {:.2f})'.format(auc))\n",
    "plt.plot([0, 1], [0, 1], color='#9370DB', lw=2, linestyle='--')\n",
    "plt.xlim([0.0, 1.0])\n",
    "plt.ylim([0.0, 1.05])\n",
    "plt.xlabel('false positive rate')\n",
    "plt.ylabel('true positive rate')\n",
    "plt.title('ROC curve')\n",
    "plt.legend(loc='lower right')\n",
    "plt.show()"
   ],
   "outputs": [
    {
     "data": {
      "text/plain": [
       "<Figure size 700x700 with 1 Axes>"
      ],
      "image/png": "[encoded data removed]"
     },
     "metadata": {},
     "output_type": "display_data"
    }
   ],
   "execution_count": 29
  },
  {
   "cell_type": "markdown",
   "id": "2d9c8d3a-94b1-48e3-b806-858ae5dc5b0a",
   "metadata": {},
   "source": [
    "The resulting F1 score is 0.75, and the AUC is 0.8, which is quite good. The F1 score means the model correctly classifies 75% of truly positive/negative cases while minimizing false positives and false negatives. An AUC of 80% shows that the model has a good ability to distinguish between positive and negative classes.\n",
    "\n",
    "#### k-nearest neighbors\n",
    "\n",
    "I will perform the same calculations as in the previous step, but for k-NN."
   ]
  },
  {
   "cell_type": "code",
   "id": "3e520230-4ff3-4fe6-ac9b-46bec00de405",
   "metadata": {
    "ExecuteTime": {
     "end_time": "2025-05-08T17:53:12.410663Z",
     "start_time": "2025-05-08T17:53:12.142461Z"
    }
   },
   "source": [
    "val_acc = []\n",
    "train_acc = []\n",
    "\n",
    "kneighbors = range(3, 20)\n",
    "for k in kneighbors:\n",
    "    clf = KNeighborsClassifier(n_neighbors = k)\n",
    "    clf.fit(Xtrain, ytrain)\n",
    "    val_acc.append(clf.score(Xval, yval))\n",
    "    train_acc.append(clf.score(Xtrain, ytrain))"
   ],
   "outputs": [],
   "execution_count": 30
  },
  {
   "cell_type": "code",
   "id": "69e8e39b-8460-4be2-b0cd-6edde7f8a4a0",
   "metadata": {
    "ExecuteTime": {
     "end_time": "2025-05-08T17:53:12.549491Z",
     "start_time": "2025-05-08T17:53:12.426803Z"
    }
   },
   "source": [
    "import matplotlib\n",
    "import matplotlib.pyplot as plt\n",
    "%matplotlib inline\n",
    "plt.figure(figsize=(20, 6))\n",
    "plt.plot(kneighbors, train_acc, marker='o', color='#FF69B4', linestyle='-')\n",
    "plt.plot(kneighbors, val_acc, marker='o', color='#9370DB', linestyle='-')\n",
    "plt.xlabel('k (number of neighbors)')\n",
    "plt.ylabel('accuracy')\n",
    "plt.legend(['train', 'validation'])\n",
    "plt.show()"
   ],
   "outputs": [
    {
     "data": {
      "text/plain": [
       "<Figure size 2000x600 with 1 Axes>"
      ],
      "image/png": "[encoded data removed]"
     },
     "metadata": {},
     "output_type": "display_data"
    }
   ],
   "execution_count": 31
  },
  {
   "cell_type": "code",
   "id": "a8b8e4a1-c0d9-4df9-91c5-e088b0a1e29a",
   "metadata": {
    "ExecuteTime": {
     "end_time": "2025-05-08T17:53:12.571766Z",
     "start_time": "2025-05-08T17:53:12.568896Z"
    }
   },
   "source": [
    "optimal_k = kneighbors[val_acc.index(max(val_acc))]\n",
    "print(\"Optimal k value:\", optimal_k)"
   ],
   "outputs": [
    {
     "name": "stdout",
     "output_type": "stream",
     "text": [
      "Optimal k value: 3\n"
     ]
    }
   ],
   "execution_count": 32
  },
  {
   "cell_type": "code",
   "id": "44d7bee0-485a-46f6-96f9-c9fa8e2b1eda",
   "metadata": {
    "ExecuteTime": {
     "end_time": "2025-05-08T17:53:12.620373Z",
     "start_time": "2025-05-08T17:53:12.606021Z"
    }
   },
   "source": [
    "clfknn = KNeighborsClassifier(optimal_k)\n",
    "clfknn.fit(Xtrain, ytrain)\n",
    "print('Accuracy on validation data: {0:.4f}'.format(metrics.accuracy_score(yval, clfknn.predict(Xval))))\n",
    "print('F1 score: {0:.4f}'.format(metrics.f1_score(yval, clfknn.predict(Xval))))"
   ],
   "outputs": [
    {
     "name": "stdout",
     "output_type": "stream",
     "text": [
      "Accuracy on validation data: 0.7600\n",
      "F1 score: 0.6842\n"
     ]
    }
   ],
   "execution_count": 33
  },
  {
   "cell_type": "code",
   "id": "d21ea641-f8b9-462c-9180-fd98bc3b415f",
   "metadata": {
    "ExecuteTime": {
     "end_time": "2025-05-08T17:53:12.738761Z",
     "start_time": "2025-05-08T17:53:12.640627Z"
    }
   },
   "source": [
    "# Predict probabilities for the positive class (class 1) on the test set\n",
    "y_scores = clfknn.predict_proba(Xtest)[:, 1]\n",
    "\n",
    "# Calculate AUC\n",
    "auc = roc_auc_score(ytest, y_scores)\n",
    "\n",
    "# Calculate ROC\n",
    "fpr, tpr, thresholds = roc_curve(ytest, y_scores)\n",
    "\n",
    "# Plot the ROC\n",
    "plt.figure(figsize=(7, 7))\n",
    "plt.plot(fpr, tpr, color='#FF69B4', lw=2, label='ROC curve (AUC = {:.2f})'.format(auc))\n",
    "plt.plot([0, 1], [0, 1], color='#9370DB', lw=2, linestyle='--')\n",
    "plt.xlim([0.0, 1.0])\n",
    "plt.ylim([0.0, 1.05])\n",
    "plt.xlabel('false positive rate')\n",
    "plt.ylabel('true positive rate')\n",
    "plt.title('ROC curve')\n",
    "plt.legend(loc='lower right')\n",
    "plt.show()"
   ],
   "outputs": [
    {
     "data": {
      "text/plain": [
       "<Figure size 700x700 with 1 Axes>"
      ],
      "image/png": "[encoded data removed]"
     },
     "metadata": {},
     "output_type": "display_data"
    }
   ],
   "execution_count": 34
  },
  {
   "cell_type": "markdown",
   "id": "4b4d8271-be88-4de3-8262-6e9bed4739e4",
   "metadata": {},
   "source": [
    "The achieved F1 score is 0.7, and AUC is 0.72 (a little lower than the results of the decision tree).\n",
    "\n",
    "Therefore, the decision tree has better accuracy: F1 = 0.75 compared to k-NN with 0.7; AUC = 0.8 compared to 0.72 (k-NN). The final best model will therefore be the decision tree with max_depth = 3 and criterion = entropy. I will now look at the accuracy of the model on data it has not seen before:"
   ]
  },
  {
   "cell_type": "code",
   "id": "318930bc-95e6-4a84-8637-63c5c14b1109",
   "metadata": {
    "ExecuteTime": {
     "end_time": "2025-05-08T17:53:12.776731Z",
     "start_time": "2025-05-08T17:53:12.771263Z"
    }
   },
   "source": [
    "clfdt = DecisionTreeClassifier(**bestprms)\n",
    "clfdt.fit(Xtrain, ytrain)\n",
    "y_pred = clfdt.predict(Xtest)\n",
    "print('Accuracy on test data: {0:.4f}'.format(metrics.accuracy_score(ytest, clfdt.predict(Xtest))))"
   ],
   "outputs": [
    {
     "name": "stdout",
     "output_type": "stream",
     "text": [
      "Accuracy on test data: 0.7500\n"
     ]
    }
   ],
   "execution_count": 35
  },
  {
   "cell_type": "markdown",
   "id": "182fa20c-86c7-49d8-95e8-eda1bee39f9c",
   "metadata": {},
   "source": [
    "### V. Final prediction\n",
    "\n",
    "Now I will train the tree with the found optimal hyperparameters on the entire training set. The resulting model will be usable for predicting the \"survived\" feature."
   ]
  },
  {
   "cell_type": "code",
   "id": "f3988454-2e02-47fe-8c7a-859f66d0f189",
   "metadata": {
    "ExecuteTime": {
     "end_time": "2025-05-08T17:53:12.859120Z",
     "start_time": "2025-05-08T17:53:12.851740Z"
    }
   },
   "source": [
    "predictions = clfdt.predict(evalpsngrs)\n",
    "results_df = pd.DataFrame({'Survived': predictions})\n",
    "results_df.to_csv('results.csv', index=False)"
   ],
   "outputs": [],
   "execution_count": 36
  },
  {
   "cell_type": "code",
   "id": "183b2782-5c38-4f8f-b1a9-a530cc1fece4",
   "metadata": {
    "ExecuteTime": {
     "end_time": "2025-05-08T17:53:12.919242Z",
     "start_time": "2025-05-08T17:53:12.914194Z"
    }
   },
   "source": [
    "res = pd.read_csv('results.csv')\n",
    "res.index = range(1000, 1000 + len(res))\n",
    "res.to_csv('results.csv')"
   ],
   "outputs": [],
   "execution_count": 37
  },
  {
   "cell_type": "code",
   "id": "99a51fb9-8a5e-4bb2-8ec5-0a713ebc0dc8",
   "metadata": {
    "ExecuteTime": {
     "end_time": "2025-05-08T17:53:12.949346Z",
     "start_time": "2025-05-08T17:53:12.945170Z"
    }
   },
   "source": [
    "counts = results_df['Survived'].value_counts()\n",
    "print('survived:', counts[1])\n",
    "print('not survived:', counts[0])"
   ],
   "outputs": [
    {
     "name": "stdout",
     "output_type": "stream",
     "text": [
      "survived: 76\n",
      "not survived: 233\n"
     ]
    }
   ],
   "execution_count": 38
  },
  {
   "cell_type": "markdown",
   "id": "bb56d1a2-335d-47ac-bc70-a9e9690921e1",
   "metadata": {},
   "source": [
    "### VI. Conclusion\n",
    "\n",
    "To complete this task, it was first necessary to analyze which features (called features) influenced the survival of Titanic passengers. An exploratory data analysis was performed (with visualizations of the final most significant properties), followed by the creation of 2 models — a decision tree and k-NN, for which the best hyperparameters were then found. The final most accurate model was selected based on metrics such as F1 score, ROC, and AUC. Finally, a prediction for the dependent variable \"survived\" in the evaluation.csv file was made, and the results were saved in a new file results.csv."
   ]
  },
  {
   "metadata": {
    "ExecuteTime": {
     "end_time": "2025-05-08T17:53:12.998431Z",
     "start_time": "2025-05-08T17:53:12.996951Z"
    }
   },
   "cell_type": "code",
   "source": "",
   "id": "6f2960afd64c7ad2",
   "outputs": [],
   "execution_count": null
  }
 ],
 "metadata": {
  "kernelspec": {
   "display_name": "Python 3 (ipykernel)",
   "language": "python",
   "name": "python3"
  },
  "language_info": {
   "codemirror_mode": {
    "name": "ipython",
    "version": 3
   },
   "file_extension": ".py",
   "mimetype": "text/x-python",
   "name": "python",
   "nbconvert_exporter": "python",
   "pygments_lexer": "ipython3",
   "version": "3.11.5"
  }
 },
 "nbformat": 4,
 "nbformat_minor": 5
}
