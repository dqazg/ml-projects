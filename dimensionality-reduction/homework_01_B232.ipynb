{
 "cells": [
  {
   "cell_type": "markdown",
   "metadata": {},
   "source": [
    "# Fashion Image Classification with Dimensionality Reduction\n",
    "\n",
    "In this project, I tackled the challenge of high-dimensional data and implemented binary classification models after applying dimensionality reduction techniques.\n",
    "\n",
    "## Project Overview\n",
    "\n",
    "The dataset consists of 28x28 grayscale images derived from the [Fashion MNIST dataset](https://www.kaggle.com/datasets/zalando-research/fashionmnist). These images represent various fashion items, and the goal was to classify them correctly.\n",
    "\n",
    "I used two datasets:\n",
    "- `train.csv`: for training and validation, including the target variable `label`.\n",
    "- `evaluate.csv`: for final evaluation without labels.\n",
    "\n",
    "## Data Exploration and Preparation\n",
    "\n",
    "- I loaded the data from `train.csv` and split it into training, validation, and testing subsets.\n",
    "- I conducted an initial exploratory data analysis, visualized several examples, and discussed the data distribution and characteristics.\n",
    "\n",
    "## Classification Models\n",
    "\n",
    "I applied the following classification models:\n",
    "\n",
    "### 1. **Support Vector Machine (SVM)**\n",
    "- Explored the model’s appropriateness for image classification.\n",
    "- Tuned key hyperparameters (e.g., C, gamma).\n",
    "- Tried at least two different kernel functions (e.g., RBF, linear).\n",
    "- Evaluated the impact of standardization/normalization on performance.\n",
    "\n",
    "### 2. **Naive Bayes Classifier**\n",
    "- Evaluated its assumptions in the context of image data.\n",
    "- Discussed the effect of normalization.\n",
    "- Tuned where applicable.\n",
    "\n",
    "### 3. **Linear Discriminant Analysis (LDA)**\n",
    "- Investigated its performance on the original high-dimensional feature space.\n",
    "- Tuned preprocessing steps and evaluated accuracy.\n",
    "\n",
    "Each model was carefully evaluated and the results were compared and discussed.\n",
    "\n",
    "## Dimensionality Reduction\n",
    "\n",
    "I then experimented with reducing the dimensionality of the image data using:\n",
    "\n",
    "### 1. **Principal Component Analysis (PCA)**\n",
    "### 2. **Locally Linear Embedding (LLE)**\n",
    "\n",
    "For both techniques:\n",
    "- I re-applied the classification models using the transformed data.\n",
    "- I analyzed how the number of dimensions affected model performance.\n",
    "- I identified the optimal number of components for the best trade-off between complexity and accuracy.\n",
    "\n",
    "## Final Model and Evaluation\n",
    "\n",
    "- Based on all experiments, I selected the best-performing model and reduction technique.\n",
    "- I estimated its generalization performance on unseen data.\n",
    "\n",
    "## Results and Submission\n",
    "\n",
    "I generated predictions on the `evaluate.csv` dataset using the final model. The results were saved in a file named `results.csv`.\n",
    "\n"
   ]
  },
  {
   "cell_type": "markdown",
   "metadata": {
    "collapsed": false
   },
   "source": [
    "### I. Data loading and basic analysis\n",
    "\n",
    "To complete this task, I will first need the pandas package to work with the data."
   ]
  },
  {
   "cell_type": "code",
   "metadata": {
    "collapsed": false,
    "ExecuteTime": {
     "end_time": "2025-05-08T18:41:35.764514Z",
     "start_time": "2025-05-08T18:41:35.545889Z"
    }
   },
   "source": [
    "import pandas as pd\n",
    "\n",
    "data = pd.read_csv('train.csv')\n",
    "\n",
    "data.info()\n",
    "data.head()"
   ],
   "outputs": [
    {
     "name": "stdout",
     "output_type": "stream",
     "text": [
      "<class 'pandas.core.frame.DataFrame'>\n",
      "RangeIndex: 2400 entries, 0 to 2399\n",
      "Columns: 785 entries, label to pixel784\n",
      "dtypes: int64(785)\n",
      "memory usage: 14.4 MB\n"
     ]
    },
    {
     "data": {
      "text/plain": [
       "   label  pixel1  pixel2  pixel3  pixel4  pixel5  pixel6  pixel7  pixel8  \\\n",
       "0      1       0       0       0       0       0       0       0       0   \n",
       "1      0       0       0       0       0       0       0       0       0   \n",
       "2      1       0       0       0       0       0       0       0       0   \n",
       "3      0       0       0       0       0       0       0       0       0   \n",
       "4      1       0       0       0       0       0       0       0       0   \n",
       "\n",
       "   pixel9  ...  pixel775  pixel776  pixel777  pixel778  pixel779  pixel780  \\\n",
       "0       0  ...       208       122         0         0         0         0   \n",
       "1       0  ...         0         0         0         0         0         0   \n",
       "2       1  ...        75        11         0         1         0         0   \n",
       "3       0  ...       106       103        76         0         0         0   \n",
       "4       0  ...         0         0         0         0         0         0   \n",
       "\n",
       "   pixel781  pixel782  pixel783  pixel784  \n",
       "0         0         0         0         0  \n",
       "1         0         0         0         0  \n",
       "2         0         0         0         0  \n",
       "3         0         0         0         0  \n",
       "4         0         0         0         0  \n",
       "\n",
       "[5 rows x 785 columns]"
      ],
      "text/html": [
       "<div>\n",
       "<style scoped>\n",
       "    .dataframe tbody tr th:only-of-type {\n",
       "        vertical-align: middle;\n",
       "    }\n",
       "\n",
       "    .dataframe tbody tr th {\n",
       "        vertical-align: top;\n",
       "    }\n",
       "\n",
       "    .dataframe thead th {\n",
       "        text-align: right;\n",
       "    }\n",
       "</style>\n",
       "<table border=\"1\" class=\"dataframe\">\n",
       "  <thead>\n",
       "    <tr style=\"text-align: right;\">\n",
       "      <th></th>\n",
       "      <th>label</th>\n",
       "      <th>pixel1</th>\n",
       "      <th>pixel2</th>\n",
       "      <th>pixel3</th>\n",
       "      <th>pixel4</th>\n",
       "      <th>pixel5</th>\n",
       "      <th>pixel6</th>\n",
       "      <th>pixel7</th>\n",
       "      <th>pixel8</th>\n",
       "      <th>pixel9</th>\n",
       "      <th>...</th>\n",
       "      <th>pixel775</th>\n",
       "      <th>pixel776</th>\n",
       "      <th>pixel777</th>\n",
       "      <th>pixel778</th>\n",
       "      <th>pixel779</th>\n",
       "      <th>pixel780</th>\n",
       "      <th>pixel781</th>\n",
       "      <th>pixel782</th>\n",
       "      <th>pixel783</th>\n",
       "      <th>pixel784</th>\n",
       "    </tr>\n",
       "  </thead>\n",
       "  <tbody>\n",
       "    <tr>\n",
       "      <th>0</th>\n",
       "      <td>1</td>\n",
       "      <td>0</td>\n",
       "      <td>0</td>\n",
       "      <td>0</td>\n",
       "      <td>0</td>\n",
       "      <td>0</td>\n",
       "      <td>0</td>\n",
       "      <td>0</td>\n",
       "      <td>0</td>\n",
       "      <td>0</td>\n",
       "      <td>...</td>\n",
       "      <td>208</td>\n",
       "      <td>122</td>\n",
       "      <td>0</td>\n",
       "      <td>0</td>\n",
       "      <td>0</td>\n",
       "      <td>0</td>\n",
       "      <td>0</td>\n",
       "      <td>0</td>\n",
       "      <td>0</td>\n",
       "      <td>0</td>\n",
       "    </tr>\n",
       "    <tr>\n",
       "      <th>1</th>\n",
       "      <td>0</td>\n",
       "      <td>0</td>\n",
       "      <td>0</td>\n",
       "      <td>0</td>\n",
       "      <td>0</td>\n",
       "      <td>0</td>\n",
       "      <td>0</td>\n",
       "      <td>0</td>\n",
       "      <td>0</td>\n",
       "      <td>0</td>\n",
       "      <td>...</td>\n",
       "      <td>0</td>\n",
       "      <td>0</td>\n",
       "      <td>0</td>\n",
       "      <td>0</td>\n",
       "      <td>0</td>\n",
       "      <td>0</td>\n",
       "      <td>0</td>\n",
       "      <td>0</td>\n",
       "      <td>0</td>\n",
       "      <td>0</td>\n",
       "    </tr>\n",
       "    <tr>\n",
       "      <th>2</th>\n",
       "      <td>1</td>\n",
       "      <td>0</td>\n",
       "      <td>0</td>\n",
       "      <td>0</td>\n",
       "      <td>0</td>\n",
       "      <td>0</td>\n",
       "      <td>0</td>\n",
       "      <td>0</td>\n",
       "      <td>0</td>\n",
       "      <td>1</td>\n",
       "      <td>...</td>\n",
       "      <td>75</td>\n",
       "      <td>11</td>\n",
       "      <td>0</td>\n",
       "      <td>1</td>\n",
       "      <td>0</td>\n",
       "      <td>0</td>\n",
       "      <td>0</td>\n",
       "      <td>0</td>\n",
       "      <td>0</td>\n",
       "      <td>0</td>\n",
       "    </tr>\n",
       "    <tr>\n",
       "      <th>3</th>\n",
       "      <td>0</td>\n",
       "      <td>0</td>\n",
       "      <td>0</td>\n",
       "      <td>0</td>\n",
       "      <td>0</td>\n",
       "      <td>0</td>\n",
       "      <td>0</td>\n",
       "      <td>0</td>\n",
       "      <td>0</td>\n",
       "      <td>0</td>\n",
       "      <td>...</td>\n",
       "      <td>106</td>\n",
       "      <td>103</td>\n",
       "      <td>76</td>\n",
       "      <td>0</td>\n",
       "      <td>0</td>\n",
       "      <td>0</td>\n",
       "      <td>0</td>\n",
       "      <td>0</td>\n",
       "      <td>0</td>\n",
       "      <td>0</td>\n",
       "    </tr>\n",
       "    <tr>\n",
       "      <th>4</th>\n",
       "      <td>1</td>\n",
       "      <td>0</td>\n",
       "      <td>0</td>\n",
       "      <td>0</td>\n",
       "      <td>0</td>\n",
       "      <td>0</td>\n",
       "      <td>0</td>\n",
       "      <td>0</td>\n",
       "      <td>0</td>\n",
       "      <td>0</td>\n",
       "      <td>...</td>\n",
       "      <td>0</td>\n",
       "      <td>0</td>\n",
       "      <td>0</td>\n",
       "      <td>0</td>\n",
       "      <td>0</td>\n",
       "      <td>0</td>\n",
       "      <td>0</td>\n",
       "      <td>0</td>\n",
       "      <td>0</td>\n",
       "      <td>0</td>\n",
       "    </tr>\n",
       "  </tbody>\n",
       "</table>\n",
       "<p>5 rows × 785 columns</p>\n",
       "</div>"
      ]
     },
     "execution_count": 1,
     "metadata": {},
     "output_type": "execute_result"
    }
   ],
   "execution_count": 1
  },
  {
   "cell_type": "markdown",
   "metadata": {
    "collapsed": false
   },
   "source": "The dataset contains a column called \"label\", which has only two values — 1 and 0 (representing two types of clothing), and 784 columns of pixels representing grayscale color values. I can, for example, look at the images to get a clearer idea of what kinds of clothing we’re dealing with."
  },
  {
   "cell_type": "code",
   "metadata": {
    "collapsed": false,
    "ExecuteTime": {
     "end_time": "2025-05-08T18:41:36.288343Z",
     "start_time": "2025-05-08T18:41:35.899706Z"
    }
   },
   "source": [
    "import matplotlib.pyplot as plt\n",
    "\n",
    "# Define image dimensions\n",
    "image_height = 28\n",
    "image_width = 28\n",
    "\n",
    "num_images_to_show = 4\n",
    "\n",
    "fig, axes = plt.subplots(2, 2, figsize=(8, 8))\n",
    "\n",
    "for index, ax in zip(range(num_images_to_show), axes.flat):\n",
    "    # Extract pixel values (excluding the label)\n",
    "    pixels = data.iloc[index, 1:].values\n",
    "\n",
    "    # Reshape pixel values into a 28x28 image array\n",
    "    image = pixels.reshape(image_height, image_width)\n",
    "\n",
    "    # Display the image in the current subplot\n",
    "    ax.imshow(image, cmap='gray')\n",
    "    ax.set_title(f\"Label: {data.iloc[index]['label']}\")\n",
    "    ax.axis('off')  # Hide axes\n",
    "\n",
    "plt.tight_layout()\n",
    "plt.show()"
   ],
   "outputs": [
    {
     "data": {
      "text/plain": [
       "<Figure size 800x800 with 4 Axes>"
      ],
      "image/png": "[encoded data removed]"
     },
     "metadata": {},
     "output_type": "display_data"
    }
   ],
   "execution_count": 2
  },
  {
   "cell_type": "markdown",
   "metadata": {
    "collapsed": false
   },
   "source": "It’s quite clear that the value 1 corresponds to dresses (and, as it turns out, all other garments except pants), and the value 0 corresponds to pants. Now, let’s proceed with further EDA."
  },
  {
   "cell_type": "code",
   "metadata": {
    "collapsed": false,
    "ExecuteTime": {
     "end_time": "2025-05-08T18:41:36.757684Z",
     "start_time": "2025-05-08T18:41:36.382396Z"
    }
   },
   "source": [
    "data.describe()"
   ],
   "outputs": [
    {
     "data": {
      "text/plain": [
       "             label  pixel1  pixel2  pixel3       pixel4       pixel5  \\\n",
       "count  2400.000000  2400.0  2400.0  2400.0  2400.000000  2400.000000   \n",
       "mean      0.484167     0.0     0.0     0.0     0.002083     0.098333   \n",
       "std       0.499853     0.0     0.0     0.0     0.067682     1.895871   \n",
       "min       0.000000     0.0     0.0     0.0     0.000000     0.000000   \n",
       "25%       0.000000     0.0     0.0     0.0     0.000000     0.000000   \n",
       "50%       0.000000     0.0     0.0     0.0     0.000000     0.000000   \n",
       "75%       1.000000     0.0     0.0     0.0     0.000000     0.000000   \n",
       "max       1.000000     0.0     0.0     0.0     3.000000    69.000000   \n",
       "\n",
       "            pixel6       pixel7       pixel8       pixel9  ...     pixel775  \\\n",
       "count  2400.000000  2400.000000  2400.000000  2400.000000  ...  2400.000000   \n",
       "mean      0.302500     0.846250     2.256250     6.025000  ...    65.379583   \n",
       "std       5.014792     9.262155    15.491603    25.358871  ...    66.874570   \n",
       "min       0.000000     0.000000     0.000000     0.000000  ...     0.000000   \n",
       "25%       0.000000     0.000000     0.000000     0.000000  ...     0.000000   \n",
       "50%       0.000000     0.000000     0.000000     0.000000  ...    48.000000   \n",
       "75%       0.000000     0.000000     0.000000     0.000000  ...   114.250000   \n",
       "max     188.000000   189.000000   219.000000   243.000000  ...   248.000000   \n",
       "\n",
       "          pixel776     pixel777     pixel778     pixel779     pixel780  \\\n",
       "count  2400.000000  2400.000000  2400.000000  2400.000000  2400.000000   \n",
       "mean     26.975417     9.651667     3.307500     1.249167     0.460417   \n",
       "std      49.060424    30.540885    18.067668    11.443957     6.363199   \n",
       "min       0.000000     0.000000     0.000000     0.000000     0.000000   \n",
       "25%       0.000000     0.000000     0.000000     0.000000     0.000000   \n",
       "50%       0.000000     0.000000     0.000000     0.000000     0.000000   \n",
       "75%      35.000000     0.000000     0.000000     0.000000     0.000000   \n",
       "max     252.000000   246.000000   212.000000   179.000000   176.000000   \n",
       "\n",
       "         pixel781     pixel782     pixel783  pixel784  \n",
       "count  2400.00000  2400.000000  2400.000000    2400.0  \n",
       "mean      0.11250     0.038750     0.010833       0.0  \n",
       "std       2.82043     1.742655     0.530723       0.0  \n",
       "min       0.00000     0.000000     0.000000       0.0  \n",
       "25%       0.00000     0.000000     0.000000       0.0  \n",
       "50%       0.00000     0.000000     0.000000       0.0  \n",
       "75%       0.00000     0.000000     0.000000       0.0  \n",
       "max      88.00000    85.000000    26.000000       0.0  \n",
       "\n",
       "[8 rows x 785 columns]"
      ],
      "text/html": [
       "<div>\n",
       "<style scoped>\n",
       "    .dataframe tbody tr th:only-of-type {\n",
       "        vertical-align: middle;\n",
       "    }\n",
       "\n",
       "    .dataframe tbody tr th {\n",
       "        vertical-align: top;\n",
       "    }\n",
       "\n",
       "    .dataframe thead th {\n",
       "        text-align: right;\n",
       "    }\n",
       "</style>\n",
       "<table border=\"1\" class=\"dataframe\">\n",
       "  <thead>\n",
       "    <tr style=\"text-align: right;\">\n",
       "      <th></th>\n",
       "      <th>label</th>\n",
       "      <th>pixel1</th>\n",
       "      <th>pixel2</th>\n",
       "      <th>pixel3</th>\n",
       "      <th>pixel4</th>\n",
       "      <th>pixel5</th>\n",
       "      <th>pixel6</th>\n",
       "      <th>pixel7</th>\n",
       "      <th>pixel8</th>\n",
       "      <th>pixel9</th>\n",
       "      <th>...</th>\n",
       "      <th>pixel775</th>\n",
       "      <th>pixel776</th>\n",
       "      <th>pixel777</th>\n",
       "      <th>pixel778</th>\n",
       "      <th>pixel779</th>\n",
       "      <th>pixel780</th>\n",
       "      <th>pixel781</th>\n",
       "      <th>pixel782</th>\n",
       "      <th>pixel783</th>\n",
       "      <th>pixel784</th>\n",
       "    </tr>\n",
       "  </thead>\n",
       "  <tbody>\n",
       "    <tr>\n",
       "      <th>count</th>\n",
       "      <td>2400.000000</td>\n",
       "      <td>2400.0</td>\n",
       "      <td>2400.0</td>\n",
       "      <td>2400.0</td>\n",
       "      <td>2400.000000</td>\n",
       "      <td>2400.000000</td>\n",
       "      <td>2400.000000</td>\n",
       "      <td>2400.000000</td>\n",
       "      <td>2400.000000</td>\n",
       "      <td>2400.000000</td>\n",
       "      <td>...</td>\n",
       "      <td>2400.000000</td>\n",
       "      <td>2400.000000</td>\n",
       "      <td>2400.000000</td>\n",
       "      <td>2400.000000</td>\n",
       "      <td>2400.000000</td>\n",
       "      <td>2400.000000</td>\n",
       "      <td>2400.00000</td>\n",
       "      <td>2400.000000</td>\n",
       "      <td>2400.000000</td>\n",
       "      <td>2400.0</td>\n",
       "    </tr>\n",
       "    <tr>\n",
       "      <th>mean</th>\n",
       "      <td>0.484167</td>\n",
       "      <td>0.0</td>\n",
       "      <td>0.0</td>\n",
       "      <td>0.0</td>\n",
       "      <td>0.002083</td>\n",
       "      <td>0.098333</td>\n",
       "      <td>0.302500</td>\n",
       "      <td>0.846250</td>\n",
       "      <td>2.256250</td>\n",
       "      <td>6.025000</td>\n",
       "      <td>...</td>\n",
       "      <td>65.379583</td>\n",
       "      <td>26.975417</td>\n",
       "      <td>9.651667</td>\n",
       "      <td>3.307500</td>\n",
       "      <td>1.249167</td>\n",
       "      <td>0.460417</td>\n",
       "      <td>0.11250</td>\n",
       "      <td>0.038750</td>\n",
       "      <td>0.010833</td>\n",
       "      <td>0.0</td>\n",
       "    </tr>\n",
       "    <tr>\n",
       "      <th>std</th>\n",
       "      <td>0.499853</td>\n",
       "      <td>0.0</td>\n",
       "      <td>0.0</td>\n",
       "      <td>0.0</td>\n",
       "      <td>0.067682</td>\n",
       "      <td>1.895871</td>\n",
       "      <td>5.014792</td>\n",
       "      <td>9.262155</td>\n",
       "      <td>15.491603</td>\n",
       "      <td>25.358871</td>\n",
       "      <td>...</td>\n",
       "      <td>66.874570</td>\n",
       "      <td>49.060424</td>\n",
       "      <td>30.540885</td>\n",
       "      <td>18.067668</td>\n",
       "      <td>11.443957</td>\n",
       "      <td>6.363199</td>\n",
       "      <td>2.82043</td>\n",
       "      <td>1.742655</td>\n",
       "      <td>0.530723</td>\n",
       "      <td>0.0</td>\n",
       "    </tr>\n",
       "    <tr>\n",
       "      <th>min</th>\n",
       "      <td>0.000000</td>\n",
       "      <td>0.0</td>\n",
       "      <td>0.0</td>\n",
       "      <td>0.0</td>\n",
       "      <td>0.000000</td>\n",
       "      <td>0.000000</td>\n",
       "      <td>0.000000</td>\n",
       "      <td>0.000000</td>\n",
       "      <td>0.000000</td>\n",
       "      <td>0.000000</td>\n",
       "      <td>...</td>\n",
       "      <td>0.000000</td>\n",
       "      <td>0.000000</td>\n",
       "      <td>0.000000</td>\n",
       "      <td>0.000000</td>\n",
       "      <td>0.000000</td>\n",
       "      <td>0.000000</td>\n",
       "      <td>0.00000</td>\n",
       "      <td>0.000000</td>\n",
       "      <td>0.000000</td>\n",
       "      <td>0.0</td>\n",
       "    </tr>\n",
       "    <tr>\n",
       "      <th>25%</th>\n",
       "      <td>0.000000</td>\n",
       "      <td>0.0</td>\n",
       "      <td>0.0</td>\n",
       "      <td>0.0</td>\n",
       "      <td>0.000000</td>\n",
       "      <td>0.000000</td>\n",
       "      <td>0.000000</td>\n",
       "      <td>0.000000</td>\n",
       "      <td>0.000000</td>\n",
       "      <td>0.000000</td>\n",
       "      <td>...</td>\n",
       "      <td>0.000000</td>\n",
       "      <td>0.000000</td>\n",
       "      <td>0.000000</td>\n",
       "      <td>0.000000</td>\n",
       "      <td>0.000000</td>\n",
       "      <td>0.000000</td>\n",
       "      <td>0.00000</td>\n",
       "      <td>0.000000</td>\n",
       "      <td>0.000000</td>\n",
       "      <td>0.0</td>\n",
       "    </tr>\n",
       "    <tr>\n",
       "      <th>50%</th>\n",
       "      <td>0.000000</td>\n",
       "      <td>0.0</td>\n",
       "      <td>0.0</td>\n",
       "      <td>0.0</td>\n",
       "      <td>0.000000</td>\n",
       "      <td>0.000000</td>\n",
       "      <td>0.000000</td>\n",
       "      <td>0.000000</td>\n",
       "      <td>0.000000</td>\n",
       "      <td>0.000000</td>\n",
       "      <td>...</td>\n",
       "      <td>48.000000</td>\n",
       "      <td>0.000000</td>\n",
       "      <td>0.000000</td>\n",
       "      <td>0.000000</td>\n",
       "      <td>0.000000</td>\n",
       "      <td>0.000000</td>\n",
       "      <td>0.00000</td>\n",
       "      <td>0.000000</td>\n",
       "      <td>0.000000</td>\n",
       "      <td>0.0</td>\n",
       "    </tr>\n",
       "    <tr>\n",
       "      <th>75%</th>\n",
       "      <td>1.000000</td>\n",
       "      <td>0.0</td>\n",
       "      <td>0.0</td>\n",
       "      <td>0.0</td>\n",
       "      <td>0.000000</td>\n",
       "      <td>0.000000</td>\n",
       "      <td>0.000000</td>\n",
       "      <td>0.000000</td>\n",
       "      <td>0.000000</td>\n",
       "      <td>0.000000</td>\n",
       "      <td>...</td>\n",
       "      <td>114.250000</td>\n",
       "      <td>35.000000</td>\n",
       "      <td>0.000000</td>\n",
       "      <td>0.000000</td>\n",
       "      <td>0.000000</td>\n",
       "      <td>0.000000</td>\n",
       "      <td>0.00000</td>\n",
       "      <td>0.000000</td>\n",
       "      <td>0.000000</td>\n",
       "      <td>0.0</td>\n",
       "    </tr>\n",
       "    <tr>\n",
       "      <th>max</th>\n",
       "      <td>1.000000</td>\n",
       "      <td>0.0</td>\n",
       "      <td>0.0</td>\n",
       "      <td>0.0</td>\n",
       "      <td>3.000000</td>\n",
       "      <td>69.000000</td>\n",
       "      <td>188.000000</td>\n",
       "      <td>189.000000</td>\n",
       "      <td>219.000000</td>\n",
       "      <td>243.000000</td>\n",
       "      <td>...</td>\n",
       "      <td>248.000000</td>\n",
       "      <td>252.000000</td>\n",
       "      <td>246.000000</td>\n",
       "      <td>212.000000</td>\n",
       "      <td>179.000000</td>\n",
       "      <td>176.000000</td>\n",
       "      <td>88.00000</td>\n",
       "      <td>85.000000</td>\n",
       "      <td>26.000000</td>\n",
       "      <td>0.0</td>\n",
       "    </tr>\n",
       "  </tbody>\n",
       "</table>\n",
       "<p>8 rows × 785 columns</p>\n",
       "</div>"
      ]
     },
     "execution_count": 3,
     "metadata": {},
     "output_type": "execute_result"
    }
   ],
   "execution_count": 3
  },
  {
   "cell_type": "markdown",
   "metadata": {
    "collapsed": false
   },
   "source": "We can notice that the maximum average pixel value ranges from 0 (pixel 1) to, for instance, 178 (pixel 156), and the same applies to the max and median values. It seems appropriate, therefore, to normalize the data. Next, I’ll draw a pie chart showing the percentage share of each label."
  },
  {
   "cell_type": "code",
   "metadata": {
    "collapsed": false,
    "ExecuteTime": {
     "end_time": "2025-05-08T18:41:36.895319Z",
     "start_time": "2025-05-08T18:41:36.854695Z"
    }
   },
   "source": [
    " # Pie plot of label distribution\n",
    "label_counts = data['label'].value_counts()\n",
    "labels = label_counts.index\n",
    "sizes = label_counts.values\n",
    "\n",
    "plt.figure(figsize=(8, 4))\n",
    "plt.pie(sizes, labels=labels, colors=['#F28585', '#B7E5B4'], autopct='%1.1f%%', startangle=140)\n",
    "plt.title('Label Distribution')\n",
    "plt.axis('equal')  # Equal aspect ratio ensures that pie is drawn as a circle\n",
    "plt.show()"
   ],
   "outputs": [
    {
     "data": {
      "text/plain": [
       "<Figure size 800x400 with 1 Axes>"
      ],
      "image/png": "[encoded data removed]"
     },
     "metadata": {},
     "output_type": "display_data"
    }
   ],
   "execution_count": 4
  },
  {
   "cell_type": "markdown",
   "metadata": {
    "collapsed": false
   },
   "source": [
    "This pie chart illustrates the proportion of each clothing item (non-pants vs. pants) — their percentage share is nearly 50/50, which means the dataset is balanced.\n",
    "\n",
    "I can also plot the distribution of pixel values to see which grayscale shades appear most frequently in the images."
   ]
  },
  {
   "cell_type": "code",
   "metadata": {
    "collapsed": false,
    "ExecuteTime": {
     "end_time": "2025-05-08T18:41:37.314494Z",
     "start_time": "2025-05-08T18:41:37.083364Z"
    }
   },
   "source": [
    "# Histogram of pixel distribution for label 0\n",
    "label_0_data = data[data['label'] == 0].iloc[:, 1:]\n",
    "plt.figure(figsize=(12, 6))\n",
    "plt.hist(label_0_data.values.flatten(), bins=15, color='#F28585', alpha=0.7)\n",
    "plt.title('Pixel Distribution for Label 0')\n",
    "plt.xlabel('Pixel Value')\n",
    "plt.ylabel('Frequency')\n",
    "plt.grid(True)\n",
    "plt.show()\n",
    "\n",
    "# Histogram of pixel distribution for label 1\n",
    "label_1_data = data[data['label'] == 1].iloc[:, 1:]\n",
    "plt.figure(figsize=(12, 6))\n",
    "plt.hist(label_1_data.values.flatten(), bins=15, color='#B7E5B4', alpha=0.7)\n",
    "plt.title('Pixel Distribution for Label 1')\n",
    "plt.xlabel('Pixel Value')\n",
    "plt.ylabel('Frequency')\n",
    "plt.grid(True)\n",
    "plt.show()"
   ],
   "outputs": [
    {
     "data": {
      "text/plain": [
       "<Figure size 1200x600 with 1 Axes>"
      ],
      "image/png": "[encoded data removed]"
     },
     "metadata": {},
     "output_type": "display_data"
    },
    {
     "data": {
      "text/plain": [
       "<Figure size 1200x600 with 1 Axes>"
      ],
      "image/png": "[encoded data removed]"
     },
     "metadata": {},
     "output_type": "display_data"
    }
   ],
   "execution_count": 5
  },
  {
   "cell_type": "markdown",
   "metadata": {
    "collapsed": false
   },
   "source": [
    "From the graphs, it’s apparent that the images contain quite a lot of dark shades. After displaying the first four images, this theory was confirmed — there is a lot of black (background) in the images, and the actual clothing items occupy about 50–60% of the image. We can also observe that label 1 (dresses/non-pants) has more white tones, which corresponds to the images since they appear more \"solid\" (they don’t have black cutouts like the pants do).\n",
    "\n",
    "### II. Preparing the data for model training\n",
    "\n",
    "The dataset looks fine, so I’ll now split it in the usual way into X/Y sets, and then further divide them into training, validation, and test sets."
   ]
  },
  {
   "cell_type": "code",
   "metadata": {
    "collapsed": false,
    "ExecuteTime": {
     "end_time": "2025-05-08T18:41:37.594218Z",
     "start_time": "2025-05-08T18:41:37.584728Z"
    }
   },
   "source": [
    "Xdata = data.drop('label', axis=1)\n",
    "ydata = data.label"
   ],
   "outputs": [],
   "execution_count": 6
  },
  {
   "cell_type": "code",
   "metadata": {
    "collapsed": false,
    "ExecuteTime": {
     "end_time": "2025-05-08T18:41:38.608215Z",
     "start_time": "2025-05-08T18:41:37.884817Z"
    }
   },
   "source": [
    "from sklearn.model_selection import train_test_split\n",
    "\n",
    "Xtrain, Xtemp, ytrain, ytemp = train_test_split(Xdata, ydata, test_size=0.4, random_state=42)\n",
    "\n",
    "display(Xtrain.shape)\n",
    "display(ytrain.shape)\n",
    "display(Xtemp.shape)\n",
    "display(ytemp.shape)"
   ],
   "outputs": [
    {
     "data": {
      "text/plain": [
       "(1440, 784)"
      ]
     },
     "metadata": {},
     "output_type": "display_data"
    },
    {
     "data": {
      "text/plain": [
       "(1440,)"
      ]
     },
     "metadata": {},
     "output_type": "display_data"
    },
    {
     "data": {
      "text/plain": [
       "(960, 784)"
      ]
     },
     "metadata": {},
     "output_type": "display_data"
    },
    {
     "data": {
      "text/plain": [
       "(960,)"
      ]
     },
     "metadata": {},
     "output_type": "display_data"
    }
   ],
   "execution_count": 7
  },
  {
   "cell_type": "code",
   "metadata": {
    "collapsed": false,
    "ExecuteTime": {
     "end_time": "2025-05-08T18:41:38.644127Z",
     "start_time": "2025-05-08T18:41:38.637817Z"
    }
   },
   "source": [
    "Xval, Xtest, yval, ytest = train_test_split(Xtemp, ytemp, test_size=0.5, random_state=42)\n",
    "\n",
    "display(Xval.shape)\n",
    "display(yval.shape)\n",
    "display(Xtest.shape)\n",
    "display(ytest.shape)"
   ],
   "outputs": [
    {
     "data": {
      "text/plain": [
       "(480, 784)"
      ]
     },
     "metadata": {},
     "output_type": "display_data"
    },
    {
     "data": {
      "text/plain": [
       "(480,)"
      ]
     },
     "metadata": {},
     "output_type": "display_data"
    },
    {
     "data": {
      "text/plain": [
       "(480, 784)"
      ]
     },
     "metadata": {},
     "output_type": "display_data"
    },
    {
     "data": {
      "text/plain": [
       "(480,)"
      ]
     },
     "metadata": {},
     "output_type": "display_data"
    }
   ],
   "execution_count": 8
  },
  {
   "cell_type": "markdown",
   "metadata": {
    "collapsed": false
   },
   "source": [
    "The data are split in a **6/2/2** ratio, with the training set being the largest (60%), and the test and validation sets each holding 20%. This allows me to apply machine learning models and find the best performer.\n",
    "\n",
    "### III. Support Vector Machines\n",
    "\n",
    "Support Vector Machines (SVM) is a powerful and widely used machine learning algorithm for classification, regression, and outlier detection. It is known for finding an optimal decision boundary between classes by maximizing the margin between them. However, SVMs do not scale well to very large datasets or datasets with noisy, overlapping classes. Since our data are relatively clean and balanced, I can confidently apply SVM here.\n"
   ]
  },
  {
   "cell_type": "code",
   "metadata": {
    "collapsed": false,
    "ExecuteTime": {
     "end_time": "2025-05-08T18:41:38.792038Z",
     "start_time": "2025-05-08T18:41:38.696815Z"
    }
   },
   "source": [
    "from sklearn import svm\n",
    "\n",
    "# An initial SVM model with linear kernel   \n",
    "svm_lin = svm.SVC(kernel='linear')\n",
    "\n",
    "# Fit the model\n",
    "svm_lin.fit(Xtrain, ytrain)"
   ],
   "outputs": [
    {
     "data": {
      "text/plain": [
       "SVC(kernel='linear')"
      ],
      "text/html": [
       "<style>#sk-container-id-1 {\n",
       "  /* Definition of color scheme common for light and dark mode */\n",
       "  --sklearn-color-text: black;\n",
       "  --sklearn-color-line: gray;\n",
       "  /* Definition of color scheme for unfitted estimators */\n",
       "  --sklearn-color-unfitted-level-0: #fff5e6;\n",
       "  --sklearn-color-unfitted-level-1: #f6e4d2;\n",
       "  --sklearn-color-unfitted-level-2: #ffe0b3;\n",
       "  --sklearn-color-unfitted-level-3: chocolate;\n",
       "  /* Definition of color scheme for fitted estimators */\n",
       "  --sklearn-color-fitted-level-0: #f0f8ff;\n",
       "  --sklearn-color-fitted-level-1: #d4ebff;\n",
       "  --sklearn-color-fitted-level-2: #b3dbfd;\n",
       "  --sklearn-color-fitted-level-3: cornflowerblue;\n",
       "\n",
       "  /* Specific color for light theme */\n",
       "  --sklearn-color-text-on-default-background: var(--sg-text-color, var(--theme-code-foreground, var(--jp-content-font-color1, black)));\n",
       "  --sklearn-color-background: var(--sg-background-color, var(--theme-background, var(--jp-layout-color0, white)));\n",
       "  --sklearn-color-border-box: var(--sg-text-color, var(--theme-code-foreground, var(--jp-content-font-color1, black)));\n",
       "  --sklearn-color-icon: #696969;\n",
       "\n",
       "  @media (prefers-color-scheme: dark) {\n",
       "    /* Redefinition of color scheme for dark theme */\n",
       "    --sklearn-color-text-on-default-background: var(--sg-text-color, var(--theme-code-foreground, var(--jp-content-font-color1, white)));\n",
       "    --sklearn-color-background: var(--sg-background-color, var(--theme-background, var(--jp-layout-color0, #111)));\n",
       "    --sklearn-color-border-box: var(--sg-text-color, var(--theme-code-foreground, var(--jp-content-font-color1, white)));\n",
       "    --sklearn-color-icon: #878787;\n",
       "  }\n",
       "}\n",
       "\n",
       "#sk-container-id-1 {\n",
       "  color: var(--sklearn-color-text);\n",
       "}\n",
       "\n",
       "#sk-container-id-1 pre {\n",
       "  padding: 0;\n",
       "}\n",
       "\n",
       "#sk-container-id-1 input.sk-hidden--visually {\n",
       "  border: 0;\n",
       "  clip: rect(1px 1px 1px 1px);\n",
       "  clip: rect(1px, 1px, 1px, 1px);\n",
       "  height: 1px;\n",
       "  margin: -1px;\n",
       "  overflow: hidden;\n",
       "  padding: 0;\n",
       "  position: absolute;\n",
       "  width: 1px;\n",
       "}\n",
       "\n",
       "#sk-container-id-1 div.sk-dashed-wrapped {\n",
       "  border: 1px dashed var(--sklearn-color-line);\n",
       "  margin: 0 0.4em 0.5em 0.4em;\n",
       "  box-sizing: border-box;\n",
       "  padding-bottom: 0.4em;\n",
       "  background-color: var(--sklearn-color-background);\n",
       "}\n",
       "\n",
       "#sk-container-id-1 div.sk-container {\n",
       "  /* jupyter's `normalize.less` sets `[hidden] { display: none; }`\n",
       "     but bootstrap.min.css set `[hidden] { display: none !important; }`\n",
       "     so we also need the `!important` here to be able to override the\n",
       "     default hidden behavior on the sphinx rendered scikit-learn.org.\n",
       "     See: https://github.com/scikit-learn/scikit-learn/issues/21755 */\n",
       "  display: inline-block !important;\n",
       "  position: relative;\n",
       "}\n",
       "\n",
       "#sk-container-id-1 div.sk-text-repr-fallback {\n",
       "  display: none;\n",
       "}\n",
       "\n",
       "div.sk-parallel-item,\n",
       "div.sk-serial,\n",
       "div.sk-item {\n",
       "  /* draw centered vertical line to link estimators */\n",
       "  background-image: linear-gradient(var(--sklearn-color-text-on-default-background), var(--sklearn-color-text-on-default-background));\n",
       "  background-size: 2px 100%;\n",
       "  background-repeat: no-repeat;\n",
       "  background-position: center center;\n",
       "}\n",
       "\n",
       "/* Parallel-specific style estimator block */\n",
       "\n",
       "#sk-container-id-1 div.sk-parallel-item::after {\n",
       "  content: \"\";\n",
       "  width: 100%;\n",
       "  border-bottom: 2px solid var(--sklearn-color-text-on-default-background);\n",
       "  flex-grow: 1;\n",
       "}\n",
       "\n",
       "#sk-container-id-1 div.sk-parallel {\n",
       "  display: flex;\n",
       "  align-items: stretch;\n",
       "  justify-content: center;\n",
       "  background-color: var(--sklearn-color-background);\n",
       "  position: relative;\n",
       "}\n",
       "\n",
       "#sk-container-id-1 div.sk-parallel-item {\n",
       "  display: flex;\n",
       "  flex-direction: column;\n",
       "}\n",
       "\n",
       "#sk-container-id-1 div.sk-parallel-item:first-child::after {\n",
       "  align-self: flex-end;\n",
       "  width: 50%;\n",
       "}\n",
       "\n",
       "#sk-container-id-1 div.sk-parallel-item:last-child::after {\n",
       "  align-self: flex-start;\n",
       "  width: 50%;\n",
       "}\n",
       "\n",
       "#sk-container-id-1 div.sk-parallel-item:only-child::after {\n",
       "  width: 0;\n",
       "}\n",
       "\n",
       "/* Serial-specific style estimator block */\n",
       "\n",
       "#sk-container-id-1 div.sk-serial {\n",
       "  display: flex;\n",
       "  flex-direction: column;\n",
       "  align-items: center;\n",
       "  background-color: var(--sklearn-color-background);\n",
       "  padding-right: 1em;\n",
       "  padding-left: 1em;\n",
       "}\n",
       "\n",
       "\n",
       "/* Toggleable style: style used for estimator/Pipeline/ColumnTransformer box that is\n",
       "clickable and can be expanded/collapsed.\n",
       "- Pipeline and ColumnTransformer use this feature and define the default style\n",
       "- Estimators will overwrite some part of the style using the `sk-estimator` class\n",
       "*/\n",
       "\n",
       "/* Pipeline and ColumnTransformer style (default) */\n",
       "\n",
       "#sk-container-id-1 div.sk-toggleable {\n",
       "  /* Default theme specific background. It is overwritten whether we have a\n",
       "  specific estimator or a Pipeline/ColumnTransformer */\n",
       "  background-color: var(--sklearn-color-background);\n",
       "}\n",
       "\n",
       "/* Toggleable label */\n",
       "#sk-container-id-1 label.sk-toggleable__label {\n",
       "  cursor: pointer;\n",
       "  display: block;\n",
       "  width: 100%;\n",
       "  margin-bottom: 0;\n",
       "  padding: 0.5em;\n",
       "  box-sizing: border-box;\n",
       "  text-align: center;\n",
       "}\n",
       "\n",
       "#sk-container-id-1 label.sk-toggleable__label-arrow:before {\n",
       "  /* Arrow on the left of the label */\n",
       "  content: \"▸\";\n",
       "  float: left;\n",
       "  margin-right: 0.25em;\n",
       "  color: var(--sklearn-color-icon);\n",
       "}\n",
       "\n",
       "#sk-container-id-1 label.sk-toggleable__label-arrow:hover:before {\n",
       "  color: var(--sklearn-color-text);\n",
       "}\n",
       "\n",
       "/* Toggleable content - dropdown */\n",
       "\n",
       "#sk-container-id-1 div.sk-toggleable__content {\n",
       "  max-height: 0;\n",
       "  max-width: 0;\n",
       "  overflow: hidden;\n",
       "  text-align: left;\n",
       "  /* unfitted */\n",
       "  background-color: var(--sklearn-color-unfitted-level-0);\n",
       "}\n",
       "\n",
       "#sk-container-id-1 div.sk-toggleable__content.fitted {\n",
       "  /* fitted */\n",
       "  background-color: var(--sklearn-color-fitted-level-0);\n",
       "}\n",
       "\n",
       "#sk-container-id-1 div.sk-toggleable__content pre {\n",
       "  margin: 0.2em;\n",
       "  border-radius: 0.25em;\n",
       "  color: var(--sklearn-color-text);\n",
       "  /* unfitted */\n",
       "  background-color: var(--sklearn-color-unfitted-level-0);\n",
       "}\n",
       "\n",
       "#sk-container-id-1 div.sk-toggleable__content.fitted pre {\n",
       "  /* unfitted */\n",
       "  background-color: var(--sklearn-color-fitted-level-0);\n",
       "}\n",
       "\n",
       "#sk-container-id-1 input.sk-toggleable__control:checked~div.sk-toggleable__content {\n",
       "  /* Expand drop-down */\n",
       "  max-height: 200px;\n",
       "  max-width: 100%;\n",
       "  overflow: auto;\n",
       "}\n",
       "\n",
       "#sk-container-id-1 input.sk-toggleable__control:checked~label.sk-toggleable__label-arrow:before {\n",
       "  content: \"▾\";\n",
       "}\n",
       "\n",
       "/* Pipeline/ColumnTransformer-specific style */\n",
       "\n",
       "#sk-container-id-1 div.sk-label input.sk-toggleable__control:checked~label.sk-toggleable__label {\n",
       "  color: var(--sklearn-color-text);\n",
       "  background-color: var(--sklearn-color-unfitted-level-2);\n",
       "}\n",
       "\n",
       "#sk-container-id-1 div.sk-label.fitted input.sk-toggleable__control:checked~label.sk-toggleable__label {\n",
       "  background-color: var(--sklearn-color-fitted-level-2);\n",
       "}\n",
       "\n",
       "/* Estimator-specific style */\n",
       "\n",
       "/* Colorize estimator box */\n",
       "#sk-container-id-1 div.sk-estimator input.sk-toggleable__control:checked~label.sk-toggleable__label {\n",
       "  /* unfitted */\n",
       "  background-color: var(--sklearn-color-unfitted-level-2);\n",
       "}\n",
       "\n",
       "#sk-container-id-1 div.sk-estimator.fitted input.sk-toggleable__control:checked~label.sk-toggleable__label {\n",
       "  /* fitted */\n",
       "  background-color: var(--sklearn-color-fitted-level-2);\n",
       "}\n",
       "\n",
       "#sk-container-id-1 div.sk-label label.sk-toggleable__label,\n",
       "#sk-container-id-1 div.sk-label label {\n",
       "  /* The background is the default theme color */\n",
       "  color: var(--sklearn-color-text-on-default-background);\n",
       "}\n",
       "\n",
       "/* On hover, darken the color of the background */\n",
       "#sk-container-id-1 div.sk-label:hover label.sk-toggleable__label {\n",
       "  color: var(--sklearn-color-text);\n",
       "  background-color: var(--sklearn-color-unfitted-level-2);\n",
       "}\n",
       "\n",
       "/* Label box, darken color on hover, fitted */\n",
       "#sk-container-id-1 div.sk-label.fitted:hover label.sk-toggleable__label.fitted {\n",
       "  color: var(--sklearn-color-text);\n",
       "  background-color: var(--sklearn-color-fitted-level-2);\n",
       "}\n",
       "\n",
       "/* Estimator label */\n",
       "\n",
       "#sk-container-id-1 div.sk-label label {\n",
       "  font-family: monospace;\n",
       "  font-weight: bold;\n",
       "  display: inline-block;\n",
       "  line-height: 1.2em;\n",
       "}\n",
       "\n",
       "#sk-container-id-1 div.sk-label-container {\n",
       "  text-align: center;\n",
       "}\n",
       "\n",
       "/* Estimator-specific */\n",
       "#sk-container-id-1 div.sk-estimator {\n",
       "  font-family: monospace;\n",
       "  border: 1px dotted var(--sklearn-color-border-box);\n",
       "  border-radius: 0.25em;\n",
       "  box-sizing: border-box;\n",
       "  margin-bottom: 0.5em;\n",
       "  /* unfitted */\n",
       "  background-color: var(--sklearn-color-unfitted-level-0);\n",
       "}\n",
       "\n",
       "#sk-container-id-1 div.sk-estimator.fitted {\n",
       "  /* fitted */\n",
       "  background-color: var(--sklearn-color-fitted-level-0);\n",
       "}\n",
       "\n",
       "/* on hover */\n",
       "#sk-container-id-1 div.sk-estimator:hover {\n",
       "  /* unfitted */\n",
       "  background-color: var(--sklearn-color-unfitted-level-2);\n",
       "}\n",
       "\n",
       "#sk-container-id-1 div.sk-estimator.fitted:hover {\n",
       "  /* fitted */\n",
       "  background-color: var(--sklearn-color-fitted-level-2);\n",
       "}\n",
       "\n",
       "/* Specification for estimator info (e.g. \"i\" and \"?\") */\n",
       "\n",
       "/* Common style for \"i\" and \"?\" */\n",
       "\n",
       ".sk-estimator-doc-link,\n",
       "a:link.sk-estimator-doc-link,\n",
       "a:visited.sk-estimator-doc-link {\n",
       "  float: right;\n",
       "  font-size: smaller;\n",
       "  line-height: 1em;\n",
       "  font-family: monospace;\n",
       "  background-color: var(--sklearn-color-background);\n",
       "  border-radius: 1em;\n",
       "  height: 1em;\n",
       "  width: 1em;\n",
       "  text-decoration: none !important;\n",
       "  margin-left: 1ex;\n",
       "  /* unfitted */\n",
       "  border: var(--sklearn-color-unfitted-level-1) 1pt solid;\n",
       "  color: var(--sklearn-color-unfitted-level-1);\n",
       "}\n",
       "\n",
       ".sk-estimator-doc-link.fitted,\n",
       "a:link.sk-estimator-doc-link.fitted,\n",
       "a:visited.sk-estimator-doc-link.fitted {\n",
       "  /* fitted */\n",
       "  border: var(--sklearn-color-fitted-level-1) 1pt solid;\n",
       "  color: var(--sklearn-color-fitted-level-1);\n",
       "}\n",
       "\n",
       "/* On hover */\n",
       "div.sk-estimator:hover .sk-estimator-doc-link:hover,\n",
       ".sk-estimator-doc-link:hover,\n",
       "div.sk-label-container:hover .sk-estimator-doc-link:hover,\n",
       ".sk-estimator-doc-link:hover {\n",
       "  /* unfitted */\n",
       "  background-color: var(--sklearn-color-unfitted-level-3);\n",
       "  color: var(--sklearn-color-background);\n",
       "  text-decoration: none;\n",
       "}\n",
       "\n",
       "div.sk-estimator.fitted:hover .sk-estimator-doc-link.fitted:hover,\n",
       ".sk-estimator-doc-link.fitted:hover,\n",
       "div.sk-label-container:hover .sk-estimator-doc-link.fitted:hover,\n",
       ".sk-estimator-doc-link.fitted:hover {\n",
       "  /* fitted */\n",
       "  background-color: var(--sklearn-color-fitted-level-3);\n",
       "  color: var(--sklearn-color-background);\n",
       "  text-decoration: none;\n",
       "}\n",
       "\n",
       "/* Span, style for the box shown on hovering the info icon */\n",
       ".sk-estimator-doc-link span {\n",
       "  display: none;\n",
       "  z-index: 9999;\n",
       "  position: relative;\n",
       "  font-weight: normal;\n",
       "  right: .2ex;\n",
       "  padding: .5ex;\n",
       "  margin: .5ex;\n",
       "  width: min-content;\n",
       "  min-width: 20ex;\n",
       "  max-width: 50ex;\n",
       "  color: var(--sklearn-color-text);\n",
       "  box-shadow: 2pt 2pt 4pt #999;\n",
       "  /* unfitted */\n",
       "  background: var(--sklearn-color-unfitted-level-0);\n",
       "  border: .5pt solid var(--sklearn-color-unfitted-level-3);\n",
       "}\n",
       "\n",
       ".sk-estimator-doc-link.fitted span {\n",
       "  /* fitted */\n",
       "  background: var(--sklearn-color-fitted-level-0);\n",
       "  border: var(--sklearn-color-fitted-level-3);\n",
       "}\n",
       "\n",
       ".sk-estimator-doc-link:hover span {\n",
       "  display: block;\n",
       "}\n",
       "\n",
       "/* \"?\"-specific style due to the `<a>` HTML tag */\n",
       "\n",
       "#sk-container-id-1 a.estimator_doc_link {\n",
       "  float: right;\n",
       "  font-size: 1rem;\n",
       "  line-height: 1em;\n",
       "  font-family: monospace;\n",
       "  background-color: var(--sklearn-color-background);\n",
       "  border-radius: 1rem;\n",
       "  height: 1rem;\n",
       "  width: 1rem;\n",
       "  text-decoration: none;\n",
       "  /* unfitted */\n",
       "  color: var(--sklearn-color-unfitted-level-1);\n",
       "  border: var(--sklearn-color-unfitted-level-1) 1pt solid;\n",
       "}\n",
       "\n",
       "#sk-container-id-1 a.estimator_doc_link.fitted {\n",
       "  /* fitted */\n",
       "  border: var(--sklearn-color-fitted-level-1) 1pt solid;\n",
       "  color: var(--sklearn-color-fitted-level-1);\n",
       "}\n",
       "\n",
       "/* On hover */\n",
       "#sk-container-id-1 a.estimator_doc_link:hover {\n",
       "  /* unfitted */\n",
       "  background-color: var(--sklearn-color-unfitted-level-3);\n",
       "  color: var(--sklearn-color-background);\n",
       "  text-decoration: none;\n",
       "}\n",
       "\n",
       "#sk-container-id-1 a.estimator_doc_link.fitted:hover {\n",
       "  /* fitted */\n",
       "  background-color: var(--sklearn-color-fitted-level-3);\n",
       "}\n",
       "</style><div id=\"sk-container-id-1\" class=\"sk-top-container\"><div class=\"sk-text-repr-fallback\"><pre>SVC(kernel=&#x27;linear&#x27;)</pre><b>In a Jupyter environment, please rerun this cell to show the HTML representation or trust the notebook. <br />On GitHub, the HTML representation is unable to render, please try loading this page with nbviewer.org.</b></div><div class=\"sk-container\" hidden><div class=\"sk-item\"><div class=\"sk-estimator fitted sk-toggleable\"><input class=\"sk-toggleable__control sk-hidden--visually\" id=\"sk-estimator-id-1\" type=\"checkbox\" checked><label for=\"sk-estimator-id-1\" class=\"sk-toggleable__label fitted sk-toggleable__label-arrow fitted\">&nbsp;&nbsp;SVC<a class=\"sk-estimator-doc-link fitted\" rel=\"noreferrer\" target=\"_blank\" href=\"https://scikit-learn.org/1.5/modules/generated/sklearn.svm.SVC.html\">?<span>Documentation for SVC</span></a><span class=\"sk-estimator-doc-link fitted\">i<span>Fitted</span></span></label><div class=\"sk-toggleable__content fitted\"><pre>SVC(kernel=&#x27;linear&#x27;)</pre></div> </div></div></div></div>"
      ]
     },
     "execution_count": 9,
     "metadata": {},
     "output_type": "execute_result"
    }
   ],
   "execution_count": 9
  },
  {
   "cell_type": "code",
   "metadata": {
    "collapsed": false,
    "ExecuteTime": {
     "end_time": "2025-05-08T18:41:38.836579Z",
     "start_time": "2025-05-08T18:41:38.818815Z"
    }
   },
   "source": [
    "from sklearn import metrics\n",
    "\n",
    "# Make predictions on validation set\n",
    "pred_val = svm_lin.predict(Xval)\n",
    "\n",
    "# Calculate confusion matrix on validation data\n",
    "conf_matrix_val = metrics.confusion_matrix(yval, pred_val)\n",
    "print('Confusion matrix on validation data:')\n",
    "print(conf_matrix_val)\n",
    "\n",
    "# Calculate accuracy on validation data\n",
    "acc_val = metrics.accuracy_score(yval, pred_val)\n",
    "print('Accuracy on validation data:', acc_val)"
   ],
   "outputs": [
    {
     "name": "stdout",
     "output_type": "stream",
     "text": [
      "Confusion matrix on validation data:\n",
      "[[241   9]\n",
      " [ 11 219]]\n",
      "Accuracy on validation data: 0.9583333333333334\n"
     ]
    }
   ],
   "execution_count": 10
  },
  {
   "cell_type": "markdown",
   "metadata": {
    "collapsed": false
   },
   "source": "The linear model gives me an accuracy of approximately 95.8%. So I'll try a non-linear model with an RBF kernel (for example)."
  },
  {
   "cell_type": "code",
   "metadata": {
    "collapsed": false,
    "ExecuteTime": {
     "end_time": "2025-05-08T18:41:38.935128Z",
     "start_time": "2025-05-08T18:41:38.859737Z"
    }
   },
   "source": [
    "from sklearn import svm\n",
    "\n",
    "svm_rbf = svm.SVC(kernel='rbf')\n",
    "\n",
    "svm_rbf.fit(Xtrain, ytrain)"
   ],
   "outputs": [
    {
     "data": {
      "text/plain": [
       "SVC()"
      ],
      "text/html": [
       "<style>#sk-container-id-2 {\n",
       "  /* Definition of color scheme common for light and dark mode */\n",
       "  --sklearn-color-text: black;\n",
       "  --sklearn-color-line: gray;\n",
       "  /* Definition of color scheme for unfitted estimators */\n",
       "  --sklearn-color-unfitted-level-0: #fff5e6;\n",
       "  --sklearn-color-unfitted-level-1: #f6e4d2;\n",
       "  --sklearn-color-unfitted-level-2: #ffe0b3;\n",
       "  --sklearn-color-unfitted-level-3: chocolate;\n",
       "  /* Definition of color scheme for fitted estimators */\n",
       "  --sklearn-color-fitted-level-0: #f0f8ff;\n",
       "  --sklearn-color-fitted-level-1: #d4ebff;\n",
       "  --sklearn-color-fitted-level-2: #b3dbfd;\n",
       "  --sklearn-color-fitted-level-3: cornflowerblue;\n",
       "\n",
       "  /* Specific color for light theme */\n",
       "  --sklearn-color-text-on-default-background: var(--sg-text-color, var(--theme-code-foreground, var(--jp-content-font-color1, black)));\n",
       "  --sklearn-color-background: var(--sg-background-color, var(--theme-background, var(--jp-layout-color0, white)));\n",
       "  --sklearn-color-border-box: var(--sg-text-color, var(--theme-code-foreground, var(--jp-content-font-color1, black)));\n",
       "  --sklearn-color-icon: #696969;\n",
       "\n",
       "  @media (prefers-color-scheme: dark) {\n",
       "    /* Redefinition of color scheme for dark theme */\n",
       "    --sklearn-color-text-on-default-background: var(--sg-text-color, var(--theme-code-foreground, var(--jp-content-font-color1, white)));\n",
       "    --sklearn-color-background: var(--sg-background-color, var(--theme-background, var(--jp-layout-color0, #111)));\n",
       "    --sklearn-color-border-box: var(--sg-text-color, var(--theme-code-foreground, var(--jp-content-font-color1, white)));\n",
       "    --sklearn-color-icon: #878787;\n",
       "  }\n",
       "}\n",
       "\n",
       "#sk-container-id-2 {\n",
       "  color: var(--sklearn-color-text);\n",
       "}\n",
       "\n",
       "#sk-container-id-2 pre {\n",
       "  padding: 0;\n",
       "}\n",
       "\n",
       "#sk-container-id-2 input.sk-hidden--visually {\n",
       "  border: 0;\n",
       "  clip: rect(1px 1px 1px 1px);\n",
       "  clip: rect(1px, 1px, 1px, 1px);\n",
       "  height: 1px;\n",
       "  margin: -1px;\n",
       "  overflow: hidden;\n",
       "  padding: 0;\n",
       "  position: absolute;\n",
       "  width: 1px;\n",
       "}\n",
       "\n",
       "#sk-container-id-2 div.sk-dashed-wrapped {\n",
       "  border: 1px dashed var(--sklearn-color-line);\n",
       "  margin: 0 0.4em 0.5em 0.4em;\n",
       "  box-sizing: border-box;\n",
       "  padding-bottom: 0.4em;\n",
       "  background-color: var(--sklearn-color-background);\n",
       "}\n",
       "\n",
       "#sk-container-id-2 div.sk-container {\n",
       "  /* jupyter's `normalize.less` sets `[hidden] { display: none; }`\n",
       "     but bootstrap.min.css set `[hidden] { display: none !important; }`\n",
       "     so we also need the `!important` here to be able to override the\n",
       "     default hidden behavior on the sphinx rendered scikit-learn.org.\n",
       "     See: https://github.com/scikit-learn/scikit-learn/issues/21755 */\n",
       "  display: inline-block !important;\n",
       "  position: relative;\n",
       "}\n",
       "\n",
       "#sk-container-id-2 div.sk-text-repr-fallback {\n",
       "  display: none;\n",
       "}\n",
       "\n",
       "div.sk-parallel-item,\n",
       "div.sk-serial,\n",
       "div.sk-item {\n",
       "  /* draw centered vertical line to link estimators */\n",
       "  background-image: linear-gradient(var(--sklearn-color-text-on-default-background), var(--sklearn-color-text-on-default-background));\n",
       "  background-size: 2px 100%;\n",
       "  background-repeat: no-repeat;\n",
       "  background-position: center center;\n",
       "}\n",
       "\n",
       "/* Parallel-specific style estimator block */\n",
       "\n",
       "#sk-container-id-2 div.sk-parallel-item::after {\n",
       "  content: \"\";\n",
       "  width: 100%;\n",
       "  border-bottom: 2px solid var(--sklearn-color-text-on-default-background);\n",
       "  flex-grow: 1;\n",
       "}\n",
       "\n",
       "#sk-container-id-2 div.sk-parallel {\n",
       "  display: flex;\n",
       "  align-items: stretch;\n",
       "  justify-content: center;\n",
       "  background-color: var(--sklearn-color-background);\n",
       "  position: relative;\n",
       "}\n",
       "\n",
       "#sk-container-id-2 div.sk-parallel-item {\n",
       "  display: flex;\n",
       "  flex-direction: column;\n",
       "}\n",
       "\n",
       "#sk-container-id-2 div.sk-parallel-item:first-child::after {\n",
       "  align-self: flex-end;\n",
       "  width: 50%;\n",
       "}\n",
       "\n",
       "#sk-container-id-2 div.sk-parallel-item:last-child::after {\n",
       "  align-self: flex-start;\n",
       "  width: 50%;\n",
       "}\n",
       "\n",
       "#sk-container-id-2 div.sk-parallel-item:only-child::after {\n",
       "  width: 0;\n",
       "}\n",
       "\n",
       "/* Serial-specific style estimator block */\n",
       "\n",
       "#sk-container-id-2 div.sk-serial {\n",
       "  display: flex;\n",
       "  flex-direction: column;\n",
       "  align-items: center;\n",
       "  background-color: var(--sklearn-color-background);\n",
       "  padding-right: 1em;\n",
       "  padding-left: 1em;\n",
       "}\n",
       "\n",
       "\n",
       "/* Toggleable style: style used for estimator/Pipeline/ColumnTransformer box that is\n",
       "clickable and can be expanded/collapsed.\n",
       "- Pipeline and ColumnTransformer use this feature and define the default style\n",
       "- Estimators will overwrite some part of the style using the `sk-estimator` class\n",
       "*/\n",
       "\n",
       "/* Pipeline and ColumnTransformer style (default) */\n",
       "\n",
       "#sk-container-id-2 div.sk-toggleable {\n",
       "  /* Default theme specific background. It is overwritten whether we have a\n",
       "  specific estimator or a Pipeline/ColumnTransformer */\n",
       "  background-color: var(--sklearn-color-background);\n",
       "}\n",
       "\n",
       "/* Toggleable label */\n",
       "#sk-container-id-2 label.sk-toggleable__label {\n",
       "  cursor: pointer;\n",
       "  display: block;\n",
       "  width: 100%;\n",
       "  margin-bottom: 0;\n",
       "  padding: 0.5em;\n",
       "  box-sizing: border-box;\n",
       "  text-align: center;\n",
       "}\n",
       "\n",
       "#sk-container-id-2 label.sk-toggleable__label-arrow:before {\n",
       "  /* Arrow on the left of the label */\n",
       "  content: \"▸\";\n",
       "  float: left;\n",
       "  margin-right: 0.25em;\n",
       "  color: var(--sklearn-color-icon);\n",
       "}\n",
       "\n",
       "#sk-container-id-2 label.sk-toggleable__label-arrow:hover:before {\n",
       "  color: var(--sklearn-color-text);\n",
       "}\n",
       "\n",
       "/* Toggleable content - dropdown */\n",
       "\n",
       "#sk-container-id-2 div.sk-toggleable__content {\n",
       "  max-height: 0;\n",
       "  max-width: 0;\n",
       "  overflow: hidden;\n",
       "  text-align: left;\n",
       "  /* unfitted */\n",
       "  background-color: var(--sklearn-color-unfitted-level-0);\n",
       "}\n",
       "\n",
       "#sk-container-id-2 div.sk-toggleable__content.fitted {\n",
       "  /* fitted */\n",
       "  background-color: var(--sklearn-color-fitted-level-0);\n",
       "}\n",
       "\n",
       "#sk-container-id-2 div.sk-toggleable__content pre {\n",
       "  margin: 0.2em;\n",
       "  border-radius: 0.25em;\n",
       "  color: var(--sklearn-color-text);\n",
       "  /* unfitted */\n",
       "  background-color: var(--sklearn-color-unfitted-level-0);\n",
       "}\n",
       "\n",
       "#sk-container-id-2 div.sk-toggleable__content.fitted pre {\n",
       "  /* unfitted */\n",
       "  background-color: var(--sklearn-color-fitted-level-0);\n",
       "}\n",
       "\n",
       "#sk-container-id-2 input.sk-toggleable__control:checked~div.sk-toggleable__content {\n",
       "  /* Expand drop-down */\n",
       "  max-height: 200px;\n",
       "  max-width: 100%;\n",
       "  overflow: auto;\n",
       "}\n",
       "\n",
       "#sk-container-id-2 input.sk-toggleable__control:checked~label.sk-toggleable__label-arrow:before {\n",
       "  content: \"▾\";\n",
       "}\n",
       "\n",
       "/* Pipeline/ColumnTransformer-specific style */\n",
       "\n",
       "#sk-container-id-2 div.sk-label input.sk-toggleable__control:checked~label.sk-toggleable__label {\n",
       "  color: var(--sklearn-color-text);\n",
       "  background-color: var(--sklearn-color-unfitted-level-2);\n",
       "}\n",
       "\n",
       "#sk-container-id-2 div.sk-label.fitted input.sk-toggleable__control:checked~label.sk-toggleable__label {\n",
       "  background-color: var(--sklearn-color-fitted-level-2);\n",
       "}\n",
       "\n",
       "/* Estimator-specific style */\n",
       "\n",
       "/* Colorize estimator box */\n",
       "#sk-container-id-2 div.sk-estimator input.sk-toggleable__control:checked~label.sk-toggleable__label {\n",
       "  /* unfitted */\n",
       "  background-color: var(--sklearn-color-unfitted-level-2);\n",
       "}\n",
       "\n",
       "#sk-container-id-2 div.sk-estimator.fitted input.sk-toggleable__control:checked~label.sk-toggleable__label {\n",
       "  /* fitted */\n",
       "  background-color: var(--sklearn-color-fitted-level-2);\n",
       "}\n",
       "\n",
       "#sk-container-id-2 div.sk-label label.sk-toggleable__label,\n",
       "#sk-container-id-2 div.sk-label label {\n",
       "  /* The background is the default theme color */\n",
       "  color: var(--sklearn-color-text-on-default-background);\n",
       "}\n",
       "\n",
       "/* On hover, darken the color of the background */\n",
       "#sk-container-id-2 div.sk-label:hover label.sk-toggleable__label {\n",
       "  color: var(--sklearn-color-text);\n",
       "  background-color: var(--sklearn-color-unfitted-level-2);\n",
       "}\n",
       "\n",
       "/* Label box, darken color on hover, fitted */\n",
       "#sk-container-id-2 div.sk-label.fitted:hover label.sk-toggleable__label.fitted {\n",
       "  color: var(--sklearn-color-text);\n",
       "  background-color: var(--sklearn-color-fitted-level-2);\n",
       "}\n",
       "\n",
       "/* Estimator label */\n",
       "\n",
       "#sk-container-id-2 div.sk-label label {\n",
       "  font-family: monospace;\n",
       "  font-weight: bold;\n",
       "  display: inline-block;\n",
       "  line-height: 1.2em;\n",
       "}\n",
       "\n",
       "#sk-container-id-2 div.sk-label-container {\n",
       "  text-align: center;\n",
       "}\n",
       "\n",
       "/* Estimator-specific */\n",
       "#sk-container-id-2 div.sk-estimator {\n",
       "  font-family: monospace;\n",
       "  border: 1px dotted var(--sklearn-color-border-box);\n",
       "  border-radius: 0.25em;\n",
       "  box-sizing: border-box;\n",
       "  margin-bottom: 0.5em;\n",
       "  /* unfitted */\n",
       "  background-color: var(--sklearn-color-unfitted-level-0);\n",
       "}\n",
       "\n",
       "#sk-container-id-2 div.sk-estimator.fitted {\n",
       "  /* fitted */\n",
       "  background-color: var(--sklearn-color-fitted-level-0);\n",
       "}\n",
       "\n",
       "/* on hover */\n",
       "#sk-container-id-2 div.sk-estimator:hover {\n",
       "  /* unfitted */\n",
       "  background-color: var(--sklearn-color-unfitted-level-2);\n",
       "}\n",
       "\n",
       "#sk-container-id-2 div.sk-estimator.fitted:hover {\n",
       "  /* fitted */\n",
       "  background-color: var(--sklearn-color-fitted-level-2);\n",
       "}\n",
       "\n",
       "/* Specification for estimator info (e.g. \"i\" and \"?\") */\n",
       "\n",
       "/* Common style for \"i\" and \"?\" */\n",
       "\n",
       ".sk-estimator-doc-link,\n",
       "a:link.sk-estimator-doc-link,\n",
       "a:visited.sk-estimator-doc-link {\n",
       "  float: right;\n",
       "  font-size: smaller;\n",
       "  line-height: 1em;\n",
       "  font-family: monospace;\n",
       "  background-color: var(--sklearn-color-background);\n",
       "  border-radius: 1em;\n",
       "  height: 1em;\n",
       "  width: 1em;\n",
       "  text-decoration: none !important;\n",
       "  margin-left: 1ex;\n",
       "  /* unfitted */\n",
       "  border: var(--sklearn-color-unfitted-level-1) 1pt solid;\n",
       "  color: var(--sklearn-color-unfitted-level-1);\n",
       "}\n",
       "\n",
       ".sk-estimator-doc-link.fitted,\n",
       "a:link.sk-estimator-doc-link.fitted,\n",
       "a:visited.sk-estimator-doc-link.fitted {\n",
       "  /* fitted */\n",
       "  border: var(--sklearn-color-fitted-level-1) 1pt solid;\n",
       "  color: var(--sklearn-color-fitted-level-1);\n",
       "}\n",
       "\n",
       "/* On hover */\n",
       "div.sk-estimator:hover .sk-estimator-doc-link:hover,\n",
       ".sk-estimator-doc-link:hover,\n",
       "div.sk-label-container:hover .sk-estimator-doc-link:hover,\n",
       ".sk-estimator-doc-link:hover {\n",
       "  /* unfitted */\n",
       "  background-color: var(--sklearn-color-unfitted-level-3);\n",
       "  color: var(--sklearn-color-background);\n",
       "  text-decoration: none;\n",
       "}\n",
       "\n",
       "div.sk-estimator.fitted:hover .sk-estimator-doc-link.fitted:hover,\n",
       ".sk-estimator-doc-link.fitted:hover,\n",
       "div.sk-label-container:hover .sk-estimator-doc-link.fitted:hover,\n",
       ".sk-estimator-doc-link.fitted:hover {\n",
       "  /* fitted */\n",
       "  background-color: var(--sklearn-color-fitted-level-3);\n",
       "  color: var(--sklearn-color-background);\n",
       "  text-decoration: none;\n",
       "}\n",
       "\n",
       "/* Span, style for the box shown on hovering the info icon */\n",
       ".sk-estimator-doc-link span {\n",
       "  display: none;\n",
       "  z-index: 9999;\n",
       "  position: relative;\n",
       "  font-weight: normal;\n",
       "  right: .2ex;\n",
       "  padding: .5ex;\n",
       "  margin: .5ex;\n",
       "  width: min-content;\n",
       "  min-width: 20ex;\n",
       "  max-width: 50ex;\n",
       "  color: var(--sklearn-color-text);\n",
       "  box-shadow: 2pt 2pt 4pt #999;\n",
       "  /* unfitted */\n",
       "  background: var(--sklearn-color-unfitted-level-0);\n",
       "  border: .5pt solid var(--sklearn-color-unfitted-level-3);\n",
       "}\n",
       "\n",
       ".sk-estimator-doc-link.fitted span {\n",
       "  /* fitted */\n",
       "  background: var(--sklearn-color-fitted-level-0);\n",
       "  border: var(--sklearn-color-fitted-level-3);\n",
       "}\n",
       "\n",
       ".sk-estimator-doc-link:hover span {\n",
       "  display: block;\n",
       "}\n",
       "\n",
       "/* \"?\"-specific style due to the `<a>` HTML tag */\n",
       "\n",
       "#sk-container-id-2 a.estimator_doc_link {\n",
       "  float: right;\n",
       "  font-size: 1rem;\n",
       "  line-height: 1em;\n",
       "  font-family: monospace;\n",
       "  background-color: var(--sklearn-color-background);\n",
       "  border-radius: 1rem;\n",
       "  height: 1rem;\n",
       "  width: 1rem;\n",
       "  text-decoration: none;\n",
       "  /* unfitted */\n",
       "  color: var(--sklearn-color-unfitted-level-1);\n",
       "  border: var(--sklearn-color-unfitted-level-1) 1pt solid;\n",
       "}\n",
       "\n",
       "#sk-container-id-2 a.estimator_doc_link.fitted {\n",
       "  /* fitted */\n",
       "  border: var(--sklearn-color-fitted-level-1) 1pt solid;\n",
       "  color: var(--sklearn-color-fitted-level-1);\n",
       "}\n",
       "\n",
       "/* On hover */\n",
       "#sk-container-id-2 a.estimator_doc_link:hover {\n",
       "  /* unfitted */\n",
       "  background-color: var(--sklearn-color-unfitted-level-3);\n",
       "  color: var(--sklearn-color-background);\n",
       "  text-decoration: none;\n",
       "}\n",
       "\n",
       "#sk-container-id-2 a.estimator_doc_link.fitted:hover {\n",
       "  /* fitted */\n",
       "  background-color: var(--sklearn-color-fitted-level-3);\n",
       "}\n",
       "</style><div id=\"sk-container-id-2\" class=\"sk-top-container\"><div class=\"sk-text-repr-fallback\"><pre>SVC()</pre><b>In a Jupyter environment, please rerun this cell to show the HTML representation or trust the notebook. <br />On GitHub, the HTML representation is unable to render, please try loading this page with nbviewer.org.</b></div><div class=\"sk-container\" hidden><div class=\"sk-item\"><div class=\"sk-estimator fitted sk-toggleable\"><input class=\"sk-toggleable__control sk-hidden--visually\" id=\"sk-estimator-id-2\" type=\"checkbox\" checked><label for=\"sk-estimator-id-2\" class=\"sk-toggleable__label fitted sk-toggleable__label-arrow fitted\">&nbsp;&nbsp;SVC<a class=\"sk-estimator-doc-link fitted\" rel=\"noreferrer\" target=\"_blank\" href=\"https://scikit-learn.org/1.5/modules/generated/sklearn.svm.SVC.html\">?<span>Documentation for SVC</span></a><span class=\"sk-estimator-doc-link fitted\">i<span>Fitted</span></span></label><div class=\"sk-toggleable__content fitted\"><pre>SVC()</pre></div> </div></div></div></div>"
      ]
     },
     "execution_count": 11,
     "metadata": {},
     "output_type": "execute_result"
    }
   ],
   "execution_count": 11
  },
  {
   "cell_type": "code",
   "metadata": {
    "collapsed": false,
    "ExecuteTime": {
     "end_time": "2025-05-08T18:41:38.996012Z",
     "start_time": "2025-05-08T18:41:38.959544Z"
    }
   },
   "source": [
    "# Make predictions on validation set\n",
    "pred_val = svm_rbf.predict(Xval)\n",
    "\n",
    "# Calculate confusion matrix on validation data\n",
    "conf_matrix_val = metrics.confusion_matrix(yval, pred_val)\n",
    "print('Confusion matrix on validation data:')\n",
    "print(conf_matrix_val)\n",
    "\n",
    "# Calculate accuracy on validation data\n",
    "svm_rbf_acc_val = metrics.accuracy_score(yval, pred_val)\n",
    "print('Accuracy on validation data:', acc_val)"
   ],
   "outputs": [
    {
     "name": "stdout",
     "output_type": "stream",
     "text": [
      "Confusion matrix on validation data:\n",
      "[[237  13]\n",
      " [  2 228]]\n",
      "Accuracy on validation data: 0.9583333333333334\n"
     ]
    }
   ],
   "execution_count": 12
  },
  {
   "cell_type": "markdown",
   "metadata": {
    "collapsed": false
   },
   "source": "The RBF kernel has exactly the same accuracy as the linear kernel. I will now tune the hyperparameters for both kernels using GridSearchCV."
  },
  {
   "metadata": {
    "ExecuteTime": {
     "end_time": "2025-05-08T18:42:40.179488Z",
     "start_time": "2025-05-08T18:41:39.019481Z"
    }
   },
   "cell_type": "code",
   "source": [
    "from sklearn.model_selection import GridSearchCV\n",
    "from sklearn.svm import SVC\n",
    "\n",
    "# Define parameter grid\n",
    "param_grid = {\n",
    "    'kernel': ['linear', 'rbf'],\n",
    "    'C': [0.001, 0.01, 0.1, 1, 10, 100],\n",
    "    'gamma': [0.001, 0.01, 0.1, 1, 10, 100]\n",
    "}\n",
    "\n",
    "# Initialize SVM classifier\n",
    "svm = SVC()\n",
    "\n",
    "# Initialize GridSearchCV\n",
    "grid_search = GridSearchCV(estimator=svm, param_grid=param_grid, cv=5, scoring='accuracy')\n",
    "\n",
    "# Perform grid search cross-validation\n",
    "grid_search.fit(Xtrain, ytrain)\n",
    "\n",
    "svm_orig_acc = grid_search.best_score_\n",
    "\n",
    "# Print best hyperparameters\n",
    "print('Best hyperparameters:', grid_search.best_params_)\n",
    "\n",
    "# Print best cross-validation score\n",
    "print('Best cross-validation score:', grid_search.best_score_)"
   ],
   "outputs": [
    {
     "name": "stdout",
     "output_type": "stream",
     "text": [
      "Best hyperparameters: {'C': 0.001, 'gamma': 0.001, 'kernel': 'linear'}\n",
      "Best cross-validation score: 0.9659722222222223\n"
     ]
    }
   ],
   "execution_count": 13
  },
  {
   "metadata": {},
   "cell_type": "markdown",
   "source": "Thus, the best SVM model so far provides almost 96.6% accuracy. I will now try normalizing/scaling the data and see what happens."
  },
  {
   "metadata": {
    "ExecuteTime": {
     "end_time": "2025-05-08T18:42:40.427902Z",
     "start_time": "2025-05-08T18:42:40.266954Z"
    }
   },
   "cell_type": "code",
   "source": [
    "from sklearn.preprocessing import StandardScaler\n",
    "from sklearn import svm\n",
    "from sklearn import metrics\n",
    "\n",
    "# Initialize a StandardScaler object\n",
    "scaler = StandardScaler()\n",
    "\n",
    "# Fit scaler to training data and transform both training and validation data\n",
    "Xtrain_scaled = scaler.fit_transform(Xtrain)\n",
    "Xval_scaled = scaler.transform(Xval)\n",
    "\n",
    "# Initialize SVM classifier with desired kernel\n",
    "svm_rbf = svm.SVC(kernel='rbf')\n",
    "\n",
    "# Train SVM classifier on scaled training data\n",
    "svm_rbf.fit(Xtrain_scaled, ytrain)\n",
    "\n",
    "# Make predictions on scaled validation set\n",
    "pred_val = svm_rbf.predict(Xval_scaled)\n",
    "\n",
    "# Calculate confusion matrix on validation data\n",
    "conf_matrix_val = metrics.confusion_matrix(yval, pred_val)\n",
    "print('Confusion matrix on validation data (scaled dataset):')\n",
    "print(conf_matrix_val)\n",
    "\n",
    "# Calculate accuracy on validation data\n",
    "svm_rbf_acc_val = metrics.accuracy_score(yval, pred_val)\n",
    "print('Accuracy on validation data (scaled dataset):', svm_rbf_acc_val)"
   ],
   "outputs": [
    {
     "name": "stdout",
     "output_type": "stream",
     "text": [
      "Confusion matrix on validation data (scaled dataset):\n",
      "[[237  13]\n",
      " [  1 229]]\n",
      "Accuracy on validation data (scaled dataset): 0.9708333333333333\n"
     ]
    }
   ],
   "execution_count": 14
  },
  {
   "metadata": {
    "ExecuteTime": {
     "end_time": "2025-05-08T18:43:18.840177Z",
     "start_time": "2025-05-08T18:42:40.473927Z"
    }
   },
   "cell_type": "code",
   "source": [
    "# Best params for scaled data\n",
    "from sklearn.model_selection import RandomizedSearchCV\n",
    "from sklearn.svm import SVC\n",
    "from scipy.stats import uniform, loguniform\n",
    "\n",
    "# Define parameter distributions\n",
    "param_dist = {\n",
    "    'kernel': ['linear', 'rbf'],\n",
    "    'C': loguniform(1e-3, 1e3),\n",
    "    'gamma': loguniform(1e-3, 1e3)\n",
    "}\n",
    "\n",
    "# Initialize SVM classifier\n",
    "svm = SVC()\n",
    "\n",
    "# Initialize RandomizedSearchCV\n",
    "random_search = RandomizedSearchCV(estimator=svm, param_distributions=param_dist, n_iter=50, cv=5, scoring='accuracy', random_state=42)\n",
    "\n",
    "# Perform randomized search cross-validation\n",
    "random_search.fit(Xtrain_scaled, ytrain)\n",
    "\n",
    "svm_sc_acc = random_search.best_score_\n",
    "\n",
    "# Print best hyperparameters\n",
    "print('Best hyperparameters (scaled dataset):', random_search.best_params_)\n",
    "\n",
    "# Print best cross-validation score\n",
    "print('Best cross-validation score (scaled dataset):', random_search.best_score_)"
   ],
   "outputs": [
    {
     "name": "stdout",
     "output_type": "stream",
     "text": [
      "Best hyperparameters (scaled dataset): {'C': np.float64(0.009808478272431488), 'gamma': np.float64(0.0012411333354855072), 'kernel': 'linear'}\n",
      "Best cross-validation score (scaled dataset): 0.9743055555555558\n"
     ]
    }
   ],
   "execution_count": 15
  },
  {
   "metadata": {
    "ExecuteTime": {
     "end_time": "2025-05-08T18:43:18.983071Z",
     "start_time": "2025-05-08T18:43:18.861326Z"
    }
   },
   "cell_type": "code",
   "source": [
    "# Data normalization with MinMax\n",
    "from sklearn.preprocessing import MinMaxScaler\n",
    "from sklearn import svm\n",
    "from sklearn import metrics\n",
    "\n",
    "\n",
    "# Initialize a MinMaxScaler object\n",
    "scaler = MinMaxScaler()\n",
    "\n",
    "# Fit scaler to training data and transform both training and validation data\n",
    "Xtrain_scaled_mm = scaler.fit_transform(Xtrain)\n",
    "Xval_scaled_mm = scaler.transform(Xval)\n",
    "\n",
    "# Initialize SVM classifier with desired kernel\n",
    "svm_rbf = svm.SVC(kernel='rbf')\n",
    "\n",
    "# Train SVM classifier on scaled training data\n",
    "svm_rbf.fit(Xtrain_scaled_mm, ytrain)\n",
    "\n",
    "# Make predictions on scaled validation set\n",
    "pred_val_mm = svm_rbf.predict(Xval_scaled_mm)\n",
    "\n",
    "# Calculate confusion matrix on validation data\n",
    "conf_matrix_val_mm = metrics.confusion_matrix(yval, pred_val_mm)\n",
    "print('Confusion Matrix on validation data (normalized dataset):')\n",
    "print(conf_matrix_val_mm)\n",
    "\n",
    "# Calculate accuracy on validation data\n",
    "svm_rbf_acc_val_mm = metrics.accuracy_score(yval, pred_val_mm)\n",
    "print('Accuracy on validation data (normalized dataset):', svm_rbf_acc_val_mm)"
   ],
   "outputs": [
    {
     "name": "stdout",
     "output_type": "stream",
     "text": [
      "Confusion Matrix on validation data (normalized dataset):\n",
      "[[238  12]\n",
      " [  2 228]]\n",
      "Accuracy on validation data (normalized dataset): 0.9708333333333333\n"
     ]
    }
   ],
   "execution_count": 16
  },
  {
   "metadata": {
    "ExecuteTime": {
     "end_time": "2025-05-08T18:44:11.878857Z",
     "start_time": "2025-05-08T18:43:19.036228Z"
    }
   },
   "cell_type": "code",
   "source": [
    "from sklearn.model_selection import GridSearchCV\n",
    "from sklearn.svm import SVC\n",
    "\n",
    "# Define parameter grid\n",
    "param_grid = {\n",
    "    'kernel': ['linear', 'rbf'],\n",
    "    'C': [0.001, 0.01, 0.1, 1, 10, 100],\n",
    "    'gamma': [0.001, 0.01, 0.1, 1, 10, 100]\n",
    "}\n",
    "\n",
    "# Initialize SVM classifier\n",
    "svm = SVC()\n",
    "\n",
    "# Initialize GridSearchCV\n",
    "grid_search = GridSearchCV(estimator=svm, param_grid=param_grid, cv=5, scoring='accuracy')\n",
    "\n",
    "# Perform grid search cross-validation\n",
    "grid_search.fit(Xtrain_scaled_mm, ytrain)\n",
    "\n",
    "svm_norm_acc = grid_search.best_score_\n",
    "\n",
    "# Print best hyperparameters\n",
    "print('Best hyperparameters (normalized dataset):', grid_search.best_params_)\n",
    "\n",
    "# Print best cross-validation score\n",
    "print('Best cross-validation score (normalized dataset):', grid_search.best_score_)"
   ],
   "outputs": [
    {
     "name": "stdout",
     "output_type": "stream",
     "text": [
      "Best hyperparameters (normalized dataset): {'C': 10, 'gamma': 0.01, 'kernel': 'rbf'}\n",
      "Best cross-validation score (normalized dataset): 0.9784722222222222\n"
     ]
    }
   ],
   "execution_count": 17
  },
  {
   "cell_type": "markdown",
   "metadata": {
    "collapsed": false
   },
   "source": [
    "Now I will try to train a naive Bayesian classifier model.\n",
    "\n",
    "### IV. Naive Bayes\n",
    "\n",
    "Naive Bayes is the simplest and fastest classification method, and is suitable for dealing with huge amounts of information. In this step, I will use a Gaussian NB classifier. This is used if we assume that all continuous variables associated with each feature are distributed according to a Gaussian distribution (or also a normal distribution). So if we ignore the part of the graphs with large values of black shades (the \"Pixel Distribution for Label 0/1\" graphs), the distribution of light shades in both labels looks Gaussian."
   ]
  },
  {
   "cell_type": "code",
   "metadata": {
    "collapsed": false,
    "ExecuteTime": {
     "end_time": "2025-05-08T18:44:11.923480Z",
     "start_time": "2025-05-08T18:44:11.889969Z"
    }
   },
   "source": [
    "from sklearn.naive_bayes import GaussianNB\n",
    "from sklearn.metrics import accuracy_score\n",
    "\n",
    "# Initialize Gaussian Naive Bayes classifier\n",
    "gnb = GaussianNB()\n",
    "\n",
    "# Train the classifier\n",
    "gnb.fit(Xtrain, ytrain)\n",
    "\n",
    "# Predict on the validation set\n",
    "y_pred = gnb.predict(Xval)\n",
    "\n",
    "# Calculate accuracy\n",
    "gnb_orig_acc = accuracy_score(yval, y_pred)\n",
    "\n",
    "print('Gaussian NB classifier accuracy:', gnb_orig_acc)"
   ],
   "outputs": [
    {
     "name": "stdout",
     "output_type": "stream",
     "text": [
      "Gaussian NB classifier accuracy: 0.95\n"
     ]
    }
   ],
   "execution_count": 18
  },
  {
   "metadata": {
    "ExecuteTime": {
     "end_time": "2025-05-08T18:44:11.967916Z",
     "start_time": "2025-05-08T18:44:11.955033Z"
    }
   },
   "cell_type": "code",
   "source": [
    "# Scaled data\n",
    "gnb_scaled = GaussianNB()\n",
    "\n",
    "gnb_scaled.fit(Xtrain_scaled, ytrain)\n",
    "\n",
    "y_pred = gnb_scaled.predict(Xval_scaled)\n",
    "\n",
    "gnb_sc_acc = accuracy_score(yval, y_pred)\n",
    "\n",
    "print('Gaussian NB classifier accuracy (scaled dataset):', gnb_sc_acc)"
   ],
   "outputs": [
    {
     "name": "stdout",
     "output_type": "stream",
     "text": [
      "Gaussian NB classifier accuracy (scaled dataset): 0.95\n"
     ]
    }
   ],
   "execution_count": 19
  },
  {
   "metadata": {
    "ExecuteTime": {
     "end_time": "2025-05-08T18:44:12.019433Z",
     "start_time": "2025-05-08T18:44:11.995243Z"
    }
   },
   "cell_type": "code",
   "source": [
    "# Normalized data\n",
    "gnb_norm = GaussianNB()\n",
    "\n",
    "gnb_norm.fit(Xtrain_scaled_mm, ytrain)\n",
    "\n",
    "y_pred = gnb_norm.predict(Xval_scaled_mm)\n",
    "\n",
    "gnb_norm_acc = accuracy_score(yval, y_pred)\n",
    "print('Gaussian NB classifier accuracy (normalized dataset):', gnb_norm_acc)"
   ],
   "outputs": [
    {
     "name": "stdout",
     "output_type": "stream",
     "text": [
      "Gaussian NB classifier accuracy (normalized dataset): 0.95\n"
     ]
    }
   ],
   "execution_count": 20
  },
  {
   "cell_type": "markdown",
   "metadata": {
    "collapsed": false
   },
   "source": [
    "It can be seen that the results are exactly the same for the original, scaled, and normalized data, suggesting that the algorithm is robust to changes in the scale and distribution of symptoms. It is possible that the properties of the dataset naturally match the assumptions of the algorithm, leading to the same results for all versions of the data. Essentially, GaussianNB calculates the probability of each class and then selects the one with the highest probability. Therefore, I will not tune the hyperparameters (no parameter tuning is usually required for the GaussianNb classification model).\n",
    "\n",
    "### V. Linear discriminant analysis\n",
    "\n",
    "Linear discriminant analysis (LDA) is an approach used in machine learning to solve classification problems of more than 2 classes. LDA separates multiple classes with multiple features by reducing the dimensionality of the data. This technique is important because it helps to optimize machine learning models. LDA is used when the variable being explained is categorical but the other features are continuous. This is our case - we predict a label (0 or 1), but our pixels are continuous values."
   ]
  },
  {
   "cell_type": "code",
   "metadata": {
    "collapsed": false,
    "ExecuteTime": {
     "end_time": "2025-05-08T18:44:12.421949Z",
     "start_time": "2025-05-08T18:44:12.045199Z"
    }
   },
   "source": [
    "from sklearn.discriminant_analysis import LinearDiscriminantAnalysis\n",
    "\n",
    "# Initialize LDA classifier with store_covariance=True\n",
    "lda = LinearDiscriminantAnalysis()\n",
    "\n",
    "# Train the classifier\n",
    "lda.fit(Xtrain, ytrain)\n",
    "\n",
    "# Predict on the test set\n",
    "y_pred = lda.predict(Xval)\n",
    "\n",
    "# Calculate accuracy\n",
    "lda_orig_acc = accuracy_score(yval, y_pred)\n",
    "print('LDA accuracy:', lda_orig_acc)"
   ],
   "outputs": [
    {
     "name": "stdout",
     "output_type": "stream",
     "text": [
      "LDA accuracy: 0.9104166666666667\n"
     ]
    }
   ],
   "execution_count": 21
  },
  {
   "metadata": {
    "ExecuteTime": {
     "end_time": "2025-05-08T18:44:12.945266Z",
     "start_time": "2025-05-08T18:44:12.584474Z"
    }
   },
   "cell_type": "code",
   "source": [
    "# Scaled data\n",
    "lda_scaled = LinearDiscriminantAnalysis()\n",
    "\n",
    "lda_scaled.fit(Xtrain_scaled, ytrain)\n",
    "\n",
    "y_pred = lda_scaled.predict(Xval_scaled)\n",
    "\n",
    "lda_sc_acc = accuracy_score(yval, y_pred)\n",
    "print('LDA accuracy (scaled dataset):', lda_sc_acc)"
   ],
   "outputs": [
    {
     "name": "stdout",
     "output_type": "stream",
     "text": [
      "LDA accuracy (scaled dataset): 0.9104166666666667\n"
     ]
    }
   ],
   "execution_count": 22
  },
  {
   "metadata": {
    "ExecuteTime": {
     "end_time": "2025-05-08T18:44:13.537787Z",
     "start_time": "2025-05-08T18:44:13.016571Z"
    }
   },
   "cell_type": "code",
   "source": [
    "# Normalized data\n",
    "lda_norm = LinearDiscriminantAnalysis()\n",
    "\n",
    "lda_norm.fit(Xtrain_scaled, ytrain)\n",
    "\n",
    "y_pred = lda_norm.predict(Xval_scaled)\n",
    "\n",
    "lda_norm_acc = accuracy_score(yval, y_pred)\n",
    "print('LDA accuracy (normalized dataset):', lda_norm_acc)"
   ],
   "outputs": [
    {
     "name": "stdout",
     "output_type": "stream",
     "text": [
      "LDA accuracy (normalized dataset): 0.9104166666666667\n"
     ]
    }
   ],
   "execution_count": 23
  },
  {
   "cell_type": "markdown",
   "metadata": {
    "collapsed": false
   },
   "source": [
    "As in the case of GaussianNB, the LDA results are the same regardless of the data modification. Thus, the data is already suitable for LDA and normalization/scaling does not make much sense. We can proceed to dimensionality reduction.\n",
    "\n",
    "### VI. Dimensionality reduction\n",
    "\n",
    "#### a) PCA\n",
    "\n",
    "Principal component analysis, or PCA, is a dimensionality reduction method that is often used to reduce the dimensionality of large datasets by transforming a large set of variables into a smaller set that still contains most of the information from the large set. The idea behind PCA is essentially simple: reduce the number of variables in the dataset while preserving as much information as possible.\n",
    "\n",
    "So now I will try to reduce the dimensionality of our dataset using this method. I will then re-train all the models I created on a new dataset with reduced dimensionality and compare the results."
   ]
  },
  {
   "metadata": {
    "ExecuteTime": {
     "end_time": "2025-05-08T18:44:21.871364Z",
     "start_time": "2025-05-08T18:44:13.594316Z"
    }
   },
   "cell_type": "code",
   "source": [
    "# PCA for SVM model\n",
    "import numpy as np\n",
    "import matplotlib.pyplot as plt\n",
    "from sklearn.decomposition import PCA\n",
    "from sklearn.svm import SVC\n",
    "from sklearn.preprocessing import StandardScaler\n",
    "from sklearn.metrics import accuracy_score\n",
    "\n",
    "# Initialize lists to store accuracy and number of components\n",
    "svm_accuracies = []\n",
    "svm_num_components_list = []\n",
    "\n",
    "# Max number of components to consider\n",
    "max_components = 80\n",
    "\n",
    "for n_components in range(1, min(max_components, Xtrain.shape[1]) + 1):\n",
    "    # Standardize data\n",
    "    scaler = StandardScaler()\n",
    "    X_train_scaled = scaler.fit_transform(Xtrain)\n",
    "    X_val_scaled = scaler.transform(Xval)\n",
    "\n",
    "    # Apply PCA\n",
    "    pca = PCA(n_components=n_components)\n",
    "    X_train_pca = pca.fit_transform(X_train_scaled)\n",
    "    X_val_pca = pca.transform(X_val_scaled)\n",
    "\n",
    "    # Train SVM classifier\n",
    "    svm = SVC(kernel='rbf')\n",
    "    svm.fit(X_train_pca, ytrain)\n",
    "\n",
    "    # Predict and evaluate accuracy\n",
    "    y_pred = svm.predict(X_val_pca)\n",
    "    accuracy = accuracy_score(yval, y_pred)\n",
    "    svm_accuracies.append(accuracy)\n",
    "    svm_num_components_list.append(n_components)\n",
    "\n",
    "# Plot the graph\n",
    "plt.plot(svm_num_components_list, svm_accuracies, marker='.')\n",
    "plt.xlabel('Number of Principal Components')\n",
    "plt.ylabel('Accuracy')\n",
    "plt.title('Accuracy as a function of the number of principal components')\n",
    "plt.grid(True)\n",
    "plt.show()"
   ],
   "outputs": [
    {
     "data": {
      "text/plain": [
       "<Figure size 640x480 with 1 Axes>"
      ],
      "image/png": "[encoded data removed]"
     },
     "metadata": {},
     "output_type": "display_data"
    }
   ],
   "execution_count": 24
  },
  {
   "metadata": {
    "ExecuteTime": {
     "end_time": "2025-05-08T18:44:21.965978Z",
     "start_time": "2025-05-08T18:44:21.961751Z"
    }
   },
   "cell_type": "code",
   "source": [
    "svm_max_accuracy_index = np.argmax(svm_accuracies)\n",
    "svm_max_accuracy_components = svm_num_components_list[svm_max_accuracy_index]\n",
    "print(f'Maximum accuracy achieved with {svm_max_accuracy_components} principal components: {svm_accuracies[svm_max_accuracy_index]}')"
   ],
   "outputs": [
    {
     "name": "stdout",
     "output_type": "stream",
     "text": [
      "Maximum accuracy achieved with 71 principal components: 0.9708333333333333\n"
     ]
    }
   ],
   "execution_count": 25
  },
  {
   "metadata": {
    "ExecuteTime": {
     "end_time": "2025-05-08T18:44:26.478435Z",
     "start_time": "2025-05-08T18:44:21.992783Z"
    }
   },
   "cell_type": "code",
   "source": [
    "# PCA for GaussianNB model\n",
    "import numpy as np\n",
    "import matplotlib.pyplot as plt\n",
    "from sklearn.decomposition import PCA\n",
    "from sklearn.naive_bayes import GaussianNB\n",
    "from sklearn.preprocessing import StandardScaler\n",
    "from sklearn.metrics import accuracy_score\n",
    "\n",
    "gnb_accuracies = []\n",
    "gnb_num_components_list = []\n",
    "\n",
    "max_components = 80\n",
    "\n",
    "for n_components in range(1, min(max_components, Xtrain.shape[1]) + 1):\n",
    "    scaler = StandardScaler()\n",
    "    X_train_scaled = scaler.fit_transform(Xtrain)\n",
    "    X_val_scaled = scaler.transform(Xval)\n",
    "\n",
    "    pca = PCA(n_components=n_components)\n",
    "    X_train_pca = pca.fit_transform(X_train_scaled)\n",
    "    X_val_pca = pca.transform(X_val_scaled)\n",
    "\n",
    "    gnb = GaussianNB()\n",
    "    gnb.fit(X_train_pca, ytrain)\n",
    "\n",
    "    y_pred = gnb.predict(X_val_pca)\n",
    "    accuracy = accuracy_score(yval, y_pred)\n",
    "    gnb_accuracies.append(accuracy)\n",
    "    gnb_num_components_list.append(n_components)\n",
    "\n",
    "plt.plot(gnb_num_components_list, gnb_accuracies, marker='.')\n",
    "plt.xlabel('Number of Principal Components')\n",
    "plt.ylabel('Accuracy')\n",
    "plt.title('Accuracy as a function of the number of principal components')\n",
    "plt.grid(True)\n",
    "plt.show()"
   ],
   "outputs": [
    {
     "data": {
      "text/plain": [
       "<Figure size 640x480 with 1 Axes>"
      ],
      "image/png": "[encoded data removed]"
     },
     "metadata": {},
     "output_type": "display_data"
    }
   ],
   "execution_count": 26
  },
  {
   "metadata": {
    "ExecuteTime": {
     "end_time": "2025-05-08T18:44:26.524884Z",
     "start_time": "2025-05-08T18:44:26.520373Z"
    }
   },
   "cell_type": "code",
   "source": [
    "gnb_max_accuracy_index = np.argmax(gnb_accuracies)\n",
    "gnb_max_accuracy_components = gnb_num_components_list[gnb_max_accuracy_index]\n",
    "print(f'Maximum accuracy achieved with {gnb_max_accuracy_components} principal components: {gnb_accuracies[gnb_max_accuracy_index]}')"
   ],
   "outputs": [
    {
     "name": "stdout",
     "output_type": "stream",
     "text": [
      "Maximum accuracy achieved with 7 principal components: 0.9479166666666666\n"
     ]
    }
   ],
   "execution_count": 27
  },
  {
   "metadata": {
    "ExecuteTime": {
     "end_time": "2025-05-08T18:44:29.393805Z",
     "start_time": "2025-05-08T18:44:26.562755Z"
    }
   },
   "cell_type": "code",
   "source": [
    "# PCA for LDA model\n",
    "import numpy as np\n",
    "import matplotlib.pyplot as plt\n",
    "from sklearn.decomposition import PCA\n",
    "from sklearn.discriminant_analysis import LinearDiscriminantAnalysis\n",
    "from sklearn.preprocessing import StandardScaler\n",
    "from sklearn.metrics import accuracy_score\n",
    "\n",
    "lda_accuracies = []\n",
    "lda_num_components_list = []\n",
    "\n",
    "max_components = 50\n",
    "\n",
    "for n_components in range(1, min(max_components, Xtrain.shape[1]) + 1):\n",
    "    scaler = StandardScaler()\n",
    "    X_train_scaled = scaler.fit_transform(Xtrain)\n",
    "    X_val_scaled = scaler.transform(Xval)\n",
    "\n",
    "    pca = PCA(n_components=n_components)\n",
    "    X_train_pca = pca.fit_transform(X_train_scaled)\n",
    "    X_val_pca = pca.transform(X_val_scaled)\n",
    "\n",
    "    lda = LinearDiscriminantAnalysis()\n",
    "    lda.fit(X_train_pca, ytrain)\n",
    "\n",
    "    y_pred = lda.predict(X_val_pca)\n",
    "    accuracy = accuracy_score(yval, y_pred)\n",
    "    lda_accuracies.append(accuracy)\n",
    "    lda_num_components_list.append(n_components)\n",
    "\n",
    "plt.plot(lda_num_components_list, lda_accuracies, marker='.')\n",
    "plt.xlabel('Number of Principal Components')\n",
    "plt.ylabel('Accuracy')\n",
    "plt.title('Accuracy as a function of the number of principal components')\n",
    "plt.grid(True)\n",
    "plt.show()"
   ],
   "outputs": [
    {
     "data": {
      "text/plain": [
       "<Figure size 640x480 with 1 Axes>"
      ],
      "image/png": "[encoded data removed]"
     },
     "metadata": {},
     "output_type": "display_data"
    }
   ],
   "execution_count": 28
  },
  {
   "metadata": {
    "ExecuteTime": {
     "end_time": "2025-05-08T18:44:29.459140Z",
     "start_time": "2025-05-08T18:44:29.454638Z"
    }
   },
   "cell_type": "code",
   "source": [
    "lda_max_accuracy_index = np.argmax(lda_accuracies)\n",
    "lda_max_accuracy_components = lda_num_components_list[lda_max_accuracy_index]\n",
    "print(f'Maximum accuracy achieved with {lda_max_accuracy_components} principal components: {lda_accuracies[lda_max_accuracy_index]}')"
   ],
   "outputs": [
    {
     "name": "stdout",
     "output_type": "stream",
     "text": [
      "Maximum accuracy achieved with 30 principal components: 0.9666666666666667\n"
     ]
    }
   ],
   "execution_count": 29
  },
  {
   "cell_type": "markdown",
   "source": [
    "In PCA I started with a maximum of 10 components for each model and gradually increased the number, then I noticed that after some number of components the accuracy of the model no longer increases, so I limited myself to this number (80, even max_components = 50 for LDA). As can be seen, for a Gaussian classifier, 7 components are enough to achieve almost 95% accuracy. The other models require a bit more, but it is still much better than all 784 dimensions. So let's get down to the LLE.\n",
    "\n",
    "#### b) LLE\n",
    "\n",
    "Locally linear embedding (LLE) is an unsupervised approach designed to transform data from the original high-dimensional space into a lower-dimensional representation, while attempting to preserve the basic geometric characteristics of the underlying nonlinear feature structure. It does this by preserving local relationships between data points and seeks to develop the internal multidimensional structure contained in the high-dimensional data. Dimensionality reduction is achieved by constructing a low-dimensional embedding that best reconstructs each data point from its nearest neighbors, thereby revealing the internal geometry of the underlying polygon.\n",
    "\n",
    "LLE first finds the k-nearest neighbors of the points. It then approximates each data vector as a weighted linear combination of its k-nearest neighbors. Finally, it computes weights that best reconstruct the vectors from their neighbors, and then produces low-dimensional vectors best reconstructed using these weights.\n",
    "\n",
    "I apply the LLE to each model to determine how many components are sufficient for each model and what accuracy this number of components provides."
   ],
   "metadata": {
    "collapsed": false
   }
  },
  {
   "cell_type": "code",
   "source": [
    "# LLE for SVM model\n",
    "from sklearn.manifold import LocallyLinearEmbedding\n",
    "from sklearn.svm import SVC\n",
    "import matplotlib.pyplot as plt\n",
    "\n",
    "ACC_LLE_SVM = []\n",
    "\n",
    "max_components = 80\n",
    "\n",
    "for n in range(1, min(max_components, Xtrain.shape[1]) + 1):\n",
    "    # Initialize LLE with parameters\n",
    "    lle = LocallyLinearEmbedding(n_components=n, n_neighbors=5)\n",
    "    # Transform data\n",
    "    Tsub_train = lle.fit_transform(Xtrain)\n",
    "    Tsub_val = lle.transform(Xval)\n",
    "    # Train SVM classifier\n",
    "    clf = SVC(kernel='rbf')\n",
    "    clf.fit(Tsub_train, ytrain)\n",
    "    # Save accuracy\n",
    "    ACC_LLE_SVM.append(clf.score(Tsub_val, yval))\n",
    "\n",
    "# Plot accuracy as a function of the number of principal components\n",
    "plt.scatter(range(1, min(max_components, Xtrain.shape[1]) + 1), ACC_LLE_SVM, c='red', marker='.')\n",
    "plt.title(\"Accuracy as a function of the number of principal components\")\n",
    "plt.xlabel(\"# Principal Components\")\n",
    "plt.ylabel(\"Accuracy\")\n",
    "plt.show()"
   ],
   "metadata": {
    "collapsed": false,
    "ExecuteTime": {
     "end_time": "2025-05-08T18:45:15.987960Z",
     "start_time": "2025-05-08T18:44:29.504545Z"
    }
   },
   "outputs": [
    {
     "data": {
      "text/plain": [
       "<Figure size 640x480 with 1 Axes>"
      ],
      "image/png": "[encoded data removed]"
     },
     "metadata": {},
     "output_type": "display_data"
    }
   ],
   "execution_count": 30
  },
  {
   "metadata": {
    "ExecuteTime": {
     "end_time": "2025-05-08T18:45:16.037769Z",
     "start_time": "2025-05-08T18:45:16.034641Z"
    }
   },
   "cell_type": "code",
   "source": [
    "max_accuracy = max(ACC_LLE_SVM)\n",
    "max_accuracy_dimension = ACC_LLE_SVM.index(max_accuracy) + 1\n",
    "print(f\"Maximum accuracy = {max_accuracy} for projection dimension {max_accuracy_dimension}.\")"
   ],
   "outputs": [
    {
     "name": "stdout",
     "output_type": "stream",
     "text": [
      "Maximum accuracy = 0.96875 for projection dimension 28.\n"
     ]
    }
   ],
   "execution_count": 31
  },
  {
   "cell_type": "code",
   "source": [
    "# LLE for GaussianNB model\n",
    "from sklearn.manifold import LocallyLinearEmbedding\n",
    "from sklearn.naive_bayes import GaussianNB\n",
    "import matplotlib.pyplot as plt\n",
    "\n",
    "ACC_LLE_GNB = []\n",
    "\n",
    "max_components = 80\n",
    "\n",
    "for n in range(1, min(max_components, Xtrain.shape[1]) + 1):\n",
    "    lle = LocallyLinearEmbedding(n_components=n, n_neighbors=5)\n",
    "    Tsub_train = lle.fit_transform(Xtrain)\n",
    "    Tsub_val = lle.transform(Xval)\n",
    "    clf = GaussianNB()\n",
    "    clf.fit(Tsub_train, ytrain)\n",
    "    ACC_LLE_GNB.append(clf.score(Tsub_val, yval))\n",
    "\n",
    "plt.scatter(range(1, min(max_components, Xtrain.shape[1]) + 1), ACC_LLE_GNB, c='blue', marker='.')\n",
    "plt.title(\"Accuracy as a function of the number of principal components\")\n",
    "plt.xlabel(\"# Principal Components\")\n",
    "plt.ylabel(\"Accuracy\")\n",
    "plt.show()"
   ],
   "metadata": {
    "collapsed": false,
    "ExecuteTime": {
     "end_time": "2025-05-08T18:46:03.590116Z",
     "start_time": "2025-05-08T18:45:16.095303Z"
    }
   },
   "outputs": [
    {
     "data": {
      "text/plain": [
       "<Figure size 640x480 with 1 Axes>"
      ],
      "image/png": "[encoded data removed]"
     },
     "metadata": {},
     "output_type": "display_data"
    }
   ],
   "execution_count": 32
  },
  {
   "metadata": {
    "ExecuteTime": {
     "end_time": "2025-05-08T18:46:03.616972Z",
     "start_time": "2025-05-08T18:46:03.611339Z"
    }
   },
   "cell_type": "code",
   "source": [
    "max_accuracy = max(ACC_LLE_GNB)\n",
    "max_accuracy_dimension = ACC_LLE_GNB.index(max_accuracy) + 1\n",
    "print(f\"Maximum accuracy = {max_accuracy} for projection dimension {max_accuracy_dimension}.\")"
   ],
   "outputs": [
    {
     "name": "stdout",
     "output_type": "stream",
     "text": [
      "Maximum accuracy = 0.9666666666666667 for projection dimension 41.\n"
     ]
    }
   ],
   "execution_count": 33
  },
  {
   "cell_type": "code",
   "source": [
    "# LLE for LDA model\n",
    "from sklearn.manifold import LocallyLinearEmbedding\n",
    "from sklearn.discriminant_analysis import LinearDiscriminantAnalysis\n",
    "import matplotlib.pyplot as plt\n",
    "\n",
    "ACC_LLE_LDA = []\n",
    "\n",
    "max_components = 80\n",
    "\n",
    "for n in range(1, min(max_components, Xtrain.shape[1]) + 1):\n",
    "    lle = LocallyLinearEmbedding(n_components=n, n_neighbors=5)\n",
    "    Tsub_train = lle.fit_transform(Xtrain)\n",
    "    Tsub_val = lle.transform(Xval)\n",
    "    clf = LinearDiscriminantAnalysis()\n",
    "    clf.fit(Tsub_train, ytrain)\n",
    "    ACC_LLE_LDA.append(clf.score(Tsub_val, yval))\n",
    "\n",
    "plt.scatter(range(1, min(max_components, Xtrain.shape[1]) + 1), ACC_LLE_LDA, c='green', marker='.')\n",
    "plt.title(\"Accuracy as a function of the number of principal components\")\n",
    "plt.xlabel(\"# Principal Components\")\n",
    "plt.ylabel(\"Accuracy\")\n",
    "plt.show()"
   ],
   "metadata": {
    "collapsed": false,
    "is_executing": true,
    "ExecuteTime": {
     "end_time": "2025-05-08T18:46:47.608068Z",
     "start_time": "2025-05-08T18:46:03.692856Z"
    }
   },
   "outputs": [
    {
     "data": {
      "text/plain": [
       "<Figure size 640x480 with 1 Axes>"
      ],
      "image/png": "[encoded data removed]"
     },
     "metadata": {},
     "output_type": "display_data"
    }
   ],
   "execution_count": 34
  },
  {
   "metadata": {
    "ExecuteTime": {
     "end_time": "2025-05-08T18:46:47.729943Z",
     "start_time": "2025-05-08T18:46:47.721824Z"
    }
   },
   "cell_type": "code",
   "source": [
    "max_accuracy = max(ACC_LLE_LDA)\n",
    "max_accuracy_dimension = ACC_LLE_LDA.index(max_accuracy) + 1\n",
    "print(f\"Maximum accuracy = {max_accuracy} for projection dimension {max_accuracy_dimension}.\")"
   ],
   "outputs": [
    {
     "name": "stdout",
     "output_type": "stream",
     "text": [
      "Maximum accuracy = 0.9625 for projection dimension 11.\n"
     ]
    }
   ],
   "execution_count": 35
  },
  {
   "cell_type": "markdown",
   "source": [
    "LLE performed best in LDA, where it needed only 11 dimensions to achieve 96.25% accuracy. The other models also performed reasonably well.\n",
    "\n",
    "The reduction is complete, and now we can select the final model and perform the prediction on the evaluation data.\n",
    "\n",
    "### VII. Selecting the final model\n",
    "\n",
    "Let us first recall the results obtained for the different models before and after dimensionality reduction."
   ],
   "metadata": {
    "collapsed": false
   }
  },
  {
   "cell_type": "code",
   "source": [
    "# Define the accuracy scores\n",
    "svm_scores = [svm_orig_acc, svm_sc_acc, svm_norm_acc, svm_accuracies[svm_max_accuracy_index], max(ACC_LLE_SVM)]\n",
    "gnb_scores = [gnb_orig_acc, gnb_sc_acc, gnb_norm_acc, gnb_accuracies[gnb_max_accuracy_index], max(ACC_LLE_GNB)]\n",
    "lda_scores = [lda_orig_acc, lda_sc_acc, lda_norm_acc, lda_accuracies[lda_max_accuracy_index], max(ACC_LLE_LDA)]\n",
    "\n",
    "# Create a DataFrame\n",
    "df = pd.DataFrame({\n",
    "    'SVM': svm_scores,\n",
    "    'Gaussian NB': gnb_scores,\n",
    "    'LDA': lda_scores\n",
    "}, index=['Original', 'Scaled', 'Normalized', 'PCA', 'LLE'])\n",
    "\n",
    "print(df)"
   ],
   "metadata": {
    "collapsed": false,
    "ExecuteTime": {
     "end_time": "2025-05-08T18:46:47.763597Z",
     "start_time": "2025-05-08T18:46:47.757083Z"
    }
   },
   "outputs": [
    {
     "name": "stdout",
     "output_type": "stream",
     "text": [
      "                 SVM  Gaussian NB       LDA\n",
      "Original    0.965972     0.950000  0.910417\n",
      "Scaled      0.974306     0.950000  0.910417\n",
      "Normalized  0.978472     0.950000  0.910417\n",
      "PCA         0.970833     0.947917  0.966667\n",
      "LLE         0.968750     0.966667  0.962500\n"
     ]
    }
   ],
   "execution_count": 36
  },
  {
   "cell_type": "markdown",
   "source": "I will now try to estimate how well my model will perform on the new data, i.e. I will use a test set.",
   "metadata": {
    "collapsed": false
   }
  },
  {
   "cell_type": "code",
   "source": [
    "final = SVC(**random_search.best_params_)\n",
    "\n",
    "final.fit(Xtrain_scaled, ytrain)"
   ],
   "metadata": {
    "collapsed": false,
    "ExecuteTime": {
     "end_time": "2025-05-08T18:46:47.846249Z",
     "start_time": "2025-05-08T18:46:47.791565Z"
    }
   },
   "outputs": [
    {
     "data": {
      "text/plain": [
       "SVC(C=np.float64(0.009808478272431488), gamma=np.float64(0.0012411333354855072),\n",
       "    kernel='linear')"
      ],
      "text/html": [
       "<style>#sk-container-id-3 {\n",
       "  /* Definition of color scheme common for light and dark mode */\n",
       "  --sklearn-color-text: black;\n",
       "  --sklearn-color-line: gray;\n",
       "  /* Definition of color scheme for unfitted estimators */\n",
       "  --sklearn-color-unfitted-level-0: #fff5e6;\n",
       "  --sklearn-color-unfitted-level-1: #f6e4d2;\n",
       "  --sklearn-color-unfitted-level-2: #ffe0b3;\n",
       "  --sklearn-color-unfitted-level-3: chocolate;\n",
       "  /* Definition of color scheme for fitted estimators */\n",
       "  --sklearn-color-fitted-level-0: #f0f8ff;\n",
       "  --sklearn-color-fitted-level-1: #d4ebff;\n",
       "  --sklearn-color-fitted-level-2: #b3dbfd;\n",
       "  --sklearn-color-fitted-level-3: cornflowerblue;\n",
       "\n",
       "  /* Specific color for light theme */\n",
       "  --sklearn-color-text-on-default-background: var(--sg-text-color, var(--theme-code-foreground, var(--jp-content-font-color1, black)));\n",
       "  --sklearn-color-background: var(--sg-background-color, var(--theme-background, var(--jp-layout-color0, white)));\n",
       "  --sklearn-color-border-box: var(--sg-text-color, var(--theme-code-foreground, var(--jp-content-font-color1, black)));\n",
       "  --sklearn-color-icon: #696969;\n",
       "\n",
       "  @media (prefers-color-scheme: dark) {\n",
       "    /* Redefinition of color scheme for dark theme */\n",
       "    --sklearn-color-text-on-default-background: var(--sg-text-color, var(--theme-code-foreground, var(--jp-content-font-color1, white)));\n",
       "    --sklearn-color-background: var(--sg-background-color, var(--theme-background, var(--jp-layout-color0, #111)));\n",
       "    --sklearn-color-border-box: var(--sg-text-color, var(--theme-code-foreground, var(--jp-content-font-color1, white)));\n",
       "    --sklearn-color-icon: #878787;\n",
       "  }\n",
       "}\n",
       "\n",
       "#sk-container-id-3 {\n",
       "  color: var(--sklearn-color-text);\n",
       "}\n",
       "\n",
       "#sk-container-id-3 pre {\n",
       "  padding: 0;\n",
       "}\n",
       "\n",
       "#sk-container-id-3 input.sk-hidden--visually {\n",
       "  border: 0;\n",
       "  clip: rect(1px 1px 1px 1px);\n",
       "  clip: rect(1px, 1px, 1px, 1px);\n",
       "  height: 1px;\n",
       "  margin: -1px;\n",
       "  overflow: hidden;\n",
       "  padding: 0;\n",
       "  position: absolute;\n",
       "  width: 1px;\n",
       "}\n",
       "\n",
       "#sk-container-id-3 div.sk-dashed-wrapped {\n",
       "  border: 1px dashed var(--sklearn-color-line);\n",
       "  margin: 0 0.4em 0.5em 0.4em;\n",
       "  box-sizing: border-box;\n",
       "  padding-bottom: 0.4em;\n",
       "  background-color: var(--sklearn-color-background);\n",
       "}\n",
       "\n",
       "#sk-container-id-3 div.sk-container {\n",
       "  /* jupyter's `normalize.less` sets `[hidden] { display: none; }`\n",
       "     but bootstrap.min.css set `[hidden] { display: none !important; }`\n",
       "     so we also need the `!important` here to be able to override the\n",
       "     default hidden behavior on the sphinx rendered scikit-learn.org.\n",
       "     See: https://github.com/scikit-learn/scikit-learn/issues/21755 */\n",
       "  display: inline-block !important;\n",
       "  position: relative;\n",
       "}\n",
       "\n",
       "#sk-container-id-3 div.sk-text-repr-fallback {\n",
       "  display: none;\n",
       "}\n",
       "\n",
       "div.sk-parallel-item,\n",
       "div.sk-serial,\n",
       "div.sk-item {\n",
       "  /* draw centered vertical line to link estimators */\n",
       "  background-image: linear-gradient(var(--sklearn-color-text-on-default-background), var(--sklearn-color-text-on-default-background));\n",
       "  background-size: 2px 100%;\n",
       "  background-repeat: no-repeat;\n",
       "  background-position: center center;\n",
       "}\n",
       "\n",
       "/* Parallel-specific style estimator block */\n",
       "\n",
       "#sk-container-id-3 div.sk-parallel-item::after {\n",
       "  content: \"\";\n",
       "  width: 100%;\n",
       "  border-bottom: 2px solid var(--sklearn-color-text-on-default-background);\n",
       "  flex-grow: 1;\n",
       "}\n",
       "\n",
       "#sk-container-id-3 div.sk-parallel {\n",
       "  display: flex;\n",
       "  align-items: stretch;\n",
       "  justify-content: center;\n",
       "  background-color: var(--sklearn-color-background);\n",
       "  position: relative;\n",
       "}\n",
       "\n",
       "#sk-container-id-3 div.sk-parallel-item {\n",
       "  display: flex;\n",
       "  flex-direction: column;\n",
       "}\n",
       "\n",
       "#sk-container-id-3 div.sk-parallel-item:first-child::after {\n",
       "  align-self: flex-end;\n",
       "  width: 50%;\n",
       "}\n",
       "\n",
       "#sk-container-id-3 div.sk-parallel-item:last-child::after {\n",
       "  align-self: flex-start;\n",
       "  width: 50%;\n",
       "}\n",
       "\n",
       "#sk-container-id-3 div.sk-parallel-item:only-child::after {\n",
       "  width: 0;\n",
       "}\n",
       "\n",
       "/* Serial-specific style estimator block */\n",
       "\n",
       "#sk-container-id-3 div.sk-serial {\n",
       "  display: flex;\n",
       "  flex-direction: column;\n",
       "  align-items: center;\n",
       "  background-color: var(--sklearn-color-background);\n",
       "  padding-right: 1em;\n",
       "  padding-left: 1em;\n",
       "}\n",
       "\n",
       "\n",
       "/* Toggleable style: style used for estimator/Pipeline/ColumnTransformer box that is\n",
       "clickable and can be expanded/collapsed.\n",
       "- Pipeline and ColumnTransformer use this feature and define the default style\n",
       "- Estimators will overwrite some part of the style using the `sk-estimator` class\n",
       "*/\n",
       "\n",
       "/* Pipeline and ColumnTransformer style (default) */\n",
       "\n",
       "#sk-container-id-3 div.sk-toggleable {\n",
       "  /* Default theme specific background. It is overwritten whether we have a\n",
       "  specific estimator or a Pipeline/ColumnTransformer */\n",
       "  background-color: var(--sklearn-color-background);\n",
       "}\n",
       "\n",
       "/* Toggleable label */\n",
       "#sk-container-id-3 label.sk-toggleable__label {\n",
       "  cursor: pointer;\n",
       "  display: block;\n",
       "  width: 100%;\n",
       "  margin-bottom: 0;\n",
       "  padding: 0.5em;\n",
       "  box-sizing: border-box;\n",
       "  text-align: center;\n",
       "}\n",
       "\n",
       "#sk-container-id-3 label.sk-toggleable__label-arrow:before {\n",
       "  /* Arrow on the left of the label */\n",
       "  content: \"▸\";\n",
       "  float: left;\n",
       "  margin-right: 0.25em;\n",
       "  color: var(--sklearn-color-icon);\n",
       "}\n",
       "\n",
       "#sk-container-id-3 label.sk-toggleable__label-arrow:hover:before {\n",
       "  color: var(--sklearn-color-text);\n",
       "}\n",
       "\n",
       "/* Toggleable content - dropdown */\n",
       "\n",
       "#sk-container-id-3 div.sk-toggleable__content {\n",
       "  max-height: 0;\n",
       "  max-width: 0;\n",
       "  overflow: hidden;\n",
       "  text-align: left;\n",
       "  /* unfitted */\n",
       "  background-color: var(--sklearn-color-unfitted-level-0);\n",
       "}\n",
       "\n",
       "#sk-container-id-3 div.sk-toggleable__content.fitted {\n",
       "  /* fitted */\n",
       "  background-color: var(--sklearn-color-fitted-level-0);\n",
       "}\n",
       "\n",
       "#sk-container-id-3 div.sk-toggleable__content pre {\n",
       "  margin: 0.2em;\n",
       "  border-radius: 0.25em;\n",
       "  color: var(--sklearn-color-text);\n",
       "  /* unfitted */\n",
       "  background-color: var(--sklearn-color-unfitted-level-0);\n",
       "}\n",
       "\n",
       "#sk-container-id-3 div.sk-toggleable__content.fitted pre {\n",
       "  /* unfitted */\n",
       "  background-color: var(--sklearn-color-fitted-level-0);\n",
       "}\n",
       "\n",
       "#sk-container-id-3 input.sk-toggleable__control:checked~div.sk-toggleable__content {\n",
       "  /* Expand drop-down */\n",
       "  max-height: 200px;\n",
       "  max-width: 100%;\n",
       "  overflow: auto;\n",
       "}\n",
       "\n",
       "#sk-container-id-3 input.sk-toggleable__control:checked~label.sk-toggleable__label-arrow:before {\n",
       "  content: \"▾\";\n",
       "}\n",
       "\n",
       "/* Pipeline/ColumnTransformer-specific style */\n",
       "\n",
       "#sk-container-id-3 div.sk-label input.sk-toggleable__control:checked~label.sk-toggleable__label {\n",
       "  color: var(--sklearn-color-text);\n",
       "  background-color: var(--sklearn-color-unfitted-level-2);\n",
       "}\n",
       "\n",
       "#sk-container-id-3 div.sk-label.fitted input.sk-toggleable__control:checked~label.sk-toggleable__label {\n",
       "  background-color: var(--sklearn-color-fitted-level-2);\n",
       "}\n",
       "\n",
       "/* Estimator-specific style */\n",
       "\n",
       "/* Colorize estimator box */\n",
       "#sk-container-id-3 div.sk-estimator input.sk-toggleable__control:checked~label.sk-toggleable__label {\n",
       "  /* unfitted */\n",
       "  background-color: var(--sklearn-color-unfitted-level-2);\n",
       "}\n",
       "\n",
       "#sk-container-id-3 div.sk-estimator.fitted input.sk-toggleable__control:checked~label.sk-toggleable__label {\n",
       "  /* fitted */\n",
       "  background-color: var(--sklearn-color-fitted-level-2);\n",
       "}\n",
       "\n",
       "#sk-container-id-3 div.sk-label label.sk-toggleable__label,\n",
       "#sk-container-id-3 div.sk-label label {\n",
       "  /* The background is the default theme color */\n",
       "  color: var(--sklearn-color-text-on-default-background);\n",
       "}\n",
       "\n",
       "/* On hover, darken the color of the background */\n",
       "#sk-container-id-3 div.sk-label:hover label.sk-toggleable__label {\n",
       "  color: var(--sklearn-color-text);\n",
       "  background-color: var(--sklearn-color-unfitted-level-2);\n",
       "}\n",
       "\n",
       "/* Label box, darken color on hover, fitted */\n",
       "#sk-container-id-3 div.sk-label.fitted:hover label.sk-toggleable__label.fitted {\n",
       "  color: var(--sklearn-color-text);\n",
       "  background-color: var(--sklearn-color-fitted-level-2);\n",
       "}\n",
       "\n",
       "/* Estimator label */\n",
       "\n",
       "#sk-container-id-3 div.sk-label label {\n",
       "  font-family: monospace;\n",
       "  font-weight: bold;\n",
       "  display: inline-block;\n",
       "  line-height: 1.2em;\n",
       "}\n",
       "\n",
       "#sk-container-id-3 div.sk-label-container {\n",
       "  text-align: center;\n",
       "}\n",
       "\n",
       "/* Estimator-specific */\n",
       "#sk-container-id-3 div.sk-estimator {\n",
       "  font-family: monospace;\n",
       "  border: 1px dotted var(--sklearn-color-border-box);\n",
       "  border-radius: 0.25em;\n",
       "  box-sizing: border-box;\n",
       "  margin-bottom: 0.5em;\n",
       "  /* unfitted */\n",
       "  background-color: var(--sklearn-color-unfitted-level-0);\n",
       "}\n",
       "\n",
       "#sk-container-id-3 div.sk-estimator.fitted {\n",
       "  /* fitted */\n",
       "  background-color: var(--sklearn-color-fitted-level-0);\n",
       "}\n",
       "\n",
       "/* on hover */\n",
       "#sk-container-id-3 div.sk-estimator:hover {\n",
       "  /* unfitted */\n",
       "  background-color: var(--sklearn-color-unfitted-level-2);\n",
       "}\n",
       "\n",
       "#sk-container-id-3 div.sk-estimator.fitted:hover {\n",
       "  /* fitted */\n",
       "  background-color: var(--sklearn-color-fitted-level-2);\n",
       "}\n",
       "\n",
       "/* Specification for estimator info (e.g. \"i\" and \"?\") */\n",
       "\n",
       "/* Common style for \"i\" and \"?\" */\n",
       "\n",
       ".sk-estimator-doc-link,\n",
       "a:link.sk-estimator-doc-link,\n",
       "a:visited.sk-estimator-doc-link {\n",
       "  float: right;\n",
       "  font-size: smaller;\n",
       "  line-height: 1em;\n",
       "  font-family: monospace;\n",
       "  background-color: var(--sklearn-color-background);\n",
       "  border-radius: 1em;\n",
       "  height: 1em;\n",
       "  width: 1em;\n",
       "  text-decoration: none !important;\n",
       "  margin-left: 1ex;\n",
       "  /* unfitted */\n",
       "  border: var(--sklearn-color-unfitted-level-1) 1pt solid;\n",
       "  color: var(--sklearn-color-unfitted-level-1);\n",
       "}\n",
       "\n",
       ".sk-estimator-doc-link.fitted,\n",
       "a:link.sk-estimator-doc-link.fitted,\n",
       "a:visited.sk-estimator-doc-link.fitted {\n",
       "  /* fitted */\n",
       "  border: var(--sklearn-color-fitted-level-1) 1pt solid;\n",
       "  color: var(--sklearn-color-fitted-level-1);\n",
       "}\n",
       "\n",
       "/* On hover */\n",
       "div.sk-estimator:hover .sk-estimator-doc-link:hover,\n",
       ".sk-estimator-doc-link:hover,\n",
       "div.sk-label-container:hover .sk-estimator-doc-link:hover,\n",
       ".sk-estimator-doc-link:hover {\n",
       "  /* unfitted */\n",
       "  background-color: var(--sklearn-color-unfitted-level-3);\n",
       "  color: var(--sklearn-color-background);\n",
       "  text-decoration: none;\n",
       "}\n",
       "\n",
       "div.sk-estimator.fitted:hover .sk-estimator-doc-link.fitted:hover,\n",
       ".sk-estimator-doc-link.fitted:hover,\n",
       "div.sk-label-container:hover .sk-estimator-doc-link.fitted:hover,\n",
       ".sk-estimator-doc-link.fitted:hover {\n",
       "  /* fitted */\n",
       "  background-color: var(--sklearn-color-fitted-level-3);\n",
       "  color: var(--sklearn-color-background);\n",
       "  text-decoration: none;\n",
       "}\n",
       "\n",
       "/* Span, style for the box shown on hovering the info icon */\n",
       ".sk-estimator-doc-link span {\n",
       "  display: none;\n",
       "  z-index: 9999;\n",
       "  position: relative;\n",
       "  font-weight: normal;\n",
       "  right: .2ex;\n",
       "  padding: .5ex;\n",
       "  margin: .5ex;\n",
       "  width: min-content;\n",
       "  min-width: 20ex;\n",
       "  max-width: 50ex;\n",
       "  color: var(--sklearn-color-text);\n",
       "  box-shadow: 2pt 2pt 4pt #999;\n",
       "  /* unfitted */\n",
       "  background: var(--sklearn-color-unfitted-level-0);\n",
       "  border: .5pt solid var(--sklearn-color-unfitted-level-3);\n",
       "}\n",
       "\n",
       ".sk-estimator-doc-link.fitted span {\n",
       "  /* fitted */\n",
       "  background: var(--sklearn-color-fitted-level-0);\n",
       "  border: var(--sklearn-color-fitted-level-3);\n",
       "}\n",
       "\n",
       ".sk-estimator-doc-link:hover span {\n",
       "  display: block;\n",
       "}\n",
       "\n",
       "/* \"?\"-specific style due to the `<a>` HTML tag */\n",
       "\n",
       "#sk-container-id-3 a.estimator_doc_link {\n",
       "  float: right;\n",
       "  font-size: 1rem;\n",
       "  line-height: 1em;\n",
       "  font-family: monospace;\n",
       "  background-color: var(--sklearn-color-background);\n",
       "  border-radius: 1rem;\n",
       "  height: 1rem;\n",
       "  width: 1rem;\n",
       "  text-decoration: none;\n",
       "  /* unfitted */\n",
       "  color: var(--sklearn-color-unfitted-level-1);\n",
       "  border: var(--sklearn-color-unfitted-level-1) 1pt solid;\n",
       "}\n",
       "\n",
       "#sk-container-id-3 a.estimator_doc_link.fitted {\n",
       "  /* fitted */\n",
       "  border: var(--sklearn-color-fitted-level-1) 1pt solid;\n",
       "  color: var(--sklearn-color-fitted-level-1);\n",
       "}\n",
       "\n",
       "/* On hover */\n",
       "#sk-container-id-3 a.estimator_doc_link:hover {\n",
       "  /* unfitted */\n",
       "  background-color: var(--sklearn-color-unfitted-level-3);\n",
       "  color: var(--sklearn-color-background);\n",
       "  text-decoration: none;\n",
       "}\n",
       "\n",
       "#sk-container-id-3 a.estimator_doc_link.fitted:hover {\n",
       "  /* fitted */\n",
       "  background-color: var(--sklearn-color-fitted-level-3);\n",
       "}\n",
       "</style><div id=\"sk-container-id-3\" class=\"sk-top-container\"><div class=\"sk-text-repr-fallback\"><pre>SVC(C=np.float64(0.009808478272431488), gamma=np.float64(0.0012411333354855072),\n",
       "    kernel=&#x27;linear&#x27;)</pre><b>In a Jupyter environment, please rerun this cell to show the HTML representation or trust the notebook. <br />On GitHub, the HTML representation is unable to render, please try loading this page with nbviewer.org.</b></div><div class=\"sk-container\" hidden><div class=\"sk-item\"><div class=\"sk-estimator fitted sk-toggleable\"><input class=\"sk-toggleable__control sk-hidden--visually\" id=\"sk-estimator-id-3\" type=\"checkbox\" checked><label for=\"sk-estimator-id-3\" class=\"sk-toggleable__label fitted sk-toggleable__label-arrow fitted\">&nbsp;&nbsp;SVC<a class=\"sk-estimator-doc-link fitted\" rel=\"noreferrer\" target=\"_blank\" href=\"https://scikit-learn.org/1.5/modules/generated/sklearn.svm.SVC.html\">?<span>Documentation for SVC</span></a><span class=\"sk-estimator-doc-link fitted\">i<span>Fitted</span></span></label><div class=\"sk-toggleable__content fitted\"><pre>SVC(C=np.float64(0.009808478272431488), gamma=np.float64(0.0012411333354855072),\n",
       "    kernel=&#x27;linear&#x27;)</pre></div> </div></div></div></div>"
      ]
     },
     "execution_count": 37,
     "metadata": {},
     "output_type": "execute_result"
    }
   ],
   "execution_count": 37
  },
  {
   "cell_type": "code",
   "source": [
    "# Make predictions on test set\n",
    "Xtest_scaled = scaler.transform(Xtest)\n",
    "\n",
    "pred = final.predict(Xtest_scaled)\n",
    "\n",
    "# Calculate confusion matrix on test data\n",
    "conf_matrix_test = metrics.confusion_matrix(ytest, pred)\n",
    "print('Confusion Matrix on test data:')\n",
    "print(conf_matrix_test)\n",
    "\n",
    "# Calculate accuracy on test data\n",
    "acc_test = metrics.accuracy_score(ytest, pred)\n",
    "print('Accuracy on test data:', acc_test)"
   ],
   "metadata": {
    "collapsed": false,
    "ExecuteTime": {
     "end_time": "2025-05-08T18:46:47.902506Z",
     "start_time": "2025-05-08T18:46:47.877798Z"
    }
   },
   "outputs": [
    {
     "name": "stdout",
     "output_type": "stream",
     "text": [
      "Confusion Matrix on test data:\n",
      "[[241   7]\n",
      " [  4 228]]\n",
      "Accuracy on test data: 0.9770833333333333\n"
     ]
    }
   ],
   "execution_count": 38
  },
  {
   "metadata": {},
   "cell_type": "markdown",
   "source": "Relatively high accuracy for a test set. I will now make the final prediction and save the result."
  },
  {
   "metadata": {
    "ExecuteTime": {
     "end_time": "2025-05-08T18:46:48.449129Z",
     "start_time": "2025-05-08T18:46:47.935847Z"
    }
   },
   "cell_type": "code",
   "source": [
    "evaldata = pd.read_csv('evaluate.csv')\n",
    "\n",
    "# Extract IDs\n",
    "IDs = evaldata['ID']\n",
    "\n",
    "# Drop the 'ID' column from evaluation data\n",
    "evaldata.drop('ID', axis=1, inplace=True)\n",
    "\n",
    "evaldata_scaled = scaler.transform(evaldata)\n",
    "\n",
    "# Make predictions using the final model\n",
    "predictions = final.predict(evaldata_scaled)\n",
    "\n",
    "# Create a DataFrame for results\n",
    "results_df = pd.DataFrame({'ID': IDs, 'label': predictions})\n",
    "\n",
    "# Save results to a CSV file\n",
    "results_df.to_csv('results.csv', index=False)"
   ],
   "outputs": [],
   "execution_count": 39
  },
  {
   "metadata": {},
   "cell_type": "markdown",
   "source": "To be sure, I will compare my results with the actual images from the evaluation file. To do this, I will list the first 16 values (labels) from the results and display the first 16 images."
  },
  {
   "metadata": {
    "ExecuteTime": {
     "end_time": "2025-05-08T18:46:48.481591Z",
     "start_time": "2025-05-08T18:46:48.479247Z"
    }
   },
   "cell_type": "code",
   "source": "print(results_df.head(16))",
   "outputs": [
    {
     "name": "stdout",
     "output_type": "stream",
     "text": [
      "    ID  label\n",
      "0    0      1\n",
      "1    1      0\n",
      "2    2      1\n",
      "3    3      0\n",
      "4    4      1\n",
      "5    5      0\n",
      "6    6      1\n",
      "7    7      1\n",
      "8    8      0\n",
      "9    9      1\n",
      "10  10      0\n",
      "11  11      1\n",
      "12  12      1\n",
      "13  13      1\n",
      "14  14      0\n",
      "15  15      0\n"
     ]
    }
   ],
   "execution_count": 40
  },
  {
   "metadata": {
    "ExecuteTime": {
     "end_time": "2025-05-08T18:46:49.028883Z",
     "start_time": "2025-05-08T18:46:48.513823Z"
    }
   },
   "cell_type": "code",
   "source": [
    "import pandas as pd\n",
    "import matplotlib.pyplot as plt\n",
    "\n",
    "# Load data\n",
    "evaldata = pd.read_csv('evaluate.csv')\n",
    "results_df = pd.read_csv('results.csv')\n",
    "\n",
    "# Extract pixel values of the first 16 images\n",
    "images = evaldata.iloc[:16, 1:].values\n",
    "\n",
    "# Extract labels of the first 16 images from results_df\n",
    "labels = results_df.iloc[:16, 1].values\n",
    "\n",
    "# Reshape each image into a 28x28 matrix\n",
    "images = images.reshape(-1, 28, 28)\n",
    "\n",
    "# Plot the images\n",
    "fig, axes = plt.subplots(4, 4, figsize=(10, 10))\n",
    "for i, ax in enumerate(axes.flat):\n",
    "    ax.imshow(images[i], cmap='gray')\n",
    "    ax.axis('off')\n",
    "    ax.set_title(f'Label: {labels[i]}')  # Add label to title\n",
    "\n",
    "plt.tight_layout()\n",
    "plt.show()"
   ],
   "outputs": [
    {
     "data": {
      "text/plain": [
       "<Figure size 1000x1000 with 16 Axes>"
      ],
      "image/png": "[encoded data removed]"
     },
     "metadata": {},
     "output_type": "display_data"
    }
   ],
   "execution_count": 41
  },
  {
   "metadata": {},
   "cell_type": "markdown",
   "source": "In general, at least for the first 16 images, the model gives 100% accuracy: pants are marked 0, non-pants are marked 1, which makes me very happy. :)"
  },
  {
   "metadata": {
    "ExecuteTime": {
     "end_time": "2025-05-08T18:46:49.063996Z",
     "start_time": "2025-05-08T18:46:49.062496Z"
    }
   },
   "cell_type": "code",
   "source": "",
   "outputs": [],
   "execution_count": null
  }
 ],
 "metadata": {
  "kernelspec": {
   "display_name": "Python 3 (ipykernel)",
   "language": "python",
   "name": "python3"
  },
  "language_info": {
   "codemirror_mode": {
    "name": "ipython",
    "version": 3
   },
   "file_extension": ".py",
   "mimetype": "text/x-python",
   "name": "python",
   "nbconvert_exporter": "python",
   "pygments_lexer": "ipython3",
   "version": "3.12.2"
  }
 },
 "nbformat": 4,
 "nbformat_minor": 4
}
