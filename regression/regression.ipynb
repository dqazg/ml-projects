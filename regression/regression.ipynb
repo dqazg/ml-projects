{
 "cells": [
  {
   "cell_type": "markdown",
   "id": "0cf75ab4-bd4d-4ec2-a708-74797dbfce44",
   "metadata": {},
   "source": [
    "# Regression Model for Life Expectancy Prediction\n",
    "\n",
    "In this project, I focus on predicting life expectancy in different countries across various years. The goal is to build a regression model that uses multiple features related to healthcare, socio-economic factors, and demographics to predict the life expectancy of a country in a given year.\n",
    "\n",
    "## Dataset overview\n",
    "\n",
    "I work with two datasets: `data.csv` for training the model and `evaluation.csv` for evaluating its performance.\n",
    "\n",
    "#### Features:\n",
    "\n",
    "* **Year** – The year the data corresponds to\n",
    "* **Status** – Whether the country is a developed or developing country\n",
    "* **Life expectancy** – The target variable I aim to predict, representing the life expectancy in years\n",
    "* **Adult Mortality** – Probability of adults aged 15-60 dying (per 1,000 people)\n",
    "* **Infant deaths** – Number of infant deaths per 1,000 people\n",
    "* **Alcohol** – Recorded alcohol consumption per capita (15+ years old) in liters of pure alcohol\n",
    "* **Percentage expenditure** – Healthcare expenditure as a percentage of GDP per capita\n",
    "* **Hepatitis B** – Percentage of 1-year-olds vaccinated against Hepatitis B\n",
    "* **Measles** – Number of reported measles cases per 1,000 people\n",
    "* **BMI** – Average body mass index of the population\n",
    "* **Under-five deaths** – Number of deaths of children under five per 1,000 people\n",
    "* **Polio** – Percentage of 1-year-olds vaccinated against polio\n",
    "* **Total expenditure** – Government healthcare expenditure as a percentage of total government expenditure\n",
    "* **Diphtheria** – Percentage of 1-year-olds vaccinated against diphtheria, tetanus, and pertussis\n",
    "* **HIV/AIDS** – Number of deaths from HIV/AIDS per 1,000 live births (age 0-4)\n",
    "* **GDP** – Gross domestic product per capita (USD)\n",
    "* **Population** – The population of the country\n",
    "* **Thinness 1-19 years** – Percentage of children aged 10-19 years with BMI below 2 standard deviations from the median\n",
    "* **Thinness 5-9 years** – Percentage of children aged 5-9 years with BMI below 2 standard deviations from the median\n",
    "* **Income composition of resources** – Human development index based on income composition (0 to 1)\n",
    "* **Schooling** – Number of years of schooling\n",
    "\n",
    "## Project steps\n",
    "\n",
    "### 1. Data loading and preprocessing\n",
    "- Load the training data from `data.csv` and split it into subsets: training, validation, and testing.\n",
    "- Preprocess the data by transforming the features into a suitable form for regression. Handle any missing values appropriately, and explore the possibility of feature engineering (e.g., creating new features from existing ones).\n",
    "\n",
    "### 2. Exploratory data analysis\n",
    "- Conduct some basic data analysis and visualizations to better understand the relationships between features and the target variable (`Life expectancy`).\n",
    "- Comment on any interesting patterns, trends, or anomalies observed during this stage.\n",
    "\n",
    "### 3. Model building\n",
    "- Implement a **Random Forest** regression model from scratch.\n",
    "- Apply various regression models, including:\n",
    "  - My custom Random Forest implementation\n",
    "  - Linear Regression or Ridge Regression\n",
    "  - A third model of my choice (e.g., Decision Trees, Support Vector Regression, etc.)\n",
    "- For each model, experiment with normalizing (standardizing or min-max scaling) the data if necessary.\n",
    "- Tune the hyperparameters for each model, focusing on minimizing **RMSE** (Root Mean Squared Error).\n",
    "- For the best-performing model, compute the **RMSE** and **MAE** (Mean Absolute Error).\n",
    "\n",
    "### 4. Model evaluation\n",
    "- After testing multiple models, select the best one based on performance (lowest error).\n",
    "- Estimate how the final model would perform on unseen data.\n",
    "\n",
    "### 5. Prediction and results\n",
    "- Load the evaluation data from `evaluation.csv`.\n",
    "- Use the final selected model to predict the life expectancy for the countries and years in the evaluation set.\n",
    "- Save the results in a `results.csv` file.\n",
    "\n",
    "\n",
    "### Conclusion and future work\n",
    "- Reflect on the model's performance and the importance of the chosen features.\n",
    "- Consider potential improvements, such as adding more features or fine-tuning the models further."
   ]
  },
  {
   "cell_type": "code",
   "id": "280dc5d5-087b-4060-bd0a-c950c91f0533",
   "metadata": {
    "ExecuteTime": {
     "end_time": "2025-05-08T19:09:28.818082Z",
     "start_time": "2025-05-08T19:09:28.037254Z"
    }
   },
   "source": [
    "# Custom Random Forest implementation\n",
    "\n",
    "import numpy as np\n",
    "from sklearn.tree import DecisionTreeRegressor\n",
    "from sklearn.base import BaseEstimator, RegressorMixin\n",
    "\n",
    "class CustomRandomForest(BaseEstimator, RegressorMixin):\n",
    "    def __init__(self, n_estimators=10, max_samples=1.0, max_depth=None, random_state=None):\n",
    "        # Model parameter initialization\n",
    "        self.n_estimators = n_estimators\n",
    "        self.max_samples = max_samples\n",
    "        self.max_depth = max_depth\n",
    "        self.random_state = random_state\n",
    "        self.models = []\n",
    "\n",
    "    def fit(self, X, y):\n",
    "        # Training Random Forest models\n",
    "        for _ in range(self.n_estimators):\n",
    "            # Bootstrap sampling\n",
    "            indices = np.random.choice(X.shape[0], size=self._get_max_samples(X), replace=True)\n",
    "            X_bootstrap, y_bootstrap = X[indices], y[indices]\n",
    "\n",
    "        # Creating and training DecisionTreeRegressor\n",
    "            tree = DecisionTreeRegressor(max_depth=self.max_depth, random_state=self.random_state)\n",
    "            tree.fit(X_bootstrap, y_bootstrap)\n",
    "\n",
    "            # Saving the trained model\n",
    "            self.models.append(tree)\n",
    "\n",
    "    def predict(self, X):\n",
    "        # Prediction using the recently trained model\n",
    "        predictions = np.zeros((X.shape[0], self.n_estimators))\n",
    "        for i, model in enumerate(self.models):\n",
    "            predictions[:, i] = model.predict(X)\n",
    "\n",
    "        # Aggregation of predictions\n",
    "        y_predicted = np.mean(predictions, axis=1)\n",
    "        return y_predicted\n",
    "\n",
    "    def _get_max_samples(self, X):\n",
    "        # Obtaining maximum number of samples for bootstrap sampling\n",
    "        if 0 < self.max_samples <= 1:\n",
    "            return int(self.max_samples * X.shape[0])\n",
    "        elif 1 < self.max_samples <= X.shape[0]:\n",
    "            return int(self.max_samples)\n",
    "        else:\n",
    "            raise ValueError(\"Invalid value for max_samples.\")\n",
    "\n",
    "    def get_params(self, deep=True):\n",
    "        # Getting current model parameters\n",
    "        return {\n",
    "            'n_estimators': self.n_estimators,\n",
    "            'max_samples': self.max_samples,\n",
    "            'max_depth': self.max_depth,\n",
    "            'random_state': self.random_state\n",
    "        }\n",
    "\n",
    "    def set_params(self, **params):\n",
    "        # Setting model parameters\n",
    "        for key, value in params.items():\n",
    "            setattr(self, key, value)\n",
    "        return self"
   ],
   "outputs": [],
   "execution_count": 1
  },
  {
   "cell_type": "markdown",
   "id": "b3680cd2-bc89-411d-8e5c-6a72f310b821",
   "metadata": {},
   "source": [
    "### I. Basic data preprocessing\n",
    "For this step, I will need basic packages for working with data, such as numpy and pandas. First, I will provide some general information about the dataset."
   ]
  },
  {
   "cell_type": "code",
   "id": "92f7b4b2-4929-4b8f-ad9b-26aca8a4978a",
   "metadata": {
    "ExecuteTime": {
     "end_time": "2025-05-08T19:09:29.064522Z",
     "start_time": "2025-05-08T19:09:28.821391Z"
    }
   },
   "source": [
    "import pandas as pd\n",
    "import matplotlib.pyplot as plt\n",
    "\n",
    "dcountries = pd.read_csv('data.csv')\n",
    "ecountries = pd.read_csv('evaluation.csv')"
   ],
   "outputs": [],
   "execution_count": 2
  },
  {
   "cell_type": "code",
   "id": "e2e6e4fa-a3a1-40cf-b66f-e40404c1745d",
   "metadata": {
    "ExecuteTime": {
     "end_time": "2025-05-08T19:09:29.184252Z",
     "start_time": "2025-05-08T19:09:29.172299Z"
    }
   },
   "source": [
    "dcountries.info()\n",
    "dcountries.head()"
   ],
   "outputs": [
    {
     "name": "stdout",
     "output_type": "stream",
     "text": [
      "<class 'pandas.core.frame.DataFrame'>\n",
      "RangeIndex: 2718 entries, 0 to 2717\n",
      "Data columns (total 22 columns):\n",
      " #   Column                           Non-Null Count  Dtype  \n",
      "---  ------                           --------------  -----  \n",
      " 0   Country                          2718 non-null   object \n",
      " 1   Year                             2718 non-null   int64  \n",
      " 2   Status                           2718 non-null   object \n",
      " 3   Life expectancy                  2718 non-null   float64\n",
      " 4   Adult Mortality                  2718 non-null   float64\n",
      " 5   infant deaths                    2718 non-null   int64  \n",
      " 6   Alcohol                          2564 non-null   float64\n",
      " 7   percentage expenditure           2718 non-null   float64\n",
      " 8   Hepatitis B                      2188 non-null   float64\n",
      " 9   Measles                          2718 non-null   int64  \n",
      " 10  BMI                              2692 non-null   float64\n",
      " 11  under-five deaths                2718 non-null   int64  \n",
      " 12  Polio                            2700 non-null   float64\n",
      " 13  Total expenditure                2529 non-null   float64\n",
      " 14  Diphtheria                       2700 non-null   float64\n",
      " 15  HIV/AIDS                         2718 non-null   float64\n",
      " 16  GDP                              2317 non-null   float64\n",
      " 17  Population                       2116 non-null   float64\n",
      " 18  thinness  1-19 years             2692 non-null   float64\n",
      " 19  thinness 5-9 years               2692 non-null   float64\n",
      " 20  Income composition of resources  2576 non-null   float64\n",
      " 21  Schooling                        2576 non-null   float64\n",
      "dtypes: float64(16), int64(4), object(2)\n",
      "memory usage: 467.3+ KB\n"
     ]
    },
    {
     "data": {
      "text/plain": [
       "       Country  Year      Status  Life expectancy  Adult Mortality  \\\n",
       "0  Afghanistan  2015  Developing             65.0            263.0   \n",
       "1  Afghanistan  2014  Developing             59.9            271.0   \n",
       "2  Afghanistan  2013  Developing             59.9            268.0   \n",
       "3  Afghanistan  2012  Developing             59.5            272.0   \n",
       "4  Afghanistan  2011  Developing             59.2            275.0   \n",
       "\n",
       "   infant deaths  Alcohol  percentage expenditure  Hepatitis B  Measles  ...  \\\n",
       "0             62     0.01               71.279624         65.0     1154  ...   \n",
       "1             64     0.01               73.523582         62.0      492  ...   \n",
       "2             66     0.01               73.219243         64.0      430  ...   \n",
       "3             69     0.01               78.184215         67.0     2787  ...   \n",
       "4             71     0.01                7.097109         68.0     3013  ...   \n",
       "\n",
       "   Polio  Total expenditure  Diphtheria  HIV/AIDS         GDP  Population  \\\n",
       "0    6.0               8.16        65.0       0.1  584.259210  33736494.0   \n",
       "1   58.0               8.18        62.0       0.1  612.696514    327582.0   \n",
       "2   62.0               8.13        64.0       0.1  631.744976  31731688.0   \n",
       "3   67.0               8.52        67.0       0.1  669.959000   3696958.0   \n",
       "4   68.0               7.87        68.0       0.1   63.537231   2978599.0   \n",
       "\n",
       "   thinness  1-19 years  thinness 5-9 years  Income composition of resources  \\\n",
       "0                  17.2                17.3                            0.479   \n",
       "1                  17.5                17.5                            0.476   \n",
       "2                  17.7                17.7                            0.470   \n",
       "3                  17.9                18.0                            0.463   \n",
       "4                  18.2                18.2                            0.454   \n",
       "\n",
       "   Schooling  \n",
       "0       10.1  \n",
       "1       10.0  \n",
       "2        9.9  \n",
       "3        9.8  \n",
       "4        9.5  \n",
       "\n",
       "[5 rows x 22 columns]"
      ],
      "text/html": [
       "<div>\n",
       "<style scoped>\n",
       "    .dataframe tbody tr th:only-of-type {\n",
       "        vertical-align: middle;\n",
       "    }\n",
       "\n",
       "    .dataframe tbody tr th {\n",
       "        vertical-align: top;\n",
       "    }\n",
       "\n",
       "    .dataframe thead th {\n",
       "        text-align: right;\n",
       "    }\n",
       "</style>\n",
       "<table border=\"1\" class=\"dataframe\">\n",
       "  <thead>\n",
       "    <tr style=\"text-align: right;\">\n",
       "      <th></th>\n",
       "      <th>Country</th>\n",
       "      <th>Year</th>\n",
       "      <th>Status</th>\n",
       "      <th>Life expectancy</th>\n",
       "      <th>Adult Mortality</th>\n",
       "      <th>infant deaths</th>\n",
       "      <th>Alcohol</th>\n",
       "      <th>percentage expenditure</th>\n",
       "      <th>Hepatitis B</th>\n",
       "      <th>Measles</th>\n",
       "      <th>...</th>\n",
       "      <th>Polio</th>\n",
       "      <th>Total expenditure</th>\n",
       "      <th>Diphtheria</th>\n",
       "      <th>HIV/AIDS</th>\n",
       "      <th>GDP</th>\n",
       "      <th>Population</th>\n",
       "      <th>thinness  1-19 years</th>\n",
       "      <th>thinness 5-9 years</th>\n",
       "      <th>Income composition of resources</th>\n",
       "      <th>Schooling</th>\n",
       "    </tr>\n",
       "  </thead>\n",
       "  <tbody>\n",
       "    <tr>\n",
       "      <th>0</th>\n",
       "      <td>Afghanistan</td>\n",
       "      <td>2015</td>\n",
       "      <td>Developing</td>\n",
       "      <td>65.0</td>\n",
       "      <td>263.0</td>\n",
       "      <td>62</td>\n",
       "      <td>0.01</td>\n",
       "      <td>71.279624</td>\n",
       "      <td>65.0</td>\n",
       "      <td>1154</td>\n",
       "      <td>...</td>\n",
       "      <td>6.0</td>\n",
       "      <td>8.16</td>\n",
       "      <td>65.0</td>\n",
       "      <td>0.1</td>\n",
       "      <td>584.259210</td>\n",
       "      <td>33736494.0</td>\n",
       "      <td>17.2</td>\n",
       "      <td>17.3</td>\n",
       "      <td>0.479</td>\n",
       "      <td>10.1</td>\n",
       "    </tr>\n",
       "    <tr>\n",
       "      <th>1</th>\n",
       "      <td>Afghanistan</td>\n",
       "      <td>2014</td>\n",
       "      <td>Developing</td>\n",
       "      <td>59.9</td>\n",
       "      <td>271.0</td>\n",
       "      <td>64</td>\n",
       "      <td>0.01</td>\n",
       "      <td>73.523582</td>\n",
       "      <td>62.0</td>\n",
       "      <td>492</td>\n",
       "      <td>...</td>\n",
       "      <td>58.0</td>\n",
       "      <td>8.18</td>\n",
       "      <td>62.0</td>\n",
       "      <td>0.1</td>\n",
       "      <td>612.696514</td>\n",
       "      <td>327582.0</td>\n",
       "      <td>17.5</td>\n",
       "      <td>17.5</td>\n",
       "      <td>0.476</td>\n",
       "      <td>10.0</td>\n",
       "    </tr>\n",
       "    <tr>\n",
       "      <th>2</th>\n",
       "      <td>Afghanistan</td>\n",
       "      <td>2013</td>\n",
       "      <td>Developing</td>\n",
       "      <td>59.9</td>\n",
       "      <td>268.0</td>\n",
       "      <td>66</td>\n",
       "      <td>0.01</td>\n",
       "      <td>73.219243</td>\n",
       "      <td>64.0</td>\n",
       "      <td>430</td>\n",
       "      <td>...</td>\n",
       "      <td>62.0</td>\n",
       "      <td>8.13</td>\n",
       "      <td>64.0</td>\n",
       "      <td>0.1</td>\n",
       "      <td>631.744976</td>\n",
       "      <td>31731688.0</td>\n",
       "      <td>17.7</td>\n",
       "      <td>17.7</td>\n",
       "      <td>0.470</td>\n",
       "      <td>9.9</td>\n",
       "    </tr>\n",
       "    <tr>\n",
       "      <th>3</th>\n",
       "      <td>Afghanistan</td>\n",
       "      <td>2012</td>\n",
       "      <td>Developing</td>\n",
       "      <td>59.5</td>\n",
       "      <td>272.0</td>\n",
       "      <td>69</td>\n",
       "      <td>0.01</td>\n",
       "      <td>78.184215</td>\n",
       "      <td>67.0</td>\n",
       "      <td>2787</td>\n",
       "      <td>...</td>\n",
       "      <td>67.0</td>\n",
       "      <td>8.52</td>\n",
       "      <td>67.0</td>\n",
       "      <td>0.1</td>\n",
       "      <td>669.959000</td>\n",
       "      <td>3696958.0</td>\n",
       "      <td>17.9</td>\n",
       "      <td>18.0</td>\n",
       "      <td>0.463</td>\n",
       "      <td>9.8</td>\n",
       "    </tr>\n",
       "    <tr>\n",
       "      <th>4</th>\n",
       "      <td>Afghanistan</td>\n",
       "      <td>2011</td>\n",
       "      <td>Developing</td>\n",
       "      <td>59.2</td>\n",
       "      <td>275.0</td>\n",
       "      <td>71</td>\n",
       "      <td>0.01</td>\n",
       "      <td>7.097109</td>\n",
       "      <td>68.0</td>\n",
       "      <td>3013</td>\n",
       "      <td>...</td>\n",
       "      <td>68.0</td>\n",
       "      <td>7.87</td>\n",
       "      <td>68.0</td>\n",
       "      <td>0.1</td>\n",
       "      <td>63.537231</td>\n",
       "      <td>2978599.0</td>\n",
       "      <td>18.2</td>\n",
       "      <td>18.2</td>\n",
       "      <td>0.454</td>\n",
       "      <td>9.5</td>\n",
       "    </tr>\n",
       "  </tbody>\n",
       "</table>\n",
       "<p>5 rows × 22 columns</p>\n",
       "</div>"
      ]
     },
     "execution_count": 3,
     "metadata": {},
     "output_type": "execute_result"
    }
   ],
   "execution_count": 3
  },
  {
   "cell_type": "code",
   "id": "902b6246-6515-4eee-b158-8a488c7bda96",
   "metadata": {
    "ExecuteTime": {
     "end_time": "2025-05-08T19:09:29.221874Z",
     "start_time": "2025-05-08T19:09:29.217816Z"
    }
   },
   "source": [
    "dcountries.isnull().sum()"
   ],
   "outputs": [
    {
     "data": {
      "text/plain": [
       "Country                              0\n",
       "Year                                 0\n",
       "Status                               0\n",
       "Life expectancy                      0\n",
       "Adult Mortality                      0\n",
       "infant deaths                        0\n",
       "Alcohol                            154\n",
       "percentage expenditure               0\n",
       "Hepatitis B                        530\n",
       "Measles                              0\n",
       "BMI                                 26\n",
       "under-five deaths                    0\n",
       "Polio                               18\n",
       "Total expenditure                  189\n",
       "Diphtheria                          18\n",
       "HIV/AIDS                             0\n",
       "GDP                                401\n",
       "Population                         602\n",
       "thinness  1-19 years                26\n",
       "thinness 5-9 years                  26\n",
       "Income composition of resources    142\n",
       "Schooling                          142\n",
       "dtype: int64"
      ]
     },
     "execution_count": 4,
     "metadata": {},
     "output_type": "execute_result"
    }
   ],
   "execution_count": 4
  },
  {
   "cell_type": "code",
   "source": [
    "# The dataset on which the prediction will be based must be processed in the same way as the dcountries\n",
    "ecountries.info()\n",
    "ecountries.head()"
   ],
   "metadata": {
    "collapsed": false,
    "ExecuteTime": {
     "end_time": "2025-05-08T19:09:29.266163Z",
     "start_time": "2025-05-08T19:09:29.253687Z"
    }
   },
   "id": "920b0344049c7452",
   "outputs": [
    {
     "name": "stdout",
     "output_type": "stream",
     "text": [
      "<class 'pandas.core.frame.DataFrame'>\n",
      "RangeIndex: 210 entries, 0 to 209\n",
      "Data columns (total 21 columns):\n",
      " #   Column                           Non-Null Count  Dtype  \n",
      "---  ------                           --------------  -----  \n",
      " 0   Country                          210 non-null    object \n",
      " 1   Year                             210 non-null    int64  \n",
      " 2   Status                           210 non-null    object \n",
      " 3   Adult Mortality                  210 non-null    float64\n",
      " 4   infant deaths                    210 non-null    int64  \n",
      " 5   Alcohol                          171 non-null    float64\n",
      " 6   percentage expenditure           210 non-null    float64\n",
      " 7   Hepatitis B                      187 non-null    float64\n",
      " 8   Measles                          210 non-null    int64  \n",
      " 9   BMI                              204 non-null    float64\n",
      " 10  under-five deaths                210 non-null    int64  \n",
      " 11  Polio                            209 non-null    float64\n",
      " 12  Total expenditure                173 non-null    float64\n",
      " 13  Diphtheria                       209 non-null    float64\n",
      " 14  HIV/AIDS                         210 non-null    float64\n",
      " 15  GDP                              168 non-null    float64\n",
      " 16  Population                       168 non-null    float64\n",
      " 17  thinness  1-19 years             204 non-null    float64\n",
      " 18  thinness 5-9 years               204 non-null    float64\n",
      " 19  Income composition of resources  192 non-null    float64\n",
      " 20  Schooling                        192 non-null    float64\n",
      "dtypes: float64(15), int64(4), object(2)\n",
      "memory usage: 34.6+ KB\n"
     ]
    },
    {
     "data": {
      "text/plain": [
       "      Country  Year      Status  Adult Mortality  infant deaths  Alcohol  \\\n",
       "0  Azerbaijan  2015  Developing            118.0              5      NaN   \n",
       "1  Azerbaijan  2014  Developing            119.0              5     0.01   \n",
       "2  Azerbaijan  2013  Developing            121.0              5     2.14   \n",
       "3  Azerbaijan  2012  Developing            123.0              5     0.01   \n",
       "4  Azerbaijan  2011  Developing            125.0              5     1.98   \n",
       "\n",
       "   percentage expenditure  Hepatitis B  Measles   BMI  ...  Polio  \\\n",
       "0                0.000000         96.0        0  52.5  ...   98.0   \n",
       "1              306.182431         94.0        0  51.5  ...   97.0   \n",
       "2              275.651493         93.0      164   5.6  ...   96.0   \n",
       "3              285.610391         88.0        0  49.7  ...   92.0   \n",
       "4              263.142699         84.0        0  48.8  ...   91.0   \n",
       "\n",
       "   Total expenditure  Diphtheria  HIV/AIDS          GDP  Population  \\\n",
       "0                NaN        96.0       0.1    55.313820   9649341.0   \n",
       "1               6.40        94.0       0.1  7891.299776    953579.0   \n",
       "2               5.54        93.0       0.1  7875.756953    941681.0   \n",
       "3               5.37        89.0       0.1  7496.335728   9295784.0   \n",
       "4               5.10        87.0       0.1  7189.691229    917382.0   \n",
       "\n",
       "   thinness  1-19 years  thinness 5-9 years  Income composition of resources  \\\n",
       "0                   2.8                 2.9                            0.758   \n",
       "1                   2.8                 2.9                            0.752   \n",
       "2                   2.8                 2.8                            0.745   \n",
       "3                   2.8                 2.8                            0.742   \n",
       "4                   2.8                 2.9                            0.741   \n",
       "\n",
       "   Schooling  \n",
       "0       12.7  \n",
       "1       12.2  \n",
       "2       11.9  \n",
       "3       11.8  \n",
       "4       11.7  \n",
       "\n",
       "[5 rows x 21 columns]"
      ],
      "text/html": [
       "<div>\n",
       "<style scoped>\n",
       "    .dataframe tbody tr th:only-of-type {\n",
       "        vertical-align: middle;\n",
       "    }\n",
       "\n",
       "    .dataframe tbody tr th {\n",
       "        vertical-align: top;\n",
       "    }\n",
       "\n",
       "    .dataframe thead th {\n",
       "        text-align: right;\n",
       "    }\n",
       "</style>\n",
       "<table border=\"1\" class=\"dataframe\">\n",
       "  <thead>\n",
       "    <tr style=\"text-align: right;\">\n",
       "      <th></th>\n",
       "      <th>Country</th>\n",
       "      <th>Year</th>\n",
       "      <th>Status</th>\n",
       "      <th>Adult Mortality</th>\n",
       "      <th>infant deaths</th>\n",
       "      <th>Alcohol</th>\n",
       "      <th>percentage expenditure</th>\n",
       "      <th>Hepatitis B</th>\n",
       "      <th>Measles</th>\n",
       "      <th>BMI</th>\n",
       "      <th>...</th>\n",
       "      <th>Polio</th>\n",
       "      <th>Total expenditure</th>\n",
       "      <th>Diphtheria</th>\n",
       "      <th>HIV/AIDS</th>\n",
       "      <th>GDP</th>\n",
       "      <th>Population</th>\n",
       "      <th>thinness  1-19 years</th>\n",
       "      <th>thinness 5-9 years</th>\n",
       "      <th>Income composition of resources</th>\n",
       "      <th>Schooling</th>\n",
       "    </tr>\n",
       "  </thead>\n",
       "  <tbody>\n",
       "    <tr>\n",
       "      <th>0</th>\n",
       "      <td>Azerbaijan</td>\n",
       "      <td>2015</td>\n",
       "      <td>Developing</td>\n",
       "      <td>118.0</td>\n",
       "      <td>5</td>\n",
       "      <td>NaN</td>\n",
       "      <td>0.000000</td>\n",
       "      <td>96.0</td>\n",
       "      <td>0</td>\n",
       "      <td>52.5</td>\n",
       "      <td>...</td>\n",
       "      <td>98.0</td>\n",
       "      <td>NaN</td>\n",
       "      <td>96.0</td>\n",
       "      <td>0.1</td>\n",
       "      <td>55.313820</td>\n",
       "      <td>9649341.0</td>\n",
       "      <td>2.8</td>\n",
       "      <td>2.9</td>\n",
       "      <td>0.758</td>\n",
       "      <td>12.7</td>\n",
       "    </tr>\n",
       "    <tr>\n",
       "      <th>1</th>\n",
       "      <td>Azerbaijan</td>\n",
       "      <td>2014</td>\n",
       "      <td>Developing</td>\n",
       "      <td>119.0</td>\n",
       "      <td>5</td>\n",
       "      <td>0.01</td>\n",
       "      <td>306.182431</td>\n",
       "      <td>94.0</td>\n",
       "      <td>0</td>\n",
       "      <td>51.5</td>\n",
       "      <td>...</td>\n",
       "      <td>97.0</td>\n",
       "      <td>6.40</td>\n",
       "      <td>94.0</td>\n",
       "      <td>0.1</td>\n",
       "      <td>7891.299776</td>\n",
       "      <td>953579.0</td>\n",
       "      <td>2.8</td>\n",
       "      <td>2.9</td>\n",
       "      <td>0.752</td>\n",
       "      <td>12.2</td>\n",
       "    </tr>\n",
       "    <tr>\n",
       "      <th>2</th>\n",
       "      <td>Azerbaijan</td>\n",
       "      <td>2013</td>\n",
       "      <td>Developing</td>\n",
       "      <td>121.0</td>\n",
       "      <td>5</td>\n",
       "      <td>2.14</td>\n",
       "      <td>275.651493</td>\n",
       "      <td>93.0</td>\n",
       "      <td>164</td>\n",
       "      <td>5.6</td>\n",
       "      <td>...</td>\n",
       "      <td>96.0</td>\n",
       "      <td>5.54</td>\n",
       "      <td>93.0</td>\n",
       "      <td>0.1</td>\n",
       "      <td>7875.756953</td>\n",
       "      <td>941681.0</td>\n",
       "      <td>2.8</td>\n",
       "      <td>2.8</td>\n",
       "      <td>0.745</td>\n",
       "      <td>11.9</td>\n",
       "    </tr>\n",
       "    <tr>\n",
       "      <th>3</th>\n",
       "      <td>Azerbaijan</td>\n",
       "      <td>2012</td>\n",
       "      <td>Developing</td>\n",
       "      <td>123.0</td>\n",
       "      <td>5</td>\n",
       "      <td>0.01</td>\n",
       "      <td>285.610391</td>\n",
       "      <td>88.0</td>\n",
       "      <td>0</td>\n",
       "      <td>49.7</td>\n",
       "      <td>...</td>\n",
       "      <td>92.0</td>\n",
       "      <td>5.37</td>\n",
       "      <td>89.0</td>\n",
       "      <td>0.1</td>\n",
       "      <td>7496.335728</td>\n",
       "      <td>9295784.0</td>\n",
       "      <td>2.8</td>\n",
       "      <td>2.8</td>\n",
       "      <td>0.742</td>\n",
       "      <td>11.8</td>\n",
       "    </tr>\n",
       "    <tr>\n",
       "      <th>4</th>\n",
       "      <td>Azerbaijan</td>\n",
       "      <td>2011</td>\n",
       "      <td>Developing</td>\n",
       "      <td>125.0</td>\n",
       "      <td>5</td>\n",
       "      <td>1.98</td>\n",
       "      <td>263.142699</td>\n",
       "      <td>84.0</td>\n",
       "      <td>0</td>\n",
       "      <td>48.8</td>\n",
       "      <td>...</td>\n",
       "      <td>91.0</td>\n",
       "      <td>5.10</td>\n",
       "      <td>87.0</td>\n",
       "      <td>0.1</td>\n",
       "      <td>7189.691229</td>\n",
       "      <td>917382.0</td>\n",
       "      <td>2.8</td>\n",
       "      <td>2.9</td>\n",
       "      <td>0.741</td>\n",
       "      <td>11.7</td>\n",
       "    </tr>\n",
       "  </tbody>\n",
       "</table>\n",
       "<p>5 rows × 21 columns</p>\n",
       "</div>"
      ]
     },
     "execution_count": 5,
     "metadata": {},
     "output_type": "execute_result"
    }
   ],
   "execution_count": 5
  },
  {
   "cell_type": "code",
   "source": [
    "ecountries.isnull().sum()"
   ],
   "metadata": {
    "collapsed": false,
    "ExecuteTime": {
     "end_time": "2025-05-08T19:09:29.315090Z",
     "start_time": "2025-05-08T19:09:29.311410Z"
    }
   },
   "id": "64d54762a53f473b",
   "outputs": [
    {
     "data": {
      "text/plain": [
       "Country                             0\n",
       "Year                                0\n",
       "Status                              0\n",
       "Adult Mortality                     0\n",
       "infant deaths                       0\n",
       "Alcohol                            39\n",
       "percentage expenditure              0\n",
       "Hepatitis B                        23\n",
       "Measles                             0\n",
       "BMI                                 6\n",
       "under-five deaths                   0\n",
       "Polio                               1\n",
       "Total expenditure                  37\n",
       "Diphtheria                          1\n",
       "HIV/AIDS                            0\n",
       "GDP                                42\n",
       "Population                         42\n",
       "thinness  1-19 years                6\n",
       "thinness 5-9 years                  6\n",
       "Income composition of resources    18\n",
       "Schooling                          18\n",
       "dtype: int64"
      ]
     },
     "execution_count": 6,
     "metadata": {},
     "output_type": "execute_result"
    }
   ],
   "execution_count": 6
  },
  {
   "cell_type": "markdown",
   "id": "0ced18f0-f5a9-4164-bbf7-a9bfc268a424",
   "metadata": {},
   "source": [
    "The dataset contains 21 columns, with columns typically having the float64 data type (numerical values). The only object-type columns are Country and Status, where Status contains values \"Developing\" or \"Developed\", so it can be converted to the category type. The Country column is best removed because it has around 200 unique values, and converting it to a category type using cat.codes would introduce an ordinal order, which doesn’t make sense. However, I will need this feature to fill NaN values, so I will discard it at the end.\n",
    "\n",
    "In general, it can be said that the dataset doesn't have the highest quality data for working with (it may have been artificially modified – for example, columns with percentages have values greater than 100%, the population of one country differs by hundreds of thousands of people literally within a few years, there are quite a few outliers, and so on). However, I will not modify the data too much because the goal is to be able to work with any source data.\n",
    "\n",
    "\n",
    "### II. Preparation of training/testing/validation sets and filling missing values\n",
    "\n",
    "I divide the data in the following way:\n",
    "<br>\n",
    "train set = 2718 * 0.6 = 1630 (60%)\n",
    "<br>\n",
    "validation set = (2718 - 1630) * 0.3 = 327 (0.4 * 0.3 = 12%)\n",
    "<br>\n",
    "test set = 2718 - 1630 - 327 = 761 (0.4 * 0.7 = 28%)\n"
   ]
  },
  {
   "cell_type": "code",
   "id": "8738b77b-af9e-4038-908c-417891b1da64",
   "metadata": {
    "ExecuteTime": {
     "end_time": "2025-05-08T19:09:29.402988Z",
     "start_time": "2025-05-08T19:09:29.397977Z"
    }
   },
   "source": [
    "from sklearn.model_selection import train_test_split\n",
    "\n",
    "Xtrain, Xtemp, ytrain, ytemp = train_test_split(dcountries.drop(columns = ['Life expectancy']), dcountries['Life expectancy'], test_size=0.4, random_state=42)\n",
    "Xval, Xtest, yval, ytest = train_test_split(Xtemp, ytemp, test_size=0.3, random_state=42)\n",
    "\n",
    "print(f'Train set size: {Xtrain.shape}, y: {ytrain.shape}')\n",
    "print(f'Validation set size: {Xval.shape}, y: {yval.shape}')\n",
    "print(f'Test set size: {Xtest.shape}, y: {ytest.shape}')"
   ],
   "outputs": [
    {
     "name": "stdout",
     "output_type": "stream",
     "text": [
      "Train set size: (1630, 21), y: (1630,)\n",
      "Validation set size: (761, 21), y: (761,)\n",
      "Test set size: (327, 21), y: (327,)\n"
     ]
    }
   ],
   "execution_count": 7
  },
  {
   "cell_type": "code",
   "id": "34f3ea53-9868-4160-95ad-e96005e15013",
   "metadata": {
    "ExecuteTime": {
     "end_time": "2025-05-08T19:09:29.472349Z",
     "start_time": "2025-05-08T19:09:29.468141Z"
    }
   },
   "source": [
    "Xtrain.isnull().sum()"
   ],
   "outputs": [
    {
     "data": {
      "text/plain": [
       "Country                              0\n",
       "Year                                 0\n",
       "Status                               0\n",
       "Adult Mortality                      0\n",
       "infant deaths                        0\n",
       "Alcohol                             94\n",
       "percentage expenditure               0\n",
       "Hepatitis B                        330\n",
       "Measles                              0\n",
       "BMI                                 15\n",
       "under-five deaths                    0\n",
       "Polio                                9\n",
       "Total expenditure                  119\n",
       "Diphtheria                           9\n",
       "HIV/AIDS                             0\n",
       "GDP                                250\n",
       "Population                         361\n",
       "thinness  1-19 years                15\n",
       "thinness 5-9 years                  15\n",
       "Income composition of resources     83\n",
       "Schooling                           83\n",
       "dtype: int64"
      ]
     },
     "execution_count": 8,
     "metadata": {},
     "output_type": "execute_result"
    }
   ],
   "execution_count": 8
  },
  {
   "cell_type": "markdown",
   "source": "Now, I will fill NaN values for each subset of data separately, so I will fill them with data from the training set. I divide the situation into two cases: if a country has completely missing data for a feature, I will replace the zero values with the median from the entire Xtrain subset; if at least one non-zero value exists for the country, I will replace all zero values with the median for that country.",
   "metadata": {
    "collapsed": false
   },
   "id": "d477a2ef5e1832fd"
  },
  {
   "cell_type": "code",
   "id": "9b87a473-0663-43e4-b69c-6b9ed85fb203",
   "metadata": {
    "ExecuteTime": {
     "end_time": "2025-05-08T19:09:29.799708Z",
     "start_time": "2025-05-08T19:09:29.525778Z"
    }
   },
   "source": [
    "for column in ['Alcohol', 'Hepatitis B', 'BMI', 'Polio', 'Total expenditure', 'Diphtheria', 'GDP',\n",
    "               'Population', 'thinness  1-19 years', 'thinness 5-9 years',\n",
    "               'Income composition of resources', 'Schooling']:\n",
    "    # Replacing NaN values with the country's median for each country\n",
    "    Xtrain[column] = Xtrain.groupby('Country')[column].transform(lambda x: x.fillna(x.median()) if x.notnull().any() else x)\n",
    "    \n",
    "    # For countries without data, replace NaN values with the median of the entire dataset\n",
    "    Xtrain[column] = Xtrain[column].fillna(Xtrain[column].median())"
   ],
   "outputs": [],
   "execution_count": 9
  },
  {
   "cell_type": "code",
   "source": [
    "for column in ['Alcohol', 'Hepatitis B', 'BMI', 'Polio', 'Total expenditure', 'Diphtheria', 'GDP',\n",
    "               'Population', 'thinness  1-19 years', 'thinness 5-9 years',\n",
    "               'Income composition of resources', 'Schooling']:\n",
    "    Xval[column] = Xval.apply(lambda row: Xtrain[(Xtrain['Country'] == row['Country'])][column].median()\n",
    "                             if pd.isnull(row[column]) and row['Country'] in Xtrain['Country'].values\n",
    "                             else row[column], axis=1)\n",
    "    \n",
    "    # For missing values, replace NaN values with the median of the entire dataset\n",
    "    Xval[column] = Xval[column].fillna(Xtrain[column].median())"
   ],
   "metadata": {
    "collapsed": false,
    "ExecuteTime": {
     "end_time": "2025-05-08T19:09:30.022480Z",
     "start_time": "2025-05-08T19:09:29.821947Z"
    }
   },
   "id": "e24559e6d059f271",
   "outputs": [],
   "execution_count": 10
  },
  {
   "cell_type": "code",
   "source": [
    "for column in ['Alcohol', 'Hepatitis B', 'BMI', 'Polio', 'Total expenditure', 'Diphtheria', 'GDP',\n",
    "               'Population', 'thinness  1-19 years', 'thinness 5-9 years',\n",
    "               'Income composition of resources', 'Schooling']:\n",
    "    Xtest[column] = Xtest.apply(lambda row: Xtrain[(Xtrain['Country'] == row['Country'])][column].median()\n",
    "                               if pd.isnull(row[column]) and row['Country'] in Xtrain['Country'].values\n",
    "                               else row[column], axis=1)\n",
    "    \n",
    "    Xtest[column] = Xtest[column].fillna(Xtrain[column].median())"
   ],
   "metadata": {
    "collapsed": false,
    "ExecuteTime": {
     "end_time": "2025-05-08T19:09:30.132104Z",
     "start_time": "2025-05-08T19:09:30.040895Z"
    }
   },
   "id": "59b0261f17853f2",
   "outputs": [],
   "execution_count": 11
  },
  {
   "cell_type": "code",
   "source": [
    "for column in ['Alcohol', 'Hepatitis B', 'BMI', 'Polio', 'Total expenditure', 'Diphtheria', 'GDP',\n",
    "               'Population', 'thinness  1-19 years', 'thinness 5-9 years',\n",
    "               'Income composition of resources', 'Schooling']:\n",
    "    ecountries[column] = ecountries.groupby('Country')[column].transform(\n",
    "        lambda x: x.fillna(Xtrain[Xtrain['Country'] == x.index[0]][column].median())\n",
    "        if x.notnull().any() else x\n",
    "    )\n",
    "    \n",
    "    ecountries[column] = ecountries[column].fillna(Xtrain[column].median())"
   ],
   "metadata": {
    "collapsed": false,
    "ExecuteTime": {
     "end_time": "2025-05-08T19:09:30.951456Z",
     "start_time": "2025-05-08T19:09:30.135488Z"
    }
   },
   "id": "b7cee303894186d3",
   "outputs": [],
   "execution_count": 12
  },
  {
   "cell_type": "code",
   "source": [
    "Xtrain.isnull().sum()"
   ],
   "metadata": {
    "collapsed": false,
    "ExecuteTime": {
     "end_time": "2025-05-08T19:09:30.988864Z",
     "start_time": "2025-05-08T19:09:30.982988Z"
    }
   },
   "id": "d27475765c7d0fa6",
   "outputs": [
    {
     "data": {
      "text/plain": [
       "Country                            0\n",
       "Year                               0\n",
       "Status                             0\n",
       "Adult Mortality                    0\n",
       "infant deaths                      0\n",
       "Alcohol                            0\n",
       "percentage expenditure             0\n",
       "Hepatitis B                        0\n",
       "Measles                            0\n",
       "BMI                                0\n",
       "under-five deaths                  0\n",
       "Polio                              0\n",
       "Total expenditure                  0\n",
       "Diphtheria                         0\n",
       "HIV/AIDS                           0\n",
       "GDP                                0\n",
       "Population                         0\n",
       "thinness  1-19 years               0\n",
       "thinness 5-9 years                 0\n",
       "Income composition of resources    0\n",
       "Schooling                          0\n",
       "dtype: int64"
      ]
     },
     "execution_count": 13,
     "metadata": {},
     "output_type": "execute_result"
    }
   ],
   "execution_count": 13
  },
  {
   "cell_type": "code",
   "source": [
    "ecountries.isnull().sum()"
   ],
   "metadata": {
    "collapsed": false,
    "ExecuteTime": {
     "end_time": "2025-05-08T19:09:31.040856Z",
     "start_time": "2025-05-08T19:09:31.037905Z"
    }
   },
   "id": "dc58a07abb2d747a",
   "outputs": [
    {
     "data": {
      "text/plain": [
       "Country                            0\n",
       "Year                               0\n",
       "Status                             0\n",
       "Adult Mortality                    0\n",
       "infant deaths                      0\n",
       "Alcohol                            0\n",
       "percentage expenditure             0\n",
       "Hepatitis B                        0\n",
       "Measles                            0\n",
       "BMI                                0\n",
       "under-five deaths                  0\n",
       "Polio                              0\n",
       "Total expenditure                  0\n",
       "Diphtheria                         0\n",
       "HIV/AIDS                           0\n",
       "GDP                                0\n",
       "Population                         0\n",
       "thinness  1-19 years               0\n",
       "thinness 5-9 years                 0\n",
       "Income composition of resources    0\n",
       "Schooling                          0\n",
       "dtype: int64"
      ]
     },
     "execution_count": 14,
     "metadata": {},
     "output_type": "execute_result"
    }
   ],
   "execution_count": 14
  },
  {
   "cell_type": "markdown",
   "source": "There are no more null values in the datasets. I will now convert the Status flag to the category type and throw away the Country flag. The data will be ready.",
   "metadata": {
    "collapsed": false
   },
   "id": "a05ff2c68d83ab6e"
  },
  {
   "cell_type": "code",
   "source": [
    "Xtrain['Status'] = Xtrain['Status'].astype('category')\n",
    "Xtrain['Status'] = Xtrain['Status'].cat.codes\n",
    "\n",
    "Xval['Status'] = Xval['Status'].astype('category')\n",
    "Xval['Status'] = Xval['Status'].cat.codes\n",
    "\n",
    "Xtest['Status'] = Xtest['Status'].astype('category')\n",
    "Xtest['Status'] = Xtest['Status'].cat.codes\n",
    "\n",
    "ecountries['Status'] = ecountries['Status'].astype('category')\n",
    "ecountries['Status'] = ecountries['Status'].cat.codes"
   ],
   "metadata": {
    "collapsed": false,
    "ExecuteTime": {
     "end_time": "2025-05-08T19:09:31.071968Z",
     "start_time": "2025-05-08T19:09:31.067462Z"
    }
   },
   "id": "be51c09cb7066ec6",
   "outputs": [],
   "execution_count": 15
  },
  {
   "cell_type": "code",
   "source": [
    "Xtrain.drop('Country', axis=1, inplace=True)\n",
    "Xval.drop('Country', axis=1, inplace=True)\n",
    "Xtest.drop('Country', axis=1, inplace=True)"
   ],
   "metadata": {
    "collapsed": false,
    "ExecuteTime": {
     "end_time": "2025-05-08T19:09:31.100794Z",
     "start_time": "2025-05-08T19:09:31.096362Z"
    }
   },
   "id": "b880c639e0f772c0",
   "outputs": [],
   "execution_count": 16
  },
  {
   "cell_type": "markdown",
   "id": "60c99a1a-cc82-46ef-9e56-cf58a960dc54",
   "metadata": {},
   "source": [
    "### III. Random Forest (from my own implementation)\n",
    "Random forest works by training a large number of decision trees on the dataset and then averaging the predictions of individual trees to create the final prediction. Random forests are considered to be a very powerful and robust machine learning model because they can handle high-dimensional data, missing values, and outliers well. They are also relatively easy to use and do not require much hyperparameter tuning. In this task, I implemented my own random forest, so I will use my model."
   ]
  },
  {
   "cell_type": "code",
   "source": [
    "from sklearn.metrics import mean_squared_error, r2_score\n",
    "import numpy as np\n",
    "import warnings\n",
    "\n",
    "np.random.seed(42)\n",
    "\n",
    "from sklearn.utils import check_random_state\n",
    "random_state = check_random_state(42)\n",
    "\n",
    "warnings.filterwarnings(\"ignore\", category=UserWarning, message=\"X has feature names, but DecisionTreeRegressor was fitted without feature names\")\n",
    "\n",
    "# Converting Xtrain and ytrain to NumPy arrays\n",
    "Xtrain_np = np.array(Xtrain)\n",
    "ytrain_np = np.array(ytrain)\n",
    "\n",
    "# Creating an instance of CustomRandomForest without specifying hyperparameters\n",
    "initial_custom_rf = CustomRandomForest(random_state=random_state)\n",
    "\n",
    "# Training the model on the test data\n",
    "initial_custom_rf.fit(Xtrain_np, ytrain_np)\n",
    "\n",
    "# Prediction based on validation data\n",
    "y_pred_initial = initial_custom_rf.predict(Xval)\n",
    "\n",
    "# Metrics\n",
    "mse_initial = mean_squared_error(yval, y_pred_initial)\n",
    "rmse_initial = np.sqrt(mse_initial)\n",
    "r2_initial = r2_score(yval, y_pred_initial)\n",
    "\n",
    "print(f'Mean Squared Error: {mse_initial:.2f}')\n",
    "print(f'R-squared Score (R2): {r2_initial:.2f}')\n",
    "print(f'Root Mean Squared Error (RMSE): {rmse_initial:.2f}')"
   ],
   "metadata": {
    "collapsed": false,
    "ExecuteTime": {
     "end_time": "2025-05-08T19:09:31.254755Z",
     "start_time": "2025-05-08T19:09:31.121160Z"
    }
   },
   "id": "6368a38ed8473080",
   "outputs": [
    {
     "name": "stdout",
     "output_type": "stream",
     "text": [
      "Mean Squared Error: 5.29\n",
      "R-squared Score (R2): 0.94\n",
      "Root Mean Squared Error (RMSE): 2.30\n"
     ]
    }
   ],
   "execution_count": 17
  },
  {
   "cell_type": "markdown",
   "source": "The RMSE on validation data is quite good, but I will try to find the best hyperparameters.",
   "metadata": {
    "collapsed": false
   },
   "id": "8beae377baf2a73"
  },
  {
   "cell_type": "code",
   "source": [
    "from sklearn.model_selection import GridSearchCV\n",
    "from sklearn.metrics import mean_squared_error, r2_score\n",
    "import numpy as np\n",
    "import warnings\n",
    "\n",
    "warnings.filterwarnings(\"ignore\", category=UserWarning, message=\"X has feature names, but DecisionTreeRegressor was fitted without feature names\")\n",
    "\n",
    "np.random.seed(42)\n",
    "\n",
    "from sklearn.utils import check_random_state\n",
    "random_state = check_random_state(42)\n",
    "\n",
    "# Defining the parameter grid\n",
    "param_grid = {\n",
    "    'n_estimators': [60, 70, 80, 90, 100],\n",
    "    'max_samples': [0.5, 0.7, 1.0],\n",
    "    'max_depth': [3, 5, 7],\n",
    "    'random_state': [42]\n",
    "}\n",
    "\n",
    "# Instance of CustomRandomForest\n",
    "custom_rf = CustomRandomForest()\n",
    "\n",
    "# Creating the GridSearchCV object\n",
    "grid_search = GridSearchCV(estimator=custom_rf, param_grid=param_grid, scoring='neg_mean_squared_error', cv=3)\n",
    "\n",
    "# Model training\n",
    "grid_search.fit(Xtrain_np, ytrain_np)\n",
    "\n",
    "# Searching for the best combination of hyperparameters\n",
    "best_params = grid_search.best_params_\n",
    "print(\"Nejlepí hyperparametry:\")\n",
    "print(best_params)\n",
    "\n",
    "# Prediction based on validation data with the best hyperparameters\n",
    "best_custom_rf = grid_search.best_estimator_\n",
    "y_pred_best = best_custom_rf.predict(Xval)\n",
    "\n",
    "# Metrics\n",
    "mse_best = mean_squared_error(yval, y_pred_best)\n",
    "rmse_best = np.sqrt(mse_best)\n",
    "r2_best = r2_score(yval, y_pred_best)\n",
    "\n",
    "print(f'Mean Squared Error: {mse_best:.2f}')\n",
    "print(f'R-squared Score (R2): {r2_best:.2f}')\n",
    "print(f'Root Mean Squared Error (RMSE): {rmse_best:.2f}')"
   ],
   "metadata": {
    "collapsed": false,
    "ExecuteTime": {
     "end_time": "2025-05-08T19:10:02.795407Z",
     "start_time": "2025-05-08T19:09:31.276612Z"
    }
   },
   "id": "e7d7553146435755",
   "outputs": [
    {
     "name": "stdout",
     "output_type": "stream",
     "text": [
      "Nejlepí hyperparametry:\n",
      "{'max_depth': 7, 'max_samples': 1.0, 'n_estimators': 60, 'random_state': 42}\n",
      "Mean Squared Error: 5.80\n",
      "R-squared Score (R2): 0.94\n",
      "Root Mean Squared Error (RMSE): 2.41\n"
     ]
    }
   ],
   "execution_count": 18
  },
  {
   "cell_type": "markdown",
   "id": "ea20c192-950d-40fd-b859-2993419357f1",
   "metadata": {},
   "source": [
    "Next, I will train a linear regression model and AdaBoost, and compare their results.\n",
    "\n",
    "### IV. Linear Regression\n",
    "Using linear regression might be appropriate if there is a linear relationship between the selected features and the predicted variable (in our case, life expectancy). It is important to consider the assumptions of linear regression, such as the normal distribution of errors and the independence of errors. Some limitations include nonlinearity in the relationship and sensitivity to outliers. Before using the model, it is advisable to carefully analyze the data and consider alternative methods.\n"
   ]
  },
  {
   "cell_type": "code",
   "id": "35f31e94-857f-4e31-ad30-16e5cd8f46fa",
   "metadata": {
    "ExecuteTime": {
     "end_time": "2025-05-08T19:10:02.816175Z",
     "start_time": "2025-05-08T19:10:02.808928Z"
    }
   },
   "source": [
    "import warnings\n",
    "warnings.simplefilter(action='ignore', category=UserWarning)\n",
    "\n",
    "from sklearn.linear_model import LinearRegression\n",
    "from sklearn.metrics import mean_squared_error, r2_score\n",
    "\n",
    "# LinearRegression instance\n",
    "linreg_model = LinearRegression()\n",
    "\n",
    "# Model training\n",
    "linreg_model.fit(Xtrain, ytrain)\n",
    "\n",
    "# Prediction based on validation data\n",
    "y_pred = linreg_model.predict(Xval)\n",
    "\n",
    "# Metrics\n",
    "mse = mean_squared_error(yval, y_pred)\n",
    "rmse = np.sqrt(mse)\n",
    "r2 = r2_score(yval, y_pred)\n",
    "\n",
    "print(f'Mean Squared Error: {mse:.2f}')\n",
    "print(f'R-squared Score (R2): {r2:.2f}')\n",
    "print(f'Root Mean Squared Error (RMSE): {rmse:.2f}')"
   ],
   "outputs": [
    {
     "name": "stdout",
     "output_type": "stream",
     "text": [
      "Mean Squared Error: 18.41\n",
      "R-squared Score (R2): 0.80\n",
      "Root Mean Squared Error (RMSE): 4.29\n"
     ]
    }
   ],
   "execution_count": 19
  },
  {
   "cell_type": "code",
   "id": "5fe9dad5-d93c-4a8f-a4e1-4ec0872fbfdd",
   "metadata": {
    "ExecuteTime": {
     "end_time": "2025-05-08T19:10:02.953596Z",
     "start_time": "2025-05-08T19:10:02.863222Z"
    }
   },
   "source": [
    "plt.scatter(yval, y_pred, color='skyblue', marker='o', label='Actual vs. Predicted')\n",
    "plt.plot([min(yval), max(yval)], [min(yval), max(yval)], color='r', label='Perfect Predictions')\n",
    "\n",
    "plt.xlabel('Actual Values')\n",
    "plt.ylabel('Predicted Values')\n",
    "\n",
    "plt.legend()\n",
    "\n",
    "plt.title('Linear Regression')\n",
    "plt.show()"
   ],
   "outputs": [
    {
     "data": {
      "text/plain": [
       "<Figure size 640x480 with 1 Axes>"
      ],
      "image/png": "[encoded data removed]"
     },
     "metadata": {},
     "output_type": "display_data"
    }
   ],
   "execution_count": 20
  },
  {
   "cell_type": "markdown",
   "id": "9641de2d-022b-4828-a714-dd97a3352f55",
   "metadata": {},
   "source": [
    "It can be seen that the RMSE value of the linear regression is not good enough (4.29). The linear regression model does not have hyperparameters that can be improved, so in the next step, I will use a ridge regression model, where I will try to find some optimal hyperparameters to achieve a more accurate prediction of the explained variable.\n",
    "\n",
    "### V. Ridge Regression\n",
    "\n",
    "Using ridge regression is appropriate if there is suspicion of multicollinearity among the explanatory variables. Ridge regression helps normalize (\"shrink\") the estimates of the coefficients in linear regression. This means that the predicted parameters are pushed toward zero to improve their performance on new data sets. This allows the use of sophisticated models while avoiding overfitting."
   ]
  },
  {
   "cell_type": "code",
   "id": "9582b84b-7854-48d3-97fc-bbc593ba8ddb",
   "metadata": {
    "ExecuteTime": {
     "end_time": "2025-05-08T19:10:03.011948Z",
     "start_time": "2025-05-08T19:10:02.998831Z"
    }
   },
   "source": [
    "import warnings\n",
    "from sklearn.linear_model import Ridge\n",
    "\n",
    "warnings.simplefilter(action='ignore', category=RuntimeWarning)\n",
    "\n",
    "ridge_model = Ridge(1)\n",
    "\n",
    "ridge_model.fit(Xtrain, ytrain)\n",
    "\n",
    "y_pred = ridge_model.predict(Xval)\n",
    "\n",
    "mse = mean_squared_error(yval, y_pred)\n",
    "rmse = np.sqrt(mse)\n",
    "r2 = r2_score(yval, y_pred)\n",
    "\n",
    "print(f'Mean Squared Error: {mse:.2f}')\n",
    "print(f'R-squared Score (R2): {r2:.2f}')\n",
    "print(f'Root Mean Squared Error (RMSE): {rmse:.2f}')"
   ],
   "outputs": [
    {
     "name": "stdout",
     "output_type": "stream",
     "text": [
      "Mean Squared Error: 18.40\n",
      "R-squared Score (R2): 0.80\n",
      "Root Mean Squared Error (RMSE): 4.29\n"
     ]
    }
   ],
   "execution_count": 21
  },
  {
   "cell_type": "code",
   "id": "81a8c5ad-b384-4681-8d9f-1aacf2462ab4",
   "metadata": {
    "ExecuteTime": {
     "end_time": "2025-05-08T19:10:03.137377Z",
     "start_time": "2025-05-08T19:10:03.063207Z"
    }
   },
   "source": [
    "plt.scatter(yval, y_pred, color='skyblue', marker='o', label='Actual vs. Predicted')\n",
    "\n",
    "plt.plot([min(yval), max(yval)], [min(yval), max(yval)], color='red', label='Perfect Predictions')\n",
    "\n",
    "plt.xlabel('Actual Values')\n",
    "plt.ylabel('Predicted Values')\n",
    "\n",
    "plt.legend()\n",
    "\n",
    "plt.title('Ridge Regression')\n",
    "plt.show()"
   ],
   "outputs": [
    {
     "data": {
      "text/plain": [
       "<Figure size 640x480 with 1 Axes>"
      ],
      "image/png": "[encoded data removed]"
     },
     "metadata": {},
     "output_type": "display_data"
    }
   ],
   "execution_count": 22
  },
  {
   "cell_type": "markdown",
   "source": "RMSE is the same so far. I will try to find the best hyperparameters using GridSearchCV.",
   "metadata": {
    "collapsed": false
   },
   "id": "fc99dbca2188bde5"
  },
  {
   "cell_type": "code",
   "source": [
    "from sklearn.model_selection import GridSearchCV\n",
    "\n",
    "param_grid = {'alpha': np.linspace(0.1, 100, 100)}\n",
    "\n",
    "ridge = Ridge()\n",
    "grid_search_ridge = GridSearchCV(ridge, param_grid, cv=5, scoring='neg_mean_squared_error')\n",
    "grid_search_ridge.fit(Xtrain, ytrain)\n",
    "\n",
    "# Best hyperparameters\n",
    "best_alpha_ridge = grid_search_ridge.best_params_['alpha']\n",
    "\n",
    "# Ridge regression training with the best hyperparameters\n",
    "ridge_model = Ridge(alpha=best_alpha_ridge)\n",
    "ridge_model.fit(Xtrain, ytrain)\n",
    "\n",
    "# Prediction based on validation data\n",
    "predictions_ridge = ridge_model.predict(Xval)\n",
    "\n",
    "# Metrics on validation data\n",
    "mse_ridge = mean_squared_error(yval, predictions_ridge)\n",
    "rmse_ridge = np.sqrt(mse_ridge)\n",
    "print(f'Ridge Validation Root Mean Squared Error (RMSE): {rmse_ridge:.2f}')"
   ],
   "metadata": {
    "collapsed": false,
    "ExecuteTime": {
     "end_time": "2025-05-08T19:10:04.015203Z",
     "start_time": "2025-05-08T19:10:03.169705Z"
    }
   },
   "id": "7de4b95d1082f370",
   "outputs": [
    {
     "name": "stdout",
     "output_type": "stream",
     "text": [
      "Ridge Validation Root Mean Squared Error (RMSE): 4.29\n"
     ]
    }
   ],
   "execution_count": 23
  },
  {
   "cell_type": "code",
   "source": [
    "from sklearn.model_selection import GridSearchCV\n",
    "import numpy as np\n",
    "from sklearn.metrics import mean_squared_error\n",
    "from sklearn.linear_model import Ridge\n",
    "\n",
    "param_grid = {'alpha': np.logspace(-3, 3, 100)} \n",
    "\n",
    "ridge = Ridge()\n",
    "grid_search_ridge = GridSearchCV(ridge, param_grid, cv=5, scoring='neg_mean_squared_error')\n",
    "grid_search_ridge.fit(Xtrain, ytrain)\n",
    "\n",
    "# Best hyperparameters\n",
    "best_alpha_ridge = grid_search_ridge.best_params_['alpha']\n",
    "\n",
    "# Training the model with the best hyperparameters\n",
    "ridge_model = Ridge(alpha=best_alpha_ridge)\n",
    "ridge_model.fit(Xtrain, ytrain)\n",
    "\n",
    "# Prediction based on validation data\n",
    "predictions_ridge = ridge_model.predict(Xval)\n",
    "\n",
    "# RMSE on validation data\n",
    "rmse_val = np.sqrt(mean_squared_error(yval, predictions_ridge))\n",
    "\n",
    "print(f'The best alpha is {best_alpha_ridge} which gives RMSE on the validation set {rmse_val:.2f}')"
   ],
   "metadata": {
    "collapsed": false,
    "ExecuteTime": {
     "end_time": "2025-05-08T19:10:04.917117Z",
     "start_time": "2025-05-08T19:10:04.049451Z"
    }
   },
   "id": "d3a6db1617685ba0",
   "outputs": [
    {
     "name": "stdout",
     "output_type": "stream",
     "text": [
      "The best alpha is 2.848035868435802 which gives RMSE on the validation set 4.29\n"
     ]
    }
   ],
   "execution_count": 24
  },
  {
   "cell_type": "markdown",
   "id": "ff83ff8a-1053-41f0-8a00-05533104f476",
   "metadata": {},
   "source": [
    "Even after tuning the hyperparameters, I ended up with the same RMSE for both linear and ridge regression. This can be explained by the fact that if the data do not contain strong multicollinearity, or if regularization has no significant effect, ridge regression may perform similarly to linear regression. The final model will be AdaBoost.\n",
    "\n",
    "### VI. AdaBoost (Regression)\n",
    "\n",
    "AdaBoost (Adaptive Boosting) is more commonly used for classification tasks rather than regression. However, by adjusting its application, it can be adapted for regression problems as well. In regression, AdaBoost can be useful when it's necessary to combine multiple weak learners (simple models) to build a strong regression model. It gradually adapts to the data by giving more weight to instances that were poorly predicted in previous rounds. This makes AdaBoost suitable for scenarios where the relationships between features and the target variable are complex and may involve nonlinear patterns."
   ]
  },
  {
   "cell_type": "code",
   "source": [
    "from sklearn.ensemble import AdaBoostRegressor\n",
    "from sklearn.tree import DecisionTreeRegressor\n",
    "from sklearn.metrics import mean_squared_error, r2_score\n",
    "from math import sqrt\n",
    "\n",
    "# DataFrame to NumPy array conversion\n",
    "Xtrain_np = np.array(Xtrain)\n",
    "ytrain_np = np.array(ytrain)\n",
    "Xval_np = np.array(Xval)\n",
    "yval_np = np.array(yval)\n",
    "Xtest_np = np.array(Xtest)\n",
    "ytest_np = np.array(ytest)\n",
    "\n",
    "# Creating a weak regression model (usually DecisionTreeRegressor)\n",
    "weak_regressor = DecisionTreeRegressor(max_depth=3)\n",
    "\n",
    "# Creating an AdaBoostRegressor\n",
    "adaboost_regressor = AdaBoostRegressor(estimator=weak_regressor, n_estimators=50, random_state=42)\n",
    "\n",
    "# Model training\n",
    "adaboost_regressor.fit(Xtrain_np, ytrain_np)\n",
    "\n",
    "# Prediction based on validation data\n",
    "predictions = adaboost_regressor.predict(Xval_np)\n",
    "\n",
    "# Metrics\n",
    "mse = mean_squared_error(yval_np, predictions)\n",
    "rmse = sqrt(mse)\n",
    "r2 = r2_score(yval_np, predictions)\n",
    "\n",
    "print(f'Mean Squared Error: {mse:.2f}')\n",
    "print(f'R-squared Score (R2): {r2:.2f}')\n",
    "print(f'Root Mean Squared Error (RMSE): {rmse:.2f}')"
   ],
   "metadata": {
    "collapsed": false,
    "ExecuteTime": {
     "end_time": "2025-05-08T19:10:05.134058Z",
     "start_time": "2025-05-08T19:10:04.951372Z"
    }
   },
   "id": "7d3e90f73bf9e96a",
   "outputs": [
    {
     "name": "stdout",
     "output_type": "stream",
     "text": [
      "Mean Squared Error: 10.10\n",
      "R-squared Score (R2): 0.89\n",
      "Root Mean Squared Error (RMSE): 3.18\n"
     ]
    }
   ],
   "execution_count": 25
  },
  {
   "cell_type": "markdown",
   "source": "The RMSE on the validation data so far is 3.18. Now I will try to find better hyperparameters to improve it.",
   "metadata": {
    "collapsed": false
   },
   "id": "c09145b8683a87f8"
  },
  {
   "cell_type": "code",
   "source": [
    "from sklearn.model_selection import ParameterGrid\n",
    "import sklearn.metrics as metrics\n",
    "\n",
    "param_grid = {\n",
    "    'n_estimators': range(10, 100, 10),\n",
    "    'max_depth': range(3,7)\n",
    "}\n",
    "Xtrain = np.array(Xtrain, \"float64\")\n",
    "Xval = np.array(Xval, \"float64\")\n",
    "ytrain = np.array(ytrain, \"float64\")\n",
    "yval = np.array(yval, \"float64\")\n",
    "\n",
    "param_comb = ParameterGrid(param_grid)\n",
    "\n",
    "val_metric = []\n",
    "for params in param_comb:\n",
    "    dt_depth = params.pop(\"max_depth\")\n",
    "    params[\"estimator\"] = DecisionTreeRegressor(max_depth = dt_depth)\n",
    "    dt = AdaBoostRegressor(**params, random_state = 42).fit(Xtrain, ytrain)\n",
    "    val_metric.append(metrics.mean_squared_error(yval, dt.predict(Xval), squared = False))\n",
    "\n",
    "best_params = param_comb[np.argmin(val_metric)]\n",
    "print(f'The best params are {best_params} with validation RMSE {min(val_metric):.2f}.')"
   ],
   "metadata": {
    "collapsed": false,
    "ExecuteTime": {
     "end_time": "2025-05-08T19:10:12.758526Z",
     "start_time": "2025-05-08T19:10:05.175194Z"
    }
   },
   "id": "104f10d2cf45a5a8",
   "outputs": [
    {
     "name": "stderr",
     "output_type": "stream",
     "text": [
      "/Users/Nelly/Library/Python/3.9/lib/python/site-packages/sklearn/metrics/_regression.py:492: FutureWarning: 'squared' is deprecated in version 1.4 and will be removed in 1.6. To calculate the root mean squared error, use the function'root_mean_squared_error'.\n",
      "  warnings.warn(\n",
      "/Users/Nelly/Library/Python/3.9/lib/python/site-packages/sklearn/metrics/_regression.py:492: FutureWarning: 'squared' is deprecated in version 1.4 and will be removed in 1.6. To calculate the root mean squared error, use the function'root_mean_squared_error'.\n",
      "  warnings.warn(\n",
      "/Users/Nelly/Library/Python/3.9/lib/python/site-packages/sklearn/metrics/_regression.py:492: FutureWarning: 'squared' is deprecated in version 1.4 and will be removed in 1.6. To calculate the root mean squared error, use the function'root_mean_squared_error'.\n",
      "  warnings.warn(\n",
      "/Users/Nelly/Library/Python/3.9/lib/python/site-packages/sklearn/metrics/_regression.py:492: FutureWarning: 'squared' is deprecated in version 1.4 and will be removed in 1.6. To calculate the root mean squared error, use the function'root_mean_squared_error'.\n",
      "  warnings.warn(\n",
      "/Users/Nelly/Library/Python/3.9/lib/python/site-packages/sklearn/metrics/_regression.py:492: FutureWarning: 'squared' is deprecated in version 1.4 and will be removed in 1.6. To calculate the root mean squared error, use the function'root_mean_squared_error'.\n",
      "  warnings.warn(\n",
      "/Users/Nelly/Library/Python/3.9/lib/python/site-packages/sklearn/metrics/_regression.py:492: FutureWarning: 'squared' is deprecated in version 1.4 and will be removed in 1.6. To calculate the root mean squared error, use the function'root_mean_squared_error'.\n",
      "  warnings.warn(\n",
      "/Users/Nelly/Library/Python/3.9/lib/python/site-packages/sklearn/metrics/_regression.py:492: FutureWarning: 'squared' is deprecated in version 1.4 and will be removed in 1.6. To calculate the root mean squared error, use the function'root_mean_squared_error'.\n",
      "  warnings.warn(\n",
      "/Users/Nelly/Library/Python/3.9/lib/python/site-packages/sklearn/metrics/_regression.py:492: FutureWarning: 'squared' is deprecated in version 1.4 and will be removed in 1.6. To calculate the root mean squared error, use the function'root_mean_squared_error'.\n",
      "  warnings.warn(\n",
      "/Users/Nelly/Library/Python/3.9/lib/python/site-packages/sklearn/metrics/_regression.py:492: FutureWarning: 'squared' is deprecated in version 1.4 and will be removed in 1.6. To calculate the root mean squared error, use the function'root_mean_squared_error'.\n",
      "  warnings.warn(\n",
      "/Users/Nelly/Library/Python/3.9/lib/python/site-packages/sklearn/metrics/_regression.py:492: FutureWarning: 'squared' is deprecated in version 1.4 and will be removed in 1.6. To calculate the root mean squared error, use the function'root_mean_squared_error'.\n",
      "  warnings.warn(\n",
      "/Users/Nelly/Library/Python/3.9/lib/python/site-packages/sklearn/metrics/_regression.py:492: FutureWarning: 'squared' is deprecated in version 1.4 and will be removed in 1.6. To calculate the root mean squared error, use the function'root_mean_squared_error'.\n",
      "  warnings.warn(\n",
      "/Users/Nelly/Library/Python/3.9/lib/python/site-packages/sklearn/metrics/_regression.py:492: FutureWarning: 'squared' is deprecated in version 1.4 and will be removed in 1.6. To calculate the root mean squared error, use the function'root_mean_squared_error'.\n",
      "  warnings.warn(\n",
      "/Users/Nelly/Library/Python/3.9/lib/python/site-packages/sklearn/metrics/_regression.py:492: FutureWarning: 'squared' is deprecated in version 1.4 and will be removed in 1.6. To calculate the root mean squared error, use the function'root_mean_squared_error'.\n",
      "  warnings.warn(\n",
      "/Users/Nelly/Library/Python/3.9/lib/python/site-packages/sklearn/metrics/_regression.py:492: FutureWarning: 'squared' is deprecated in version 1.4 and will be removed in 1.6. To calculate the root mean squared error, use the function'root_mean_squared_error'.\n",
      "  warnings.warn(\n",
      "/Users/Nelly/Library/Python/3.9/lib/python/site-packages/sklearn/metrics/_regression.py:492: FutureWarning: 'squared' is deprecated in version 1.4 and will be removed in 1.6. To calculate the root mean squared error, use the function'root_mean_squared_error'.\n",
      "  warnings.warn(\n",
      "/Users/Nelly/Library/Python/3.9/lib/python/site-packages/sklearn/metrics/_regression.py:492: FutureWarning: 'squared' is deprecated in version 1.4 and will be removed in 1.6. To calculate the root mean squared error, use the function'root_mean_squared_error'.\n",
      "  warnings.warn(\n",
      "/Users/Nelly/Library/Python/3.9/lib/python/site-packages/sklearn/metrics/_regression.py:492: FutureWarning: 'squared' is deprecated in version 1.4 and will be removed in 1.6. To calculate the root mean squared error, use the function'root_mean_squared_error'.\n",
      "  warnings.warn(\n",
      "/Users/Nelly/Library/Python/3.9/lib/python/site-packages/sklearn/metrics/_regression.py:492: FutureWarning: 'squared' is deprecated in version 1.4 and will be removed in 1.6. To calculate the root mean squared error, use the function'root_mean_squared_error'.\n",
      "  warnings.warn(\n",
      "/Users/Nelly/Library/Python/3.9/lib/python/site-packages/sklearn/metrics/_regression.py:492: FutureWarning: 'squared' is deprecated in version 1.4 and will be removed in 1.6. To calculate the root mean squared error, use the function'root_mean_squared_error'.\n",
      "  warnings.warn(\n",
      "/Users/Nelly/Library/Python/3.9/lib/python/site-packages/sklearn/metrics/_regression.py:492: FutureWarning: 'squared' is deprecated in version 1.4 and will be removed in 1.6. To calculate the root mean squared error, use the function'root_mean_squared_error'.\n",
      "  warnings.warn(\n",
      "/Users/Nelly/Library/Python/3.9/lib/python/site-packages/sklearn/metrics/_regression.py:492: FutureWarning: 'squared' is deprecated in version 1.4 and will be removed in 1.6. To calculate the root mean squared error, use the function'root_mean_squared_error'.\n",
      "  warnings.warn(\n",
      "/Users/Nelly/Library/Python/3.9/lib/python/site-packages/sklearn/metrics/_regression.py:492: FutureWarning: 'squared' is deprecated in version 1.4 and will be removed in 1.6. To calculate the root mean squared error, use the function'root_mean_squared_error'.\n",
      "  warnings.warn(\n",
      "/Users/Nelly/Library/Python/3.9/lib/python/site-packages/sklearn/metrics/_regression.py:492: FutureWarning: 'squared' is deprecated in version 1.4 and will be removed in 1.6. To calculate the root mean squared error, use the function'root_mean_squared_error'.\n",
      "  warnings.warn(\n",
      "/Users/Nelly/Library/Python/3.9/lib/python/site-packages/sklearn/metrics/_regression.py:492: FutureWarning: 'squared' is deprecated in version 1.4 and will be removed in 1.6. To calculate the root mean squared error, use the function'root_mean_squared_error'.\n",
      "  warnings.warn(\n",
      "/Users/Nelly/Library/Python/3.9/lib/python/site-packages/sklearn/metrics/_regression.py:492: FutureWarning: 'squared' is deprecated in version 1.4 and will be removed in 1.6. To calculate the root mean squared error, use the function'root_mean_squared_error'.\n",
      "  warnings.warn(\n",
      "/Users/Nelly/Library/Python/3.9/lib/python/site-packages/sklearn/metrics/_regression.py:492: FutureWarning: 'squared' is deprecated in version 1.4 and will be removed in 1.6. To calculate the root mean squared error, use the function'root_mean_squared_error'.\n",
      "  warnings.warn(\n",
      "/Users/Nelly/Library/Python/3.9/lib/python/site-packages/sklearn/metrics/_regression.py:492: FutureWarning: 'squared' is deprecated in version 1.4 and will be removed in 1.6. To calculate the root mean squared error, use the function'root_mean_squared_error'.\n",
      "  warnings.warn(\n",
      "/Users/Nelly/Library/Python/3.9/lib/python/site-packages/sklearn/metrics/_regression.py:492: FutureWarning: 'squared' is deprecated in version 1.4 and will be removed in 1.6. To calculate the root mean squared error, use the function'root_mean_squared_error'.\n",
      "  warnings.warn(\n",
      "/Users/Nelly/Library/Python/3.9/lib/python/site-packages/sklearn/metrics/_regression.py:492: FutureWarning: 'squared' is deprecated in version 1.4 and will be removed in 1.6. To calculate the root mean squared error, use the function'root_mean_squared_error'.\n",
      "  warnings.warn(\n",
      "/Users/Nelly/Library/Python/3.9/lib/python/site-packages/sklearn/metrics/_regression.py:492: FutureWarning: 'squared' is deprecated in version 1.4 and will be removed in 1.6. To calculate the root mean squared error, use the function'root_mean_squared_error'.\n",
      "  warnings.warn(\n",
      "/Users/Nelly/Library/Python/3.9/lib/python/site-packages/sklearn/metrics/_regression.py:492: FutureWarning: 'squared' is deprecated in version 1.4 and will be removed in 1.6. To calculate the root mean squared error, use the function'root_mean_squared_error'.\n",
      "  warnings.warn(\n",
      "/Users/Nelly/Library/Python/3.9/lib/python/site-packages/sklearn/metrics/_regression.py:492: FutureWarning: 'squared' is deprecated in version 1.4 and will be removed in 1.6. To calculate the root mean squared error, use the function'root_mean_squared_error'.\n",
      "  warnings.warn(\n",
      "/Users/Nelly/Library/Python/3.9/lib/python/site-packages/sklearn/metrics/_regression.py:492: FutureWarning: 'squared' is deprecated in version 1.4 and will be removed in 1.6. To calculate the root mean squared error, use the function'root_mean_squared_error'.\n",
      "  warnings.warn(\n",
      "/Users/Nelly/Library/Python/3.9/lib/python/site-packages/sklearn/metrics/_regression.py:492: FutureWarning: 'squared' is deprecated in version 1.4 and will be removed in 1.6. To calculate the root mean squared error, use the function'root_mean_squared_error'.\n",
      "  warnings.warn(\n",
      "/Users/Nelly/Library/Python/3.9/lib/python/site-packages/sklearn/metrics/_regression.py:492: FutureWarning: 'squared' is deprecated in version 1.4 and will be removed in 1.6. To calculate the root mean squared error, use the function'root_mean_squared_error'.\n",
      "  warnings.warn(\n"
     ]
    },
    {
     "name": "stdout",
     "output_type": "stream",
     "text": [
      "The best params are {'n_estimators': 90, 'max_depth': 6} with validation RMSE 2.31.\n"
     ]
    },
    {
     "name": "stderr",
     "output_type": "stream",
     "text": [
      "/Users/Nelly/Library/Python/3.9/lib/python/site-packages/sklearn/metrics/_regression.py:492: FutureWarning: 'squared' is deprecated in version 1.4 and will be removed in 1.6. To calculate the root mean squared error, use the function'root_mean_squared_error'.\n",
      "  warnings.warn(\n"
     ]
    }
   ],
   "execution_count": 26
  },
  {
   "cell_type": "markdown",
   "source": "You can see that the parameter is now significantly improved, so I can list the values of other metrics (MSE, R2).",
   "metadata": {
    "collapsed": false
   },
   "id": "2e0e0c49a9b10ce9"
  },
  {
   "cell_type": "code",
   "source": [
    "weak_regressor = DecisionTreeRegressor(max_depth=best_params['max_depth'])\n",
    "\n",
    "adaboost_regressor_best = AdaBoostRegressor(\n",
    "    estimator=weak_regressor,\n",
    "    n_estimators=best_params['n_estimators'],  # Use the best n_estimators\n",
    "    random_state=42\n",
    ")\n",
    "\n",
    "adaboost_regressor_best.fit(Xtrain_np, ytrain_np)\n",
    "\n",
    "predictions_val = adaboost_regressor_best.predict(Xval_np)\n",
    "\n",
    "mse_val = mean_squared_error(yval_np, predictions_val)\n",
    "\n",
    "rmse_val = sqrt(mse_val)\n",
    "\n",
    "r2_val = r2_score(yval_np, predictions_val)\n",
    "\n",
    "print(f'Validation Mean Squared Error: {mse_val:.2f}')\n",
    "print(f'Validation R-squared Score (R2): {r2_val:.2f}')\n",
    "print(f'Validation Root Mean Squared Error (RMSE): {rmse_val:.2f}')"
   ],
   "metadata": {
    "collapsed": false,
    "ExecuteTime": {
     "end_time": "2025-05-08T19:10:13.349689Z",
     "start_time": "2025-05-08T19:10:12.881690Z"
    }
   },
   "id": "f4980cc16f2901af",
   "outputs": [
    {
     "name": "stdout",
     "output_type": "stream",
     "text": [
      "Validation Mean Squared Error: 5.33\n",
      "Validation R-squared Score (R2): 0.94\n",
      "Validation Root Mean Squared Error (RMSE): 2.31\n"
     ]
    }
   ],
   "execution_count": 27
  },
  {
   "cell_type": "markdown",
   "id": "f2edea2e-4de9-4947-9494-7fb936c8a6b5",
   "metadata": {},
   "source": [
    "### VII. Final model selection and prediction\n",
    "\n",
    "Overall, it turned out that my best model is AdaBoost (RMSE 2.24). Now I will test what accuracy can be expected on data that the model has not seen before. For this, I will use the test dataset."
   ]
  },
  {
   "cell_type": "code",
   "source": [
    "from sklearn.ensemble import AdaBoostRegressor\n",
    "\n",
    "best_adaboost = AdaBoostRegressor(\n",
    "    estimator=DecisionTreeRegressor(max_depth=6),\n",
    "    n_estimators=90,\n",
    "    random_state=42\n",
    ")\n",
    "\n",
    "best_adaboost.fit(Xtrain_np, ytrain_np)\n",
    "\n",
    "y_pred_test_adaboost = best_adaboost.predict(Xtest)\n",
    "\n",
    "mse_test_adaboost = mean_squared_error(ytest, y_pred_test_adaboost)\n",
    "rmse_test_adaboost = np.sqrt(mse_test_adaboost)\n",
    "r2_test_adaboost = r2_score(ytest, y_pred_test_adaboost)\n",
    "\n",
    "print(\"Metrics for AdaBoost on the Test Set:\")\n",
    "print(f'Mean Squared Error: {mse_test_adaboost:.2f}')\n",
    "print(f'R-squared Score (R2): {r2_test_adaboost:.2f}')\n",
    "print(f'Root Mean Squared Error (RMSE): {rmse_test_adaboost:.2f}')"
   ],
   "metadata": {
    "collapsed": false,
    "ExecuteTime": {
     "end_time": "2025-05-08T19:10:13.846090Z",
     "start_time": "2025-05-08T19:10:13.382081Z"
    }
   },
   "id": "fa85ffa52d168e9e",
   "outputs": [
    {
     "name": "stdout",
     "output_type": "stream",
     "text": [
      "Metrics for AdaBoost on the Test Set:\n",
      "Mean Squared Error: 4.39\n",
      "R-squared Score (R2): 0.95\n",
      "Root Mean Squared Error (RMSE): 2.10\n"
     ]
    }
   ],
   "execution_count": 28
  },
  {
   "cell_type": "markdown",
   "source": "This resulting model is now applicable to predict the \"Life expectancy\" attribute.",
   "metadata": {
    "collapsed": false
   },
   "id": "7d9c2f45025e68b3"
  },
  {
   "cell_type": "code",
   "source": [
    "# Selecting elements from the ecountries dataset\n",
    "X_ecountries = ecountries.drop(['Country'], axis=1)\n",
    "\n",
    "# Making predictions based on the ecountries dataset\n",
    "y_pred_ecountries = best_adaboost.predict(X_ecountries)\n",
    "\n",
    "# Adding forecasts to the ecountries dataset\n",
    "ecountries['Predicted_Life_Expectancy'] = y_pred_ecountries\n",
    "\n",
    "# Create a DataFrame with columns \"Country\", \"Year\" and \"Predicted_Life_Expectancy\"\n",
    "results_df = ecountries[['Country', 'Year', 'Predicted_Life_Expectancy']]\n",
    "\n",
    "# Rename the column \"Predicted_Life_Expectancy\" to \"Life expectancy\"\n",
    "results_df = results_df.rename(columns={'Predicted_Life_Expectancy': 'Life expectancy'})\n",
    "\n",
    "# Save DataFrame to CSV file\n",
    "results_df.to_csv('results.csv', index=False)\n",
    "\n",
    "# Display the first few rows of the DataFrame result\n",
    "print(results_df.head())"
   ],
   "metadata": {
    "collapsed": false,
    "ExecuteTime": {
     "end_time": "2025-05-08T19:10:13.893139Z",
     "start_time": "2025-05-08T19:10:13.882112Z"
    }
   },
   "id": "babb75d1a3718554",
   "outputs": [
    {
     "name": "stdout",
     "output_type": "stream",
     "text": [
      "      Country  Year  Life expectancy\n",
      "0  Azerbaijan  2015        74.946241\n",
      "1  Azerbaijan  2014        74.621552\n",
      "2  Azerbaijan  2013        74.249580\n",
      "3  Azerbaijan  2012        74.648447\n",
      "4  Azerbaijan  2011        74.451020\n"
     ]
    }
   ],
   "execution_count": 29
  },
  {
   "cell_type": "markdown",
   "id": "a0865f42-dc01-4248-a977-9ff77104ffdc",
   "metadata": {},
   "source": [
    "### VIII. Conclusion\n",
    "\n",
    "I performed an analysis of the WHO dataset (data.csv) with the goal of predicting life expectancy in various countries (and years) based on several features. A total of four regression models were created, and the one with the best hyperparameters—AdaBoost—was identified. Based on this model, a final prediction was made using the evaluation.csv dataset. The results were saved to results.csv."
   ]
  },
  {
   "metadata": {
    "ExecuteTime": {
     "end_time": "2025-05-08T19:10:13.932166Z",
     "start_time": "2025-05-08T19:10:13.930728Z"
    }
   },
   "cell_type": "code",
   "source": "",
   "id": "637a60a7b30fff58",
   "outputs": [],
   "execution_count": null
  }
 ],
 "metadata": {
  "kernelspec": {
   "display_name": "Python 3 (ipykernel)",
   "language": "python",
   "name": "python3"
  },
  "language_info": {
   "codemirror_mode": {
    "name": "ipython",
    "version": 3
   },
   "file_extension": ".py",
   "mimetype": "text/x-python",
   "name": "python",
   "nbconvert_exporter": "python",
   "pygments_lexer": "ipython3",
   "version": "3.11.7"
  }
 },
 "nbformat": 4,
 "nbformat_minor": 5
}
